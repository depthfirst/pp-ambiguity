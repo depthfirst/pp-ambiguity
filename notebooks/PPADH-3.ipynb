{
 "cells": [
  {
   "cell_type": "markdown",
   "metadata": {},
   "source": [
    "This notebook is based largely on the prior works of Patrick Pantel and Dekang Lin (1999). \n",
    "\n",
    "The primary purpose here is to classify a given sentence as having prepositional phrase attachment ambiguity. A syntactic parse is required. \n",
    "\n",
    "Secondary purpose will be to enumerate the candidate attachment sites for those sentences with ambiguities. \n",
    "\n",
    "Once this work is completed, we can use it to analyze sentences with prepositional phrases, both with and without ambiguities, and look for interesting of distinguishing patterns or characteristics. Following Pantel and Lin's approach, we can use the distribution of words across the unambiguous cases to predict the ambiguous cases in an unsupervised manner. \n",
    "\n",
    "Pantel and Lin define ambiguous cases of the form (V, N1, P, N2). \n",
    "\n",
    "They define unambiguous cases as of the forms (N1, P, N2) and (V, P, N2). \n",
    "\n",
    "I'm not sure I agree with this. What about... \n",
    "\n",
    "(P, N2, P, N3)? based on above, this is said to be unambiguous. I disagree. \n",
    "    sub (V, P, N2, P, N3)? \n",
    "    sub (N1, P, N2, P, N3)? \n",
    "\n",
    "I carried my golf clubs with new grips on graphite shafts with cavity-backed blades over my shoulder. \n",
    "\n",
    "I carried my golf clubs with new grips over my shoulder. \n",
    "I carried my golf clubs with new grips from the pro shop. \n",
    "\n",
    "I carried my golf bag with the new irons from the pro shop. \n",
    "I carried my golf bag across the 15th fairway to the pro shop. \n",
    "I carried my golf bag with my friend Jim across the 15th fairway. \n",
    "I carried my golf bag to the pro shop with my friend Jim. \n",
    "\n",
    "All of form...\n",
    "\n",
    "N, V, N, P, N, P, N\n",
    "\n",
    "Bah! Matches first rule. \n",
    "\n",
    "N, V, N, P, N, P, N, P, N\n",
    "\n",
    "I'm calling that ambiguous. \n",
    "\n",
    "hence the only unambiguous cases would be of the form... \n",
    "\n",
    "(V, P, N2) or maybe\n",
    "(N, P, N, V)\n",
    "\n",
    "The man with the horse offered me a job. \n",
    "\n",
    "These heuristics must be ranked... first match fires, done. \n",
    "(cooler way to say that?)\n",
    "disjunctive heuristics? \n",
    "decision trees? \n",
    "\n",
    "(V, N, P, N) => ambiguous (these cats)\n",
    "(V, P, N) => unambiguous (yea. them cats)\n",
    "They say...\n",
    "N, P, N => unambiguous\n",
    "\n",
    "I say...\n",
    "\n",
    "(V, P, N, P, N) => ambiguous (I made this!)\n",
    "I walked with my golf bag to the clubhouse. \n",
    "I walked with my golf bag in a pullcart. \n",
    "\n",
    "(P, N, P, N, P, N) => ambiguous\n",
    "\n",
    "^(N, P, N, V) => unambiguous (I made this!)\n",
    "The man with the beard sells tacos. \n",
    "\n",
    "(P, N, P, N) => unambiguous? (variation of N P N - them cats)\n",
    "(P) => unknown (presumed unambiguous)\n",
    "=> no P\n",
    "\n",
    "\n",
    "\n"
   ]
  },
  {
   "cell_type": "code",
   "execution_count": 2,
   "metadata": {},
   "outputs": [],
   "source": [
    "import re\n",
    "import os\n",
    "import nltk\n",
    "from itertools import groupby"
   ]
  },
  {
   "cell_type": "code",
   "execution_count": 1,
   "metadata": {},
   "outputs": [],
   "source": [
    "pp_ambiguity_annotated_set = []\n",
    "with open('../data/pp_ambiguity.txt') as ppap_in:\n",
    "    for line in ppap_in:\n",
    "        pp_ambiguity_annotated_set.append(line.strip())\n"
   ]
  },
  {
   "cell_type": "code",
   "execution_count": 3,
   "metadata": {},
   "outputs": [],
   "source": [
    "import numpy as np"
   ]
  },
  {
   "cell_type": "code",
   "execution_count": 4,
   "metadata": {},
   "outputs": [
    {
     "data": {
      "text/plain": [
       "'The right image features a sparsely filled tall bookcase with square and rectangular compartments used as a divider in a room with a window on the right.'"
      ]
     },
     "execution_count": 4,
     "metadata": {},
     "output_type": "execute_result"
    }
   ],
   "source": [
    "pp_ambiguity_annotated_set[1]"
   ]
  },
  {
   "cell_type": "code",
   "execution_count": 5,
   "metadata": {},
   "outputs": [
    {
     "data": {
      "text/plain": [
       "92"
      ]
     },
     "execution_count": 5,
     "metadata": {},
     "output_type": "execute_result"
    }
   ],
   "source": [
    "len(pp_ambiguity_annotated_set)"
   ]
  },
  {
   "cell_type": "code",
   "execution_count": 6,
   "metadata": {},
   "outputs": [],
   "source": [
    "np.random.seed(45678)\n",
    "np.random.shuffle(pp_ambiguity_annotated_set)\n",
    "random_sample = pp_ambiguity_annotated_set[:10]"
   ]
  },
  {
   "cell_type": "code",
   "execution_count": 7,
   "metadata": {},
   "outputs": [
    {
     "data": {
      "text/plain": [
       "['In one image, a yurt sitting on post supports has an outdoor seating area on a deck with railing that encircles the yurt.',\n",
       " 'In at least one image there is one man in a long sleeve blue shirt with black hair force feeding a duck through a tube.',\n",
       " 'Reddish-pink illuminated letters are on a white background over the entrance of a store.',\n",
       " \"One image shows multiple golf balls that aren't displayed in a vertically-stacked pyramid, and the other contains a single white ball with printing on it.\",\n",
       " 'there is a single fish with a white strip down its back and an opaque tail swimming near an anemone',\n",
       " 'In one of the images there is one person in a book store holding  a book.',\n",
       " 'An image features a drape hanging from a dark rod on at least one side of a row of white paned sliding glass doors.',\n",
       " 'A marmot is standing on its hind legs behind a camera on a tripod in one image.',\n",
       " 'Each image contains one non-standing spaniel, and one image features a spaniel with fur in shades of brown with a white chest stripe, posed sitting upright.',\n",
       " 'In one image, a dining table is shown with four chairs, while a dining table in the second image contains a storage unit.']"
      ]
     },
     "execution_count": 7,
     "metadata": {},
     "output_type": "execute_result"
    }
   ],
   "source": [
    "random_sample"
   ]
  },
  {
   "cell_type": "code",
   "execution_count": 8,
   "metadata": {},
   "outputs": [],
   "source": [
    "with open('../data/random_sample_ppaa.txt','w') as smpout:\n",
    "    for smp in random_sample:\n",
    "        smpout.write('{}\\n'.format(smp))\n",
    "        "
   ]
  },
  {
   "cell_type": "code",
   "execution_count": 28,
   "metadata": {},
   "outputs": [],
   "source": [
    "ex1 = \"(S (NP (DT The) (JJ left) (NN image)) (VP (VBZ shows) (NP (NP (DT a) (NN staircase)) (SBAR (WHNP (WDT that)) (S (VP (VP (VBZ ascends) (PP (IN to) (NP (DT the) (NN left)))) (CC and) (VP (VBZ features) (NP (NP (DT a) (JJ wooden) (NN handrail)) (PP (PP (IN with) (NP (JJ black) (JJ wrought) (NN iron) (NNS bars))) (VP (VBN accented) (PP (IN by) (NP (NN scroll) (NNS shapes)))))))))))) (. .))\""
   ]
  },
  {
   "cell_type": "code",
   "execution_count": 31,
   "metadata": {},
   "outputs": [],
   "source": [
    "def phrase_spitter(parse):\n",
    "    r6 = r'\\(([A-Z]+P)( \\([A-Z]+ [A-Za-z]+\\))+\\)'\n",
    "    r7 = r'\\(([A-Z]+P) \\([A-Z]+ ([A-Za-z]+)\\) \\([A-Z]+P'\n",
    "    #re_phrase = r'\\(([A-Z]+P) .*([a-z]+)\\)+ \\(([A-Z]+P)'\n",
    "    re_last_phrase = r'\\(([A-Z]+P) .* ([a-z]+)\\)+ \\(. .\\)+$'\n",
    "    done=False\n",
    "    s = parse\n",
    "    while not done:\n",
    "        m6 = re.search(r6, s)\n",
    "        m7 = re.search(r7, s)\n",
    "        mlast = re.search(re_last_phrase, s)\n",
    "        if m6 and m7:\n",
    "            sp6 = m6.span()\n",
    "            sp7 = m7.span()\n",
    "            if sp6[0]<sp7[0]:\n",
    "                #whole_phrase = m6.group(0)\n",
    "                phrase_type = m6.group(1)\n",
    "                head_word = m6.group(2).split()[-1].split(')')[0]\n",
    "                s = s[sp6[1]:].strip()\n",
    "                yield (phrase_type, head_word)\n",
    "            else:\n",
    "                phrase_type = m7.group(1)\n",
    "                head_word = m7.group(2)\n",
    "                s = s[sp7[1]:].strip()\n",
    "                yield (phrase_type, head_word)\n",
    "        elif m6:\n",
    "            sp6 = m6.span()\n",
    "            phrase_type = m6.group(1)\n",
    "            head_word = m6.group(2).split()[-1].split(')')[0]\n",
    "            s = s[sp6[1]:].strip()\n",
    "            yield (phrase_type, head_word)\n",
    "        elif m7:\n",
    "            sp7 = m7.span()\n",
    "            phrase_type = m7.group(1)\n",
    "            head_word = m7.group(2)\n",
    "            s = s[sp7[1]:].strip()\n",
    "            yield (phrase_type, head_word)\n",
    "        elif mlast:\n",
    "            yield (mlast.group(1), mlast.group(2))\n",
    "            done = True\n",
    "        else:\n",
    "            done = True\n"
   ]
  },
  {
   "cell_type": "code",
   "execution_count": 32,
   "metadata": {},
   "outputs": [
    {
     "name": "stdout",
     "output_type": "stream",
     "text": [
      "NP image\n",
      "VP shows\n",
      "NP staircase\n",
      "WHNP that\n",
      "VP ascends\n",
      "NP left\n",
      "VP features\n",
      "NP handrail\n",
      "PP with\n",
      "VP accented\n",
      "NP shapes\n"
     ]
    }
   ],
   "source": [
    "for (phrase_type, head_word) in phrase_spitter(ex1):\n",
    "    print(phrase_type, head_word)"
   ]
  },
  {
   "cell_type": "code",
   "execution_count": null,
   "metadata": {},
   "outputs": [],
   "source": [
    "pat1 = re.compile(r'[VNP]P')"
   ]
  },
  {
   "cell_type": "code",
   "execution_count": null,
   "metadata": {},
   "outputs": [],
   "source": [
    "ex_parse = \"(S (PP (IN In) (NP (QP (RB at) (RBS least) (CD one)) (NN image))) (NP (EX there)) (VP (VBZ is) (NP (NP (DT a) (JJ single) (NN tree)) (PP (IN with) (NP (JJ orange) (NNS flowers))) (PP (IN in) (NP (NP (NN front)) (PP (IN of) (NP (DT a) (NN church))))) (PP (IN with) (S (NP (DT the) (JJ open) (NN door)) (VP (VBG facing) (RB forward) (RB left)))))) (. .))\"\n",
    "print(ex_parse)"
   ]
  },
  {
   "cell_type": "code",
   "execution_count": null,
   "metadata": {},
   "outputs": [],
   "source": [
    "matches = re.findall(pat1,ex_parse)"
   ]
  },
  {
   "cell_type": "code",
   "execution_count": null,
   "metadata": {},
   "outputs": [],
   "source": [
    "phrase_pattern = ''.join([m[0] for m in matches])"
   ]
  },
  {
   "cell_type": "code",
   "execution_count": null,
   "metadata": {},
   "outputs": [],
   "source": [
    "phrase_pattern"
   ]
  },
  {
   "cell_type": "code",
   "execution_count": null,
   "metadata": {},
   "outputs": [],
   "source": [
    "# NN -> N\n",
    "new_phrase_pattern = 'N'.join(phrase_pattern.split('NN'))"
   ]
  },
  {
   "cell_type": "code",
   "execution_count": null,
   "metadata": {},
   "outputs": [],
   "source": [
    "new_phrase_pattern"
   ]
  },
  {
   "cell_type": "code",
   "execution_count": null,
   "metadata": {},
   "outputs": [],
   "source": [
    "def has_pp_attachment_ambiguity(parse):\n",
    "    '''\n",
    "    This is intended to be a reference implementation of Pantel & Lin (2002). \n",
    "    \n",
    "    (V, N1, P, N2) => ambigious\"\n",
    "    Otherwise => not ambiguous\n",
    "    '''\n",
    "    # step0 = re.sub(r'SBAR \\(IN', 'PP (IN', parse)\n",
    "    step0 = parse # no modifications\n",
    "    step1 = [m[0] for m in re.findall(r'[VNP]P',step0)]\n",
    "    step2 = ''.join(step1)\n",
    "    # Removing consecutive duplicates, e.g. NN => N\n",
    "    # https://stackoverflow.com/questions/18799036/python-best-way-to-remove-duplicate-character-from-string\n",
    "    step3 = ''.join(ch for ch, _ in groupby(step2))\n",
    "    phrase_pattern = step3\n",
    "    print(phrase_pattern)\n",
    "    # If no prep phrase, let's not waste time.\n",
    "    if not re.search(r'P',phrase_pattern):\n",
    "        if len(phrase_pattern)>0:\n",
    "            print(\"No preps: {}\".format(phrase_pattern))\n",
    "            print(parse)\n",
    "        return False\n",
    "    \n",
    "    # (V, N, P, N) => ambiguous (Pantel&Lin) \n",
    "    # Mary ate a salad with a fork. \n",
    "    # Mary ate a salad with croutons. \n",
    "    match_obj = re.search(r'VNPN', phrase_pattern)\n",
    "    if match_obj:\n",
    "        return True\n",
    "    return False\n"
   ]
  },
  {
   "cell_type": "code",
   "execution_count": null,
   "metadata": {},
   "outputs": [],
   "source": [
    "def get_pp_attachment_ambiguity(parse):\n",
    "    # https://stackoverflow.com/questions/18799036/python-best-way-to-remove-duplicate-character-from-string\n",
    "    step0 = re.sub(r'SBAR \\(IN', 'PP (IN', parse)\n",
    "    step1 = [m[0] for m in re.findall(r'[VNP]P',step0)]\n",
    "    step2 = ''.join(step1)\n",
    "    step3 = ''.join(ch for ch, _ in groupby(step2))\n",
    "    phrase_pattern = step3\n",
    "    \n",
    "    # If no prep phrase, let's not waste time.\n",
    "    if not re.search(r'P',phrase_pattern):\n",
    "        if len(phrase_pattern)>0:\n",
    "            print(\"No preps: {}\".format(phrase_pattern))\n",
    "            print(parse)\n",
    "        return False, 'P'\n",
    "    \n",
    "    # (V, N, P, N) => ambiguous (Pantel&Lin) \n",
    "    # Mary ate a salad with a fork. \n",
    "    # Mary ate a salad with croutons. \n",
    "    match_obj = re.search(r'VNPN', phrase_pattern)\n",
    "    if match_obj:\n",
    "        return True, 'VNPN'\n",
    "    #(V, P, N, P, N) => ambiguous (I made this!) \n",
    "    #I walked with my golf bag to the clubhouse. \n",
    "    #I walked with my golf bag in a pullcart.\n",
    "    match_obj = re.search(r'VPNPN', phrase_pattern)\n",
    "    if match_obj:\n",
    "        return True, 'VPNPN'\n",
    "    # (N, P, N, P, N) => ambiguous (I made this!)\n",
    "    # In at least one image there is a single tree with orange flowers in front of a church with the open door facing forward left.\n",
    "    # ... [tree with orange] flowers in front of a church ...\n",
    "    # ... [tree with orange] flowers with five petals on thick branches... \n",
    "    # ([N, P, {N, P, N], P, N})\n",
    "    match_obj = re.search(r'NPNPN', phrase_pattern)\n",
    "    if match_obj:\n",
    "        return True, 'NPNPN'\n",
    "    # (N, V, P, N) => ambiguous (discovered empirically)\n",
    "    # ... women wearing white bikinis standing next to the water. \n",
    "    # (simplification)\n",
    "    # ... A woman is wearing a bikini cooking on a gas stove. \n",
    "    # ... A woman is holding a spatula cooking in a white bikini. \n",
    "    if re.search(r'NVNVPN', phrase_pattern):\n",
    "        return True, 'NVNVPN'\n",
    "    \n",
    "    # We have now passed all the checks for ambiguity. \n",
    "    \n",
    "    #^(N, P, N, V) => unambiguous (I made this!)\n",
    "    # The man with the beard sells tacos. \n",
    "    match_obj = re.search(r'^NPNV', phrase_pattern)\n",
    "    if match_obj:\n",
    "        print(\"Pattern match (^NPNV=un): {}\".format(phrase_pattern))\n",
    "        print(parse)\n",
    "        return False, '^NPNV'\n",
    "    else:\n",
    "        # ...in the image on the left...\n",
    "        match_obj = re.search(r'PNPN', phrase_pattern)\n",
    "        if match_obj:\n",
    "            print(\"Pattern match (PNPN=un): {}\".format(phrase_pattern))\n",
    "            print(parse)\n",
    "            return False, 'PNPN'\n",
    "        else:\n",
    "            print(\"New pattern: {}\".format(phrase_pattern))\n",
    "    print(parse)\n",
    "    return False, phrase_pattern"
   ]
  },
  {
   "cell_type": "code",
   "execution_count": null,
   "metadata": {},
   "outputs": [],
   "source": [
    "def get_pp_attachment_ambiguity(parse):\n",
    "    # https://stackoverflow.com/questions/18799036/python-best-way-to-remove-duplicate-character-from-string\n",
    "    step0 = re.sub(r'SBAR \\(IN', 'PP (IN', parse)\n",
    "    step1 = [m[0] for m in re.findall(r'[VNP]P',step0)]\n",
    "    step2 = ''.join(step1)\n",
    "    step3 = ''.join(ch for ch, _ in groupby(step2))\n",
    "    phrase_pattern = step3\n",
    "    \n",
    "    # If no prep phrase, let's not waste time.\n",
    "    if not re.search(r'P',phrase_pattern):\n",
    "        if len(phrase_pattern)>0:\n",
    "            print(\"No preps: {}\".format(phrase_pattern))\n",
    "            print(parse)\n",
    "        return False, 'P'\n",
    "    \n",
    "    # (V, N, P, N) => ambiguous (Pantel&Lin) \n",
    "    # Mary ate a salad with a fork. \n",
    "    # Mary ate a salad with croutons. \n",
    "    match_obj = re.search(r'VNPN', phrase_pattern)\n",
    "    if match_obj:\n",
    "        return True, 'VNPN'\n",
    "    #(V, P, N, P, N) => ambiguous (I made this!) \n",
    "    #I walked with my golf bag to the clubhouse. \n",
    "    #I walked with my golf bag in a pullcart.\n",
    "    match_obj = re.search(r'VPNPN', phrase_pattern)\n",
    "    if match_obj:\n",
    "        return True, 'VPNPN'\n",
    "    # (N, P, N, P, N) => ambiguous (I made this!)\n",
    "    # In at least one image there is a single tree with orange flowers in front of a church with the open door facing forward left.\n",
    "    # ... [tree with orange] flowers in front of a church ...\n",
    "    # ... [tree with orange] flowers with five petals on thick branches... \n",
    "    # ([N, P, {N, P, N], P, N})\n",
    "    match_obj = re.search(r'NPNPN', phrase_pattern)\n",
    "    if match_obj:\n",
    "        return True, 'NPNPN'\n",
    "    # (N, V, P, N) => ambiguous (discovered empirically)\n",
    "    # ... women wearing white bikinis standing next to the water. \n",
    "    # (simplification)\n",
    "    # ... A woman is wearing a bikini cooking on a gas stove. \n",
    "    # ... A woman is holding a spatula cooking in a white bikini. \n",
    "    if re.search(r'NVNVPN', phrase_pattern):\n",
    "        return True, 'NVNVPN'\n",
    "    \n",
    "    # We have now passed all the checks for ambiguity. \n",
    "    \n",
    "    #^(N, P, N, V) => unambiguous (I made this!)\n",
    "    # The man with the beard sells tacos. \n",
    "    match_obj = re.search(r'^NPNV', phrase_pattern)\n",
    "    if match_obj:\n",
    "        print(\"Pattern match (^NPNV=un): {}\".format(phrase_pattern))\n",
    "        print(parse)\n",
    "        return False, '^NPNV'\n",
    "    else:\n",
    "        # ...in the image on the left...\n",
    "        match_obj = re.search(r'PNPN', phrase_pattern)\n",
    "        if match_obj:\n",
    "            print(\"Pattern match (PNPN=un): {}\".format(phrase_pattern))\n",
    "            print(parse)\n",
    "            return False, 'PNPN'\n",
    "        else:\n",
    "            print(\"New pattern: {}\".format(phrase_pattern))\n",
    "    print(parse)\n",
    "    return False, phrase_pattern"
   ]
  },
  {
   "cell_type": "code",
   "execution_count": null,
   "metadata": {},
   "outputs": [],
   "source": [
    "def get_phrases_with_heads(parse):\n",
    "    step0 = re.sub(r'SBAR \\(IN', 'PP (IN', parse)\n",
    "    step1 = [m[0] for m in re.findall(r'[VNP]P',step0)]\n",
    "    step2 = ''.join(step1)\n",
    "    step3 = ''.join(ch for ch, _ in groupby(step2))\n",
    "    phrase_pattern = step3\n"
   ]
  },
  {
   "cell_type": "code",
   "execution_count": null,
   "metadata": {},
   "outputs": [],
   "source": [
    "def get_pp_attachment_sites(parse):\n",
    "    # https://stackoverflow.com/questions/18799036/python-best-way-to-remove-duplicate-character-from-string\n",
    "    step0 = re.sub(r'SBAR \\(IN', 'PP (IN', parse)\n",
    "    step1 = [m[0] for m in re.findall(r'[VNP]P',step0)]\n",
    "    step2 = ''.join(step1)\n",
    "    step3 = ''.join(ch for ch, _ in groupby(step2))\n",
    "    phrase_pattern = step3\n",
    "    \n",
    "    # If no prep phrase, let's not waste time.\n",
    "    if not re.search(r'P',phrase_pattern):\n",
    "        if len(phrase_pattern)>0:\n",
    "            print(\"No preps: {}\".format(phrase_pattern))\n",
    "            print(parse)\n",
    "        return False, 'P'\n",
    "    \n",
    "    # (V, N, P, N) => ambiguous (Pantel&Lin) \n",
    "    # Mary ate a salad with a fork. \n",
    "    # Mary ate a salad with croutons. \n",
    "    match_obj = re.search(r'VNPN', phrase_pattern)\n",
    "    if match_obj:\n",
    "        return True, 'VNPN'\n",
    "    #(V, P, N, P, N) => ambiguous (I made this!) \n",
    "    #I walked with my golf bag to the clubhouse. \n",
    "    #I walked with my golf bag in a pullcart.\n",
    "    match_obj = re.search(r'VPNPN', phrase_pattern)\n",
    "    if match_obj:\n",
    "        return True, 'VPNPN'\n",
    "    # (N, P, N, P, N) => ambiguous (I made this!)\n",
    "    # In at least one image there is a single tree with orange flowers in front of a church with the open door facing forward left.\n",
    "    # ... [tree with orange] flowers in front of a church ...\n",
    "    # ... [tree with orange] flowers with five petals on thick branches... \n",
    "    # ([N, P, {N, P, N], P, N})\n",
    "    match_obj = re.search(r'NPNPN', phrase_pattern)\n",
    "    if match_obj:\n",
    "        return True, 'NPNPN'\n",
    "    # (N, V, P, N) => ambiguous (discovered empirically)\n",
    "    # ... women wearing white bikinis standing next to the water. \n",
    "    # (simplification)\n",
    "    # ... A woman is wearing a bikini cooking on a gas stove. \n",
    "    # ... A woman is holding a spatula cooking in a white bikini. \n",
    "    if re.search(r'NVNVPN', phrase_pattern):\n",
    "        return True, 'NVNVPN'\n",
    "    \n",
    "    # We have now passed all the checks for ambiguity. \n",
    "    \n",
    "    #^(N, P, N, V) => unambiguous (I made this!)\n",
    "    # The man with the beard sells tacos. \n",
    "    match_obj = re.search(r'^NPNV', phrase_pattern)\n",
    "    if match_obj:\n",
    "        print(\"Pattern match (^NPNV=un): {}\".format(phrase_pattern))\n",
    "        print(parse)\n",
    "        return False, '^NPNV'\n",
    "    else:\n",
    "        # ...in the image on the left...\n",
    "        match_obj = re.search(r'PNPN', phrase_pattern)\n",
    "        if match_obj:\n",
    "            print(\"Pattern match (PNPN=un): {}\".format(phrase_pattern))\n",
    "            print(parse)\n",
    "            return False, 'PNPN'\n",
    "        else:\n",
    "            print(\"New pattern: {}\".format(phrase_pattern))\n",
    "    print(parse)\n",
    "    return False, phrase_pattern"
   ]
  },
  {
   "cell_type": "code",
   "execution_count": null,
   "metadata": {},
   "outputs": [],
   "source": [
    "parses = []\n",
    "num_total = 0\n",
    "num_found = 0\n",
    "with open('../data/pp_ambiguity_parses.txt') as ppap_in:\n",
    "    for line in ppap_in:\n",
    "        num_total += 1\n",
    "        if has_pp_attachment_ambiguity(line.strip()):\n",
    "            num_found += 1"
   ]
  },
  {
   "cell_type": "code",
   "execution_count": null,
   "metadata": {},
   "outputs": [],
   "source": [
    "print(num_found, num_total)"
   ]
  },
  {
   "cell_type": "markdown",
   "metadata": {},
   "source": [
    "\n",
    "(P, N, P, N, P, N) => ambiguous\n",
    "\n",
    "^(N, P, N, V) => unambiguous (I made this!) \n",
    "\n",
    "(P, N, P, N) => unambiguous? (variation of N P N - them cats) (P) => unknown (presumed unambiguous) => no P"
   ]
  },
  {
   "cell_type": "code",
   "execution_count": null,
   "metadata": {},
   "outputs": [],
   "source": [
    "all_parses = []\n",
    "with open('../data/annotated_dev.parse') as ppap_in:\n",
    "    for line in ppap_in:\n",
    "        all_parses.append(line.strip())"
   ]
  },
  {
   "cell_type": "code",
   "execution_count": null,
   "metadata": {},
   "outputs": [],
   "source": [
    "ppaa_parses = []\n",
    "with open('../data/pp_ambiguity.parse') as ppap_in:\n",
    "    for line in ppap_in:\n",
    "        ppaa_parses.append(line.strip())"
   ]
  },
  {
   "cell_type": "code",
   "execution_count": null,
   "metadata": {},
   "outputs": [],
   "source": [
    "pos_ambiguous_parses = [parse for parse in all_parses if parse in ppaa_parses]"
   ]
  },
  {
   "cell_type": "code",
   "execution_count": null,
   "metadata": {},
   "outputs": [],
   "source": [
    "len(pos_ambiguous_parses)"
   ]
  },
  {
   "cell_type": "code",
   "execution_count": null,
   "metadata": {},
   "outputs": [],
   "source": [
    "annotated_parses = [(parse, parse in ppaa_parses) for parse in all_parses]"
   ]
  },
  {
   "cell_type": "code",
   "execution_count": null,
   "metadata": {},
   "outputs": [],
   "source": [
    "my_predictions = [has_pp_attachment_ambiguity(parse) for parse in all_parses]"
   ]
  },
  {
   "cell_type": "code",
   "execution_count": null,
   "metadata": {},
   "outputs": [],
   "source": [
    "their_predictions = [p[1] for p in annotated_parses]"
   ]
  },
  {
   "cell_type": "code",
   "execution_count": null,
   "metadata": {},
   "outputs": [],
   "source": [
    "import numpy as np\n",
    "import sklearn\n"
   ]
  },
  {
   "cell_type": "code",
   "execution_count": null,
   "metadata": {},
   "outputs": [],
   "source": [
    "mine = np.array([int(boo) for boo in my_predictions])\n",
    "theirs = np.array([int(boo) for boo in their_predictions])\n",
    "false_positives = [all_parses[i] for i in range(len(all_parses)) if mine[i]>theirs[i]]"
   ]
  },
  {
   "cell_type": "code",
   "execution_count": null,
   "metadata": {},
   "outputs": [],
   "source": [
    "len(false_positives)"
   ]
  },
  {
   "cell_type": "code",
   "execution_count": null,
   "metadata": {},
   "outputs": [],
   "source": [
    "fp_stuff = [get_pp_attachment_ambiguity(parse) for parse in false_positives]"
   ]
  },
  {
   "cell_type": "code",
   "execution_count": null,
   "metadata": {},
   "outputs": [],
   "source": [
    "len(fp_stuff)"
   ]
  },
  {
   "cell_type": "code",
   "execution_count": null,
   "metadata": {},
   "outputs": [],
   "source": [
    "from collections import Counter"
   ]
  },
  {
   "cell_type": "code",
   "execution_count": null,
   "metadata": {},
   "outputs": [],
   "source": [
    "Counter([fp[1] for fp in fp_stuff])"
   ]
  },
  {
   "cell_type": "code",
   "execution_count": null,
   "metadata": {},
   "outputs": [],
   "source": [
    "interesting = [false_positives[i] for i in range(len(false_positives)) if fp_stuff[i][1]=='VNPN']"
   ]
  },
  {
   "cell_type": "code",
   "execution_count": null,
   "metadata": {},
   "outputs": [],
   "source": [
    "len(interesting)"
   ]
  },
  {
   "cell_type": "code",
   "execution_count": null,
   "metadata": {},
   "outputs": [],
   "source": [
    "interesting[141]"
   ]
  },
  {
   "cell_type": "code",
   "execution_count": null,
   "metadata": {},
   "outputs": [],
   "source": [
    "moreinteresting = [false_positives[i] for i in range(len(false_positives)) if not fp_stuff[i][1]=='VNPN']"
   ]
  },
  {
   "cell_type": "code",
   "execution_count": null,
   "metadata": {},
   "outputs": [],
   "source": [
    "moreinteresting[0]"
   ]
  },
  {
   "cell_type": "code",
   "execution_count": null,
   "metadata": {},
   "outputs": [],
   "source": [
    "def search_parses(regex, parses):\n",
    "    for parse in parses:\n",
    "        if re.search(regex, parse):\n",
    "            yield parse"
   ]
  },
  {
   "cell_type": "code",
   "execution_count": null,
   "metadata": {},
   "outputs": [],
   "source": [
    "has_pp_attachment_ambiguity(moreinteresting[0])"
   ]
  },
  {
   "cell_type": "code",
   "execution_count": null,
   "metadata": {},
   "outputs": [],
   "source": [
    "len(my_predictions)"
   ]
  },
  {
   "cell_type": "code",
   "execution_count": null,
   "metadata": {},
   "outputs": [],
   "source": [
    "len([my for my in my_predictions if my])"
   ]
  },
  {
   "cell_type": "code",
   "execution_count": null,
   "metadata": {},
   "outputs": [],
   "source": [
    "len([their for their in their_predictions if their])"
   ]
  },
  {
   "cell_type": "code",
   "execution_count": null,
   "metadata": {},
   "outputs": [],
   "source": [
    "len([1 for (x,y) in zip(my_predictions, their_predictions) if x == y])"
   ]
  },
  {
   "cell_type": "code",
   "execution_count": null,
   "metadata": {},
   "outputs": [],
   "source": [
    "len(their_predictions)"
   ]
  },
  {
   "cell_type": "code",
   "execution_count": null,
   "metadata": {},
   "outputs": [],
   "source": [
    "# TP = 54/92\n",
    "# FP = 303/800\n",
    "# TN = \n",
    "\n",
    "precision = 54/360\n",
    "recall = 54/92\n",
    "accuracy = 458/800"
   ]
  },
  {
   "cell_type": "code",
   "execution_count": null,
   "metadata": {},
   "outputs": [],
   "source": [
    "precision"
   ]
  },
  {
   "cell_type": "code",
   "execution_count": null,
   "metadata": {},
   "outputs": [],
   "source": [
    "recall"
   ]
  },
  {
   "cell_type": "code",
   "execution_count": null,
   "metadata": {},
   "outputs": [],
   "source": [
    "accuracy"
   ]
  },
  {
   "cell_type": "code",
   "execution_count": null,
   "metadata": {},
   "outputs": [],
   "source": []
  }
 ],
 "metadata": {
  "kernelspec": {
   "display_name": "Python 3",
   "language": "python",
   "name": "python3"
  },
  "language_info": {
   "codemirror_mode": {
    "name": "ipython",
    "version": 3
   },
   "file_extension": ".py",
   "mimetype": "text/x-python",
   "name": "python",
   "nbconvert_exporter": "python",
   "pygments_lexer": "ipython3",
   "version": "3.6.7"
  }
 },
 "nbformat": 4,
 "nbformat_minor": 2
}
