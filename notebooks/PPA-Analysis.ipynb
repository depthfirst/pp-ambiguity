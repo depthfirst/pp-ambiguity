{
 "cells": [
  {
   "cell_type": "markdown",
   "metadata": {},
   "source": [
    "# Resolving Ambiguity in Prepositional Phrase Attachment"
   ]
  },
  {
   "cell_type": "markdown",
   "metadata": {},
   "source": [
    "The problem of resolving ambiguity in prepositional phrase attachment is one that remains largely unsolved in NLP, and one that pre-trained language models such as BERT will likely not be of much help with. This notebook shows results of predicting prepositional phrase attachments across a subset of the NLVR2 dataset which has been annotated, leveraging a pre-trained language model commonly known as \"BERT\" (cite). \n",
    "\n",
    "We trained an SVM classifier from the output (hidden layers) of the large uncased model from BERT with whole word masking. The results are presented in terms of Cohen's kappa score and F1 score. "
   ]
  },
  {
   "cell_type": "code",
   "execution_count": 1,
   "metadata": {},
   "outputs": [],
   "source": [
    "from IPython.display import Image"
   ]
  },
  {
   "cell_type": "markdown",
   "metadata": {},
   "source": [
    "# Preliminary Steps"
   ]
  },
  {
   "cell_type": "code",
   "execution_count": 2,
   "metadata": {},
   "outputs": [],
   "source": [
    "# conda create -n python=3.7 ...\n",
    "# pip install transformers... "
   ]
  },
  {
   "cell_type": "code",
   "execution_count": 3,
   "metadata": {},
   "outputs": [],
   "source": [
    "import os\n",
    "import json\n",
    "import numpy as np\n",
    "import pandas as pd\n",
    "import matplotlib.pyplot as plt\n",
    "\n",
    "import sklearn\n",
    "from sklearn import svm\n",
    "from sklearn.metrics import f1_score, accuracy_score\n",
    "from sklearn.metrics import cohen_kappa_score as kappa\n",
    "from sklearn.metrics import confusion_matrix\n",
    "from sklearn.metrics import plot_confusion_matrix\n",
    "\n",
    "from collections import Counter\n",
    "from operator import itemgetter"
   ]
  },
  {
   "cell_type": "code",
   "execution_count": 4,
   "metadata": {},
   "outputs": [],
   "source": [
    "from generator import HuggingFaceGenerator, MaskedPrepGenerator, SpacyModel"
   ]
  },
  {
   "cell_type": "code",
   "execution_count": 5,
   "metadata": {},
   "outputs": [],
   "source": [
    "np.random.seed(91768)"
   ]
  },
  {
   "cell_type": "markdown",
   "metadata": {},
   "source": [
    "## Load Dataset (train/test)"
   ]
  },
  {
   "cell_type": "code",
   "execution_count": 6,
   "metadata": {},
   "outputs": [],
   "source": [
    "datadir = \"data\"\n",
    "outputdir = \".\""
   ]
  },
  {
   "cell_type": "code",
   "execution_count": 7,
   "metadata": {},
   "outputs": [],
   "source": [
    "train_data = json.load(open('{}/ppa_train.json'.format(datadir)))\n",
    "labels_train = [instance['label'] for instance in train_data]\n",
    "\n",
    "test_data = json.load(open('{}/ppa_test.json'.format(datadir)))\n",
    "labels_test = [instance['label'] for instance in test_data]"
   ]
  },
  {
   "cell_type": "markdown",
   "metadata": {},
   "source": [
    "## Using BERT Language Model\n",
    "We load a pre-trained model from BERT and use it to generate instances for model training. "
   ]
  },
  {
   "cell_type": "code",
   "execution_count": 8,
   "metadata": {},
   "outputs": [],
   "source": [
    "bert_model_name = \"bert-large-uncased-whole-word-masking\"\n",
    "hf_generator = HuggingFaceGenerator(bert_model_name)"
   ]
  },
  {
   "cell_type": "markdown",
   "metadata": {},
   "source": [
    "## Transform Dataset (or reload)"
   ]
  },
  {
   "cell_type": "code",
   "execution_count": 9,
   "metadata": {},
   "outputs": [],
   "source": [
    "train_feature_file = \"{}/hf_train.csv\".format(outputdir)\n",
    "test_feature_file = \"{}/hf_test.csv\".format(outputdir)"
   ]
  },
  {
   "cell_type": "code",
   "execution_count": 10,
   "metadata": {},
   "outputs": [],
   "source": [
    "if os.path.exists(train_feature_file):\n",
    "    hf_train = pd.read_csv(train_feature_file, header=None)\n",
    "else:\n",
    "    hf_train = hf_generator.generate_dataset(train_data)\n",
    "    pd.DataFrame(hf_train).to_csv(train_feature_file, header=False,index=False)"
   ]
  },
  {
   "cell_type": "code",
   "execution_count": 11,
   "metadata": {},
   "outputs": [],
   "source": [
    "if os.path.exists(test_feature_file):\n",
    "    hf_test = pd.read_csv(test_feature_file, header=None)\n",
    "else:\n",
    "    hf_test = hf_generator.generate_dataset(test_data)\n",
    "    pd.DataFrame(hf_test).to_csv(test_feature_file, header=False,index=False)"
   ]
  },
  {
   "cell_type": "markdown",
   "metadata": {},
   "source": [
    "# Model Training"
   ]
  },
  {
   "cell_type": "code",
   "execution_count": 12,
   "metadata": {},
   "outputs": [
    {
     "data": {
      "text/plain": [
       "SVC(C=100.0, break_ties=False, cache_size=200, class_weight=None, coef0=0.0,\n",
       "    decision_function_shape='ovr', degree=3, gamma=0.0001, kernel='rbf',\n",
       "    max_iter=-1, probability=False, random_state=91768, shrinking=True,\n",
       "    tol=0.001, verbose=False)"
      ]
     },
     "execution_count": 12,
     "metadata": {},
     "output_type": "execute_result"
    }
   ],
   "source": [
    "clfhf = svm.SVC(gamma=0.0001, C=100., random_state=91768)\n",
    "clfhf.fit(hf_train, labels_train)"
   ]
  },
  {
   "cell_type": "code",
   "execution_count": 13,
   "metadata": {},
   "outputs": [],
   "source": [
    "preds_test_hf = clfhf.predict(hf_test)"
   ]
  },
  {
   "cell_type": "code",
   "execution_count": 14,
   "metadata": {},
   "outputs": [
    {
     "name": "stdout",
     "output_type": "stream",
     "text": [
      "              precision    recall  f1-score   support\n",
      "\n",
      "           N      0.875     0.946     0.909       111\n",
      "           O      0.667     0.400     0.500        10\n",
      "           V      0.742     0.639     0.687        36\n",
      "\n",
      "    accuracy                          0.841       157\n",
      "   macro avg      0.761     0.662     0.699       157\n",
      "weighted avg      0.831     0.841     0.832       157\n",
      "\n"
     ]
    }
   ],
   "source": [
    "print(sklearn.metrics.classification_report(labels_test, preds_test_hf, digits=3))"
   ]
  },
  {
   "cell_type": "markdown",
   "metadata": {},
   "source": [
    "### without 'O'(ther) classification"
   ]
  },
  {
   "cell_type": "code",
   "execution_count": 15,
   "metadata": {},
   "outputs": [],
   "source": [
    "nvi = [i for i,lbl in enumerate(labels_train) if lbl in ['N','V']]"
   ]
  },
  {
   "cell_type": "code",
   "execution_count": 16,
   "metadata": {},
   "outputs": [],
   "source": [
    "labels_train_NV = [lbl for lbl in labels_train if lbl in ['N','V']]"
   ]
  },
  {
   "cell_type": "code",
   "execution_count": 17,
   "metadata": {},
   "outputs": [],
   "source": [
    "hf_train_NV = hf_train.to_numpy()[nvi]\n",
    "#hf_generator.generate_dataset([td for td,lbl in zip(train_data,labels_train) if lbl in ['N','V']])"
   ]
  },
  {
   "cell_type": "code",
   "execution_count": 18,
   "metadata": {},
   "outputs": [
    {
     "data": {
      "text/plain": [
       "(435, 16384)"
      ]
     },
     "execution_count": 18,
     "metadata": {},
     "output_type": "execute_result"
    }
   ],
   "source": [
    "hf_train_NV.shape"
   ]
  },
  {
   "cell_type": "code",
   "execution_count": 19,
   "metadata": {},
   "outputs": [],
   "source": [
    "nvi_test = [i for i,lbl in enumerate(labels_test) if lbl in ['N','V']]"
   ]
  },
  {
   "cell_type": "code",
   "execution_count": 20,
   "metadata": {},
   "outputs": [],
   "source": [
    "hf_test_NV = hf_test.to_numpy()[nvi_test]\n",
    "#hf_generator.generate_dataset([td for td,lbl in zip(test_data,labels_test) if lbl in ['N','V']])"
   ]
  },
  {
   "cell_type": "code",
   "execution_count": 21,
   "metadata": {},
   "outputs": [],
   "source": [
    "labels_test_NV = [lbl for lbl in labels_test if lbl in ['N','V']]"
   ]
  },
  {
   "cell_type": "code",
   "execution_count": 22,
   "metadata": {},
   "outputs": [
    {
     "data": {
      "text/plain": [
       "SVC(C=100.0, break_ties=False, cache_size=200, class_weight=None, coef0=0.0,\n",
       "    decision_function_shape='ovr', degree=3, gamma=0.0001, kernel='rbf',\n",
       "    max_iter=-1, probability=False, random_state=91768, shrinking=True,\n",
       "    tol=0.001, verbose=False)"
      ]
     },
     "execution_count": 22,
     "metadata": {},
     "output_type": "execute_result"
    }
   ],
   "source": [
    "clfhf2 = svm.SVC(gamma=0.0001, C=100., random_state=91768)\n",
    "clfhf2.fit(hf_train_NV, labels_train_NV)"
   ]
  },
  {
   "cell_type": "code",
   "execution_count": 23,
   "metadata": {},
   "outputs": [],
   "source": [
    "preds_test_hf2 = clfhf2.predict(hf_test_NV)"
   ]
  },
  {
   "cell_type": "code",
   "execution_count": 24,
   "metadata": {},
   "outputs": [
    {
     "data": {
      "text/plain": [
       "array([[105,   0,   6],\n",
       "       [  4,   4,   2],\n",
       "       [ 11,   2,  23]])"
      ]
     },
     "execution_count": 24,
     "metadata": {},
     "output_type": "execute_result"
    }
   ],
   "source": [
    "confusion_matrix(labels_test, preds_test_hf)"
   ]
  },
  {
   "cell_type": "code",
   "execution_count": 25,
   "metadata": {},
   "outputs": [
    {
     "data": {
      "text/plain": [
       "array([[104,   7],\n",
       "       [ 12,  24]])"
      ]
     },
     "execution_count": 25,
     "metadata": {},
     "output_type": "execute_result"
    }
   ],
   "source": [
    "confusion_matrix(labels_test_NV, preds_test_hf2)"
   ]
  },
  {
   "cell_type": "code",
   "execution_count": 26,
   "metadata": {},
   "outputs": [
    {
     "name": "stdout",
     "output_type": "stream",
     "text": [
      "              precision    recall  f1-score   support\n",
      "\n",
      "           N      0.897     0.937     0.916       111\n",
      "           V      0.774     0.667     0.716        36\n",
      "\n",
      "    accuracy                          0.871       147\n",
      "   macro avg      0.835     0.802     0.816       147\n",
      "weighted avg      0.867     0.871     0.867       147\n",
      "\n"
     ]
    }
   ],
   "source": [
    "print(sklearn.metrics.classification_report(labels_test_NV, preds_test_hf2, digits=3))"
   ]
  },
  {
   "cell_type": "markdown",
   "metadata": {},
   "source": [
    "## Applying BERT to the same dataset for the masked prep task... "
   ]
  },
  {
   "cell_type": "code",
   "execution_count": 27,
   "metadata": {},
   "outputs": [],
   "source": [
    "mpgen = MaskedPrepGenerator(bert_model_name)"
   ]
  },
  {
   "cell_type": "code",
   "execution_count": 28,
   "metadata": {},
   "outputs": [
    {
     "name": "stdout",
     "output_type": "stream",
     "text": [
      "(82 correct / 100 total)\n",
      "(160 correct / 200 total)\n",
      "(236 correct / 300 total)\n"
     ]
    }
   ],
   "source": [
    "mplabels,mppredictions=mpgen.evaluate_dataset(test_data,use_cuda=True)"
   ]
  },
  {
   "cell_type": "code",
   "execution_count": 29,
   "metadata": {},
   "outputs": [
    {
     "data": {
      "text/plain": [
       "0.7849462365591398"
      ]
     },
     "execution_count": 29,
     "metadata": {},
     "output_type": "execute_result"
    }
   ],
   "source": [
    "accuracy_score(mplabels,mppredictions)"
   ]
  },
  {
   "cell_type": "code",
   "execution_count": 30,
   "metadata": {},
   "outputs": [
    {
     "data": {
      "text/plain": [
       "0.7426407001279878"
      ]
     },
     "execution_count": 30,
     "metadata": {},
     "output_type": "execute_result"
    }
   ],
   "source": [
    "kappa(mplabels, mppredictions)"
   ]
  },
  {
   "cell_type": "code",
   "execution_count": 31,
   "metadata": {},
   "outputs": [
    {
     "data": {
      "text/plain": [
       "0.8111697864740477"
      ]
     },
     "execution_count": 31,
     "metadata": {},
     "output_type": "execute_result"
    }
   ],
   "source": [
    "sklearn.metrics.classification_report(mplabels, mppredictions, digits=3, output_dict=True, zero_division=0)['weighted avg']['f1-score']"
   ]
  },
  {
   "cell_type": "markdown",
   "metadata": {},
   "source": [
    "## Error Analysis"
   ]
  },
  {
   "cell_type": "code",
   "execution_count": 32,
   "metadata": {},
   "outputs": [],
   "source": [
    "get_4tpl = lambda x : (x['V']['lemma'],x['N']['lemma'],x['P']['lemma'],x['N2']['lemma'])"
   ]
  },
  {
   "cell_type": "code",
   "execution_count": 33,
   "metadata": {},
   "outputs": [],
   "source": [
    "spacy_model = SpacyModel()"
   ]
  },
  {
   "cell_type": "code",
   "execution_count": 34,
   "metadata": {},
   "outputs": [],
   "source": [
    "spacy_preds_train = [spacy_model.predict(t) for t in train_data]"
   ]
  },
  {
   "cell_type": "code",
   "execution_count": 35,
   "metadata": {},
   "outputs": [],
   "source": [
    "train_tuples = [get_4tpl(td) for td in list(train_data)]\n",
    "test_tuples = [get_4tpl(td) for td in list(test_data)]"
   ]
  },
  {
   "cell_type": "code",
   "execution_count": 36,
   "metadata": {},
   "outputs": [
    {
     "data": {
      "text/plain": [
       "array([[105,   0,   6],\n",
       "       [  4,   4,   2],\n",
       "       [ 11,   2,  23]])"
      ]
     },
     "execution_count": 36,
     "metadata": {},
     "output_type": "execute_result"
    }
   ],
   "source": [
    "confusion_matrix(labels_test,preds_test_hf,labels=['N','O','V'])"
   ]
  },
  {
   "cell_type": "code",
   "execution_count": 37,
   "metadata": {},
   "outputs": [
    {
     "data": {
      "text/plain": [
       "<sklearn.metrics._plot.confusion_matrix.ConfusionMatrixDisplay at 0x7f52ccf8b0b8>"
      ]
     },
     "execution_count": 37,
     "metadata": {},
     "output_type": "execute_result"
    },
    {
     "data": {
      "image/png": "[encoded data removed]",
      "text/plain": [
       "<Figure size 432x288 with 2 Axes>"
      ]
     },
     "metadata": {
      "needs_background": "light"
     },
     "output_type": "display_data"
    }
   ],
   "source": [
    "plot_confusion_matrix(clfhf, hf_test, labels_test, labels=['N','V','O'], values_format='d', cmap=plt.cm.Blues)"
   ]
  },
  {
   "cell_type": "code",
   "execution_count": 38,
   "metadata": {},
   "outputs": [],
   "source": [
    "errors = [(i,lbl,pred) for i,(lbl,pred) in enumerate(zip(labels_test,preds_test_hf)) if not lbl==pred]"
   ]
  },
  {
   "cell_type": "code",
   "execution_count": 39,
   "metadata": {},
   "outputs": [],
   "source": [
    "def get_err_info(err,data):\n",
    "    (i,lbl,pred)=err\n",
    "    td=data[i]\n",
    "    #print(td['sentence_text'])\n",
    "    return ((i,*get_4tpl(td),lbl,pred,td['sentence_text']))"
   ]
  },
  {
   "cell_type": "code",
   "execution_count": 40,
   "metadata": {},
   "outputs": [],
   "source": [
    "error_tuples=[]\n",
    "for err in errors: \n",
    "    # Exclude 'other' cases for now\n",
    "    if 'O' in err:\n",
    "        continue\n",
    "    error_tuples.append(get_err_info(err,test_data))"
   ]
  },
  {
   "cell_type": "code",
   "execution_count": 41,
   "metadata": {},
   "outputs": [],
   "source": [
    "df = pd.DataFrame(error_tuples, columns=['i','V','N1','P','N2','label','pred','sentence_text'])"
   ]
  },
  {
   "cell_type": "code",
   "execution_count": 42,
   "metadata": {},
   "outputs": [
    {
     "data": {
      "text/html": [
       "<div>\n",
       "<style scoped>\n",
       "    .dataframe tbody tr th:only-of-type {\n",
       "        vertical-align: middle;\n",
       "    }\n",
       "\n",
       "    .dataframe tbody tr th {\n",
       "        vertical-align: top;\n",
       "    }\n",
       "\n",
       "    .dataframe thead th {\n",
       "        text-align: right;\n",
       "    }\n",
       "</style>\n",
       "<table border=\"1\" class=\"dataframe\">\n",
       "  <thead>\n",
       "    <tr style=\"text-align: right;\">\n",
       "      <th></th>\n",
       "      <th>i</th>\n",
       "      <th>V</th>\n",
       "      <th>N1</th>\n",
       "      <th>P</th>\n",
       "      <th>N2</th>\n",
       "      <th>label</th>\n",
       "      <th>pred</th>\n",
       "      <th>sentence_text</th>\n",
       "    </tr>\n",
       "  </thead>\n",
       "  <tbody>\n",
       "    <tr>\n",
       "      <th>0</th>\n",
       "      <td>0</td>\n",
       "      <td>be</td>\n",
       "      <td>dog</td>\n",
       "      <td>in</td>\n",
       "      <td>pair</td>\n",
       "      <td>V</td>\n",
       "      <td>N</td>\n",
       "      <td>There are three chow dogs in the image pair.</td>\n",
       "    </tr>\n",
       "    <tr>\n",
       "      <th>1</th>\n",
       "      <td>20</td>\n",
       "      <td>wear</td>\n",
       "      <td>ear</td>\n",
       "      <td>on</td>\n",
       "      <td>head</td>\n",
       "      <td>N</td>\n",
       "      <td>V</td>\n",
       "      <td>A girl in long one piece pajamas is wearing mo...</td>\n",
       "    </tr>\n",
       "    <tr>\n",
       "      <th>2</th>\n",
       "      <td>28</td>\n",
       "      <td>feature</td>\n",
       "      <td>shape</td>\n",
       "      <td>above</td>\n",
       "      <td>shape</td>\n",
       "      <td>V</td>\n",
       "      <td>N</td>\n",
       "      <td>Each dispenser has a circle shape and an upsid...</td>\n",
       "    </tr>\n",
       "    <tr>\n",
       "      <th>3</th>\n",
       "      <td>57</td>\n",
       "      <td>be</td>\n",
       "      <td>dog</td>\n",
       "      <td>in</td>\n",
       "      <td>image</td>\n",
       "      <td>N</td>\n",
       "      <td>V</td>\n",
       "      <td>There is exactly one dog in the right image.</td>\n",
       "    </tr>\n",
       "    <tr>\n",
       "      <th>4</th>\n",
       "      <td>64</td>\n",
       "      <td>be</td>\n",
       "      <td>bottle</td>\n",
       "      <td>with</td>\n",
       "      <td>lid</td>\n",
       "      <td>N</td>\n",
       "      <td>V</td>\n",
       "      <td>There is one bottle with a lid and one bottle ...</td>\n",
       "    </tr>\n",
       "    <tr>\n",
       "      <th>5</th>\n",
       "      <td>67</td>\n",
       "      <td>have</td>\n",
       "      <td>door</td>\n",
       "      <td>in</td>\n",
       "      <td>section</td>\n",
       "      <td>N</td>\n",
       "      <td>V</td>\n",
       "      <td>Two tall narrow cabinets have at least three u...</td>\n",
       "    </tr>\n",
       "    <tr>\n",
       "      <th>6</th>\n",
       "      <td>72</td>\n",
       "      <td>put</td>\n",
       "      <td>leg</td>\n",
       "      <td>on</td>\n",
       "      <td>fence</td>\n",
       "      <td>V</td>\n",
       "      <td>N</td>\n",
       "      <td>putting their right leg high up on a fence.</td>\n",
       "    </tr>\n",
       "    <tr>\n",
       "      <th>7</th>\n",
       "      <td>75</td>\n",
       "      <td>have</td>\n",
       "      <td>toy</td>\n",
       "      <td>in</td>\n",
       "      <td>front</td>\n",
       "      <td>V</td>\n",
       "      <td>N</td>\n",
       "      <td>At least one of the dogs has a small toy in fr...</td>\n",
       "    </tr>\n",
       "    <tr>\n",
       "      <th>8</th>\n",
       "      <td>78</td>\n",
       "      <td>include</td>\n",
       "      <td>wand</td>\n",
       "      <td>to</td>\n",
       "      <td>right</td>\n",
       "      <td>V</td>\n",
       "      <td>N</td>\n",
       "      <td>The combined images include an uncapped lipsti...</td>\n",
       "    </tr>\n",
       "    <tr>\n",
       "      <th>9</th>\n",
       "      <td>83</td>\n",
       "      <td>be</td>\n",
       "      <td>awning</td>\n",
       "      <td>over</td>\n",
       "      <td>machine</td>\n",
       "      <td>V</td>\n",
       "      <td>N</td>\n",
       "      <td>There is an awning over the machines in one of...</td>\n",
       "    </tr>\n",
       "    <tr>\n",
       "      <th>10</th>\n",
       "      <td>105</td>\n",
       "      <td>show</td>\n",
       "      <td>bottle</td>\n",
       "      <td>to</td>\n",
       "      <td>cylinder</td>\n",
       "      <td>V</td>\n",
       "      <td>N</td>\n",
       "      <td>One image shows a bottle next to a white cylin...</td>\n",
       "    </tr>\n",
       "    <tr>\n",
       "      <th>11</th>\n",
       "      <td>112</td>\n",
       "      <td>cover</td>\n",
       "      <td>wall</td>\n",
       "      <td>with</td>\n",
       "      <td>area</td>\n",
       "      <td>V</td>\n",
       "      <td>N</td>\n",
       "      <td>A shelving unit covers one wall with a unique ...</td>\n",
       "    </tr>\n",
       "    <tr>\n",
       "      <th>12</th>\n",
       "      <td>116</td>\n",
       "      <td>be</td>\n",
       "      <td>deer</td>\n",
       "      <td>in</td>\n",
       "      <td>tree</td>\n",
       "      <td>N</td>\n",
       "      <td>V</td>\n",
       "      <td>there are at least 3 deer in a tree eating in ...</td>\n",
       "    </tr>\n",
       "    <tr>\n",
       "      <th>13</th>\n",
       "      <td>123</td>\n",
       "      <td>show</td>\n",
       "      <td>hound</td>\n",
       "      <td>to</td>\n",
       "      <td>shape</td>\n",
       "      <td>V</td>\n",
       "      <td>N</td>\n",
       "      <td>An image shows a basset hound next to a tube s...</td>\n",
       "    </tr>\n",
       "    <tr>\n",
       "      <th>14</th>\n",
       "      <td>142</td>\n",
       "      <td>be</td>\n",
       "      <td>dog</td>\n",
       "      <td>on</td>\n",
       "      <td>rug</td>\n",
       "      <td>V</td>\n",
       "      <td>N</td>\n",
       "      <td>There is a dog on a green rug.</td>\n",
       "    </tr>\n",
       "    <tr>\n",
       "      <th>15</th>\n",
       "      <td>145</td>\n",
       "      <td>be</td>\n",
       "      <td>person</td>\n",
       "      <td>on</td>\n",
       "      <td>bus</td>\n",
       "      <td>N</td>\n",
       "      <td>V</td>\n",
       "      <td>There is at least one person on the bus.</td>\n",
       "    </tr>\n",
       "    <tr>\n",
       "      <th>16</th>\n",
       "      <td>154</td>\n",
       "      <td>be</td>\n",
       "      <td>duck</td>\n",
       "      <td>in</td>\n",
       "      <td>image</td>\n",
       "      <td>V</td>\n",
       "      <td>N</td>\n",
       "      <td>There are exactly two ducks in the right image.</td>\n",
       "    </tr>\n",
       "  </tbody>\n",
       "</table>\n",
       "</div>"
      ],
      "text/plain": [
       "      i        V      N1      P        N2 label pred  \\\n",
       "0     0       be     dog     in      pair     V    N   \n",
       "1    20     wear     ear     on      head     N    V   \n",
       "2    28  feature   shape  above     shape     V    N   \n",
       "3    57       be     dog     in     image     N    V   \n",
       "4    64       be  bottle   with       lid     N    V   \n",
       "5    67     have    door     in   section     N    V   \n",
       "6    72      put     leg     on     fence     V    N   \n",
       "7    75     have     toy     in     front     V    N   \n",
       "8    78  include    wand     to     right     V    N   \n",
       "9    83       be  awning   over   machine     V    N   \n",
       "10  105     show  bottle     to  cylinder     V    N   \n",
       "11  112    cover    wall   with      area     V    N   \n",
       "12  116       be    deer     in      tree     N    V   \n",
       "13  123     show   hound     to     shape     V    N   \n",
       "14  142       be     dog     on       rug     V    N   \n",
       "15  145       be  person     on       bus     N    V   \n",
       "16  154       be    duck     in     image     V    N   \n",
       "\n",
       "                                        sentence_text  \n",
       "0        There are three chow dogs in the image pair.  \n",
       "1   A girl in long one piece pajamas is wearing mo...  \n",
       "2   Each dispenser has a circle shape and an upsid...  \n",
       "3        There is exactly one dog in the right image.  \n",
       "4   There is one bottle with a lid and one bottle ...  \n",
       "5   Two tall narrow cabinets have at least three u...  \n",
       "6         putting their right leg high up on a fence.  \n",
       "7   At least one of the dogs has a small toy in fr...  \n",
       "8   The combined images include an uncapped lipsti...  \n",
       "9   There is an awning over the machines in one of...  \n",
       "10  One image shows a bottle next to a white cylin...  \n",
       "11  A shelving unit covers one wall with a unique ...  \n",
       "12  there are at least 3 deer in a tree eating in ...  \n",
       "13  An image shows a basset hound next to a tube s...  \n",
       "14                     There is a dog on a green rug.  \n",
       "15           There is at least one person on the bus.  \n",
       "16    There are exactly two ducks in the right image.  "
      ]
     },
     "execution_count": 42,
     "metadata": {},
     "output_type": "execute_result"
    }
   ],
   "source": [
    "df"
   ]
  },
  {
   "cell_type": "code",
   "execution_count": 43,
   "metadata": {},
   "outputs": [],
   "source": [
    "# Not sure:\n",
    "# There are at least 3 deer in a tree...\n",
    "# There is a dog on a green rug. \n",
    "# also not sure what to do about 'next to'"
   ]
  },
  {
   "cell_type": "code",
   "execution_count": 44,
   "metadata": {},
   "outputs": [],
   "source": [
    "# Some instances seem to be labeled incorrectly\n",
    "wrong_label_indices = [1,3,5,12,15]"
   ]
  },
  {
   "cell_type": "code",
   "execution_count": 45,
   "metadata": {},
   "outputs": [],
   "source": [
    "new_test_labels = [lbl for lbl in labels_test]\n",
    "for i in df.to_numpy()[wrong_label_indices,0]:\n",
    "    new_test_labels[i] = 'V'"
   ]
  },
  {
   "cell_type": "markdown",
   "metadata": {},
   "source": [
    "## Analyze train/dev"
   ]
  },
  {
   "cell_type": "code",
   "execution_count": 46,
   "metadata": {},
   "outputs": [],
   "source": [
    "spacy_preds = [spacy_model.predict(t) for t in test_data]"
   ]
  },
  {
   "cell_type": "code",
   "execution_count": 47,
   "metadata": {},
   "outputs": [],
   "source": [
    "classifiers = ['all_noun','spacy','bert']"
   ]
  },
  {
   "cell_type": "code",
   "execution_count": 48,
   "metadata": {},
   "outputs": [],
   "source": [
    "test_preds = [['N' for i in range(len(labels_test))], spacy_preds, preds_test_hf]"
   ]
  },
  {
   "cell_type": "code",
   "execution_count": 49,
   "metadata": {},
   "outputs": [],
   "source": [
    "class_reports = {cl: sklearn.metrics.classification_report(labels_test, preds, digits=3, output_dict=True, zero_division=0) \n",
    "                 for (cl,preds) in zip(classifiers, test_preds)}"
   ]
  },
  {
   "cell_type": "code",
   "execution_count": 50,
   "metadata": {},
   "outputs": [
    {
     "data": {
      "text/html": [
       "<div>\n",
       "<style scoped>\n",
       "    .dataframe tbody tr th:only-of-type {\n",
       "        vertical-align: middle;\n",
       "    }\n",
       "\n",
       "    .dataframe tbody tr th {\n",
       "        vertical-align: top;\n",
       "    }\n",
       "\n",
       "    .dataframe thead th {\n",
       "        text-align: right;\n",
       "    }\n",
       "</style>\n",
       "<table border=\"1\" class=\"dataframe\">\n",
       "  <thead>\n",
       "    <tr style=\"text-align: right;\">\n",
       "      <th></th>\n",
       "      <th>classifier</th>\n",
       "      <th>weighted avg f1-score</th>\n",
       "    </tr>\n",
       "  </thead>\n",
       "  <tbody>\n",
       "    <tr>\n",
       "      <th>0</th>\n",
       "      <td>all_noun</td>\n",
       "      <td>0.585655</td>\n",
       "    </tr>\n",
       "    <tr>\n",
       "      <th>1</th>\n",
       "      <td>spacy</td>\n",
       "      <td>0.722477</td>\n",
       "    </tr>\n",
       "    <tr>\n",
       "      <th>2</th>\n",
       "      <td>bert</td>\n",
       "      <td>0.832010</td>\n",
       "    </tr>\n",
       "  </tbody>\n",
       "</table>\n",
       "</div>"
      ],
      "text/plain": [
       "  classifier  weighted avg f1-score\n",
       "0   all_noun               0.585655\n",
       "1      spacy               0.722477\n",
       "2       bert               0.832010"
      ]
     },
     "execution_count": 50,
     "metadata": {},
     "output_type": "execute_result"
    }
   ],
   "source": [
    "pd.DataFrame([[c, class_reports[c]['weighted avg']['f1-score']] for c in classifiers], columns=['classifier','weighted avg f1-score'])"
   ]
  },
  {
   "cell_type": "code",
   "execution_count": 51,
   "metadata": {},
   "outputs": [
    {
     "name": "stdout",
     "output_type": "stream",
     "text": [
      "              precision    recall  f1-score   support\n",
      "\n",
      "           N      0.707     1.000     0.828       111\n",
      "           O      0.000     0.000     0.000        10\n",
      "           V      0.000     0.000     0.000        36\n",
      "\n",
      "    accuracy                          0.707       157\n",
      "   macro avg      0.236     0.333     0.276       157\n",
      "weighted avg      0.500     0.707     0.586       157\n",
      "\n"
     ]
    }
   ],
   "source": [
    "print(sklearn.metrics.classification_report(labels_test, ['N' for i in range(len(labels_test))], digits=3,zero_division=0))"
   ]
  },
  {
   "cell_type": "code",
   "execution_count": 52,
   "metadata": {},
   "outputs": [
    {
     "name": "stdout",
     "output_type": "stream",
     "text": [
      "              precision    recall  f1-score   support\n",
      "\n",
      "           N      0.798     0.928     0.858       111\n",
      "           O      0.500     0.800     0.615        10\n",
      "           V      0.667     0.222     0.333        36\n",
      "\n",
      "    accuracy                          0.758       157\n",
      "   macro avg      0.655     0.650     0.602       157\n",
      "weighted avg      0.749     0.758     0.722       157\n",
      "\n"
     ]
    }
   ],
   "source": [
    "print(sklearn.metrics.classification_report(labels_test, spacy_preds, digits=3))"
   ]
  },
  {
   "cell_type": "code",
   "execution_count": 53,
   "metadata": {},
   "outputs": [
    {
     "name": "stdout",
     "output_type": "stream",
     "text": [
      "              precision    recall  f1-score   support\n",
      "\n",
      "           N      0.875     0.946     0.909       111\n",
      "           O      0.667     0.400     0.500        10\n",
      "           V      0.742     0.639     0.687        36\n",
      "\n",
      "    accuracy                          0.841       157\n",
      "   macro avg      0.761     0.662     0.699       157\n",
      "weighted avg      0.831     0.841     0.832       157\n",
      "\n"
     ]
    }
   ],
   "source": [
    "print(sklearn.metrics.classification_report(labels_test, preds_test_hf, digits=3))"
   ]
  },
  {
   "cell_type": "code",
   "execution_count": 60,
   "metadata": {},
   "outputs": [
    {
     "name": "stdout",
     "output_type": "stream",
     "text": [
      "              precision    recall  f1-score   support\n",
      "\n",
      "           N      0.780     0.855     0.816       331\n",
      "           O      0.481     0.703     0.571        37\n",
      "           V      0.455     0.240     0.314       104\n",
      "\n",
      "    accuracy                          0.708       472\n",
      "   macro avg      0.572     0.599     0.567       472\n",
      "weighted avg      0.685     0.708     0.686       472\n",
      "\n"
     ]
    }
   ],
   "source": [
    "print(sklearn.metrics.classification_report(labels_train, spacy_preds_train, digits=3))"
   ]
  },
  {
   "cell_type": "code",
   "execution_count": 54,
   "metadata": {},
   "outputs": [],
   "source": [
    "def collect_labels(train_tuples, train_labels):\n",
    "    ngram_labels = {}\n",
    "    probs = {}\n",
    "    for tpl,lbl in zip(train_tuples,train_labels):\n",
    "        triples = [tpl[:3],(tpl[0],*tpl[2:]),tpl[1:]]\n",
    "        doubles = [(tpl[0],tpl[2]),tpl[1:2],tpl[2:]]\n",
    "        singles = [tuple([t]) for t in tpl]\n",
    "        subtuples = [(tpl)] + triples + doubles + singles\n",
    "        for subtpl in subtuples:\n",
    "            if subtpl not in ngram_labels:\n",
    "                ngram_labels[subtpl] = []\n",
    "            ngram_labels[subtpl].append(lbl)\n",
    "    return ngram_labels"
   ]
  },
  {
   "cell_type": "code",
   "execution_count": 55,
   "metadata": {},
   "outputs": [],
   "source": [
    "ngram_labels=collect_labels(train_tuples, labels_train)"
   ]
  },
  {
   "cell_type": "code",
   "execution_count": 56,
   "metadata": {},
   "outputs": [],
   "source": [
    "support = []\n",
    "for ngram, labels in ngram_labels.items():\n",
    "    total = len(labels)\n",
    "    proportion = len([lbl for lbl in labels if lbl=='N'])/total\n",
    "    support.append((proportion, total, ngram))"
   ]
  },
  {
   "cell_type": "code",
   "execution_count": 58,
   "metadata": {},
   "outputs": [],
   "source": [
    "insights = sorted(support, key=itemgetter(1), reverse=True)"
   ]
  },
  {
   "cell_type": "code",
   "execution_count": 59,
   "metadata": {},
   "outputs": [
    {
     "name": "stdout",
     "output_type": "stream",
     "text": [
      "('of',): 88.3% (N=128)\n",
      "('with',): 94.2% (N=121)\n",
      "('show',): 92.3% (N=91)\n",
      "('contain',): 95.8% (N=72)\n",
      "('number',): 100.0% (N=60)\n",
      "('in', 'image'): 11.1% (N=54)\n",
      "('contain', 'of'): 97.8% (N=45)\n",
      "('show', 'with'): 97.1% (N=35)\n",
      "('be', 'in', 'image'): 5.9% (N=34)\n",
      "('contain', 'number', 'of'): 100.0% (N=30)\n",
      "('show', 'of'): 95.0% (N=20)\n",
      "('row',): 100.0% (N=19)\n",
      "('include',): 94.4% (N=18)\n",
      "('feature', 'with'): 100.0% (N=16)\n",
      "('be', 'with'): 93.8% (N=16)\n",
      "('contain', 'with'): 100.0% (N=15)\n",
      "('be', 'dog', 'in'): 10.0% (N=10)\n",
      "('dog', 'in', 'image'): 10.0% (N=10)\n",
      "('color',): 100.0% (N=10)\n",
      "('be', 'in', 'total'): 0.0% (N=9)\n",
      "('in', 'total'): 0.0% (N=9)\n",
      "('of', 'image'): 11.1% (N=9)\n",
      "('balloon',): 100.0% (N=9)\n"
     ]
    }
   ],
   "source": [
    "rules = {}\n",
    "for (proportion,total,ngram) in insights: \n",
    "    if abs(proportion-0.5)<0.38:\n",
    "        continue\n",
    "    if total<9:\n",
    "        continue\n",
    "    print(\"{}: {:.1f}% (N={})\".format(ngram,100.0*proportion,total))\n",
    "    if proportion>0.5:\n",
    "        rules[ngram]= \"N\"\n",
    "    else:\n",
    "        rules[ngram]= \"V\""
   ]
  },
  {
   "cell_type": "code",
   "execution_count": null,
   "metadata": {},
   "outputs": [],
   "source": []
  }
 ],
 "metadata": {
  "kernelspec": {
   "display_name": "Python 3",
   "language": "python",
   "name": "python3"
  },
  "language_info": {
   "codemirror_mode": {
    "name": "ipython",
    "version": 3
   },
   "file_extension": ".py",
   "mimetype": "text/x-python",
   "name": "python",
   "nbconvert_exporter": "python",
   "pygments_lexer": "ipython3",
   "version": "3.6.10"
  }
 },
 "nbformat": 4,
 "nbformat_minor": 2
}
