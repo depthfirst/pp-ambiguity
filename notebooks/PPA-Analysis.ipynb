{
 "cells": [
  {
   "cell_type": "markdown",
   "metadata": {},
   "source": [
    "# Resolving Ambiguity in Prepositional Phrase Attachment"
   ]
  },
  {
   "cell_type": "markdown",
   "metadata": {},
   "source": [
    "The problem of resolving ambiguity in prepositional phrase attachment is one that remains largely unsolved in NLP, and one that pre-trained language models such as BERT will likely not be of much help with. This notebook shows results of predicting prepositional phrase attachments across a subset of the NLVR2 dataset which has been annotated, leveraging a pre-trained language model commonly known as \"BERT\" (cite). \n",
    "\n",
    "We trained an SVM classifier from the output (hidden layers) of the large uncased model from BERT with whole word masking. The results are presented in terms of Cohen's kappa score and F1 score. "
   ]
  },
  {
   "cell_type": "code",
   "execution_count": 1,
   "metadata": {},
   "outputs": [],
   "source": [
    "from IPython.display import Image"
   ]
  },
  {
   "cell_type": "markdown",
   "metadata": {},
   "source": [
    "# Preliminary Steps"
   ]
  },
  {
   "cell_type": "code",
   "execution_count": 2,
   "metadata": {},
   "outputs": [],
   "source": [
    "# conda create -n python=3.7 ...\n",
    "# pip install transformers... "
   ]
  },
  {
   "cell_type": "code",
   "execution_count": 3,
   "metadata": {},
   "outputs": [],
   "source": [
    "import os\n",
    "import json\n",
    "import numpy as np\n",
    "import pandas as pd\n",
    "import matplotlib.pyplot as plt\n",
    "\n",
    "import sklearn\n",
    "from sklearn import svm\n",
    "from sklearn.metrics import f1_score, accuracy_score\n",
    "from sklearn.metrics import cohen_kappa_score as kappa\n",
    "from sklearn.metrics import confusion_matrix\n",
    "from sklearn.metrics import plot_confusion_matrix\n",
    "\n",
    "from collections import Counter\n",
    "from operator import itemgetter"
   ]
  },
  {
   "cell_type": "code",
   "execution_count": 4,
   "metadata": {},
   "outputs": [],
   "source": [
    "from generator import HuggingFaceGenerator, MaskedPrepGenerator, SpacyModel"
   ]
  },
  {
   "cell_type": "code",
   "execution_count": 5,
   "metadata": {},
   "outputs": [],
   "source": [
    "np.random.seed(91768)"
   ]
  },
  {
   "cell_type": "markdown",
   "metadata": {},
   "source": [
    "## Load Dataset (train/test)"
   ]
  },
  {
   "cell_type": "code",
   "execution_count": 6,
   "metadata": {},
   "outputs": [],
   "source": [
    "datadir = \"data\"\n",
    "outputdir = \".\""
   ]
  },
  {
   "cell_type": "code",
   "execution_count": 7,
   "metadata": {},
   "outputs": [],
   "source": [
    "train_data = json.load(open('{}/ppa_train.json'.format(datadir)))\n",
    "labels_train = [instance['label'] for instance in train_data]\n",
    "\n",
    "test_data = json.load(open('{}/ppa_test.json'.format(datadir)))\n",
    "labels_test = [instance['label'] for instance in test_data]"
   ]
  },
  {
   "cell_type": "markdown",
   "metadata": {},
   "source": [
    "## Using BERT Language Model\n",
    "We load a pre-trained model from BERT and use it to generate instances for model training. "
   ]
  },
  {
   "cell_type": "code",
   "execution_count": 8,
   "metadata": {},
   "outputs": [],
   "source": [
    "bert_model_name = \"bert-large-uncased-whole-word-masking\"\n",
    "hf_generator = HuggingFaceGenerator(bert_model_name)"
   ]
  },
  {
   "cell_type": "markdown",
   "metadata": {},
   "source": [
    "## Transform Dataset (or reload)"
   ]
  },
  {
   "cell_type": "code",
   "execution_count": 9,
   "metadata": {},
   "outputs": [],
   "source": [
    "train_feature_file = \"{}/hf_train.csv\".format(outputdir)\n",
    "test_feature_file = \"{}/hf_test.csv\".format(outputdir)"
   ]
  },
  {
   "cell_type": "code",
   "execution_count": 10,
   "metadata": {},
   "outputs": [],
   "source": [
    "if os.path.exists(train_feature_file):\n",
    "    hf_train = pd.read_csv(train_feature_file, header=None)\n",
    "else:\n",
    "    hf_train = hf_generator.generate_dataset(train_data)\n",
    "    pd.DataFrame(hf_train).to_csv(train_feature_file, header=False,index=False)"
   ]
  },
  {
   "cell_type": "code",
   "execution_count": 11,
   "metadata": {},
   "outputs": [],
   "source": [
    "if os.path.exists(test_feature_file):\n",
    "    hf_test = pd.read_csv(test_feature_file, header=None)\n",
    "else:\n",
    "    hf_test = hf_generator.generate_dataset(test_data)\n",
    "    pd.DataFrame(hf_test).to_csv(test_feature_file, header=False,index=False)"
   ]
  },
  {
   "cell_type": "markdown",
   "metadata": {},
   "source": [
    "# Model Training"
   ]
  },
  {
   "cell_type": "code",
   "execution_count": 12,
   "metadata": {},
   "outputs": [
    {
     "data": {
      "text/plain": [
       "SVC(C=100.0, break_ties=False, cache_size=200, class_weight=None, coef0=0.0,\n",
       "    decision_function_shape='ovr', degree=3, gamma=0.0001, kernel='rbf',\n",
       "    max_iter=-1, probability=False, random_state=91768, shrinking=True,\n",
       "    tol=0.001, verbose=False)"
      ]
     },
     "execution_count": 12,
     "metadata": {},
     "output_type": "execute_result"
    }
   ],
   "source": [
    "clfhf = svm.SVC(gamma=0.0001, C=100., random_state=91768)\n",
    "clfhf.fit(hf_train, labels_train)"
   ]
  },
  {
   "cell_type": "code",
   "execution_count": 13,
   "metadata": {},
   "outputs": [],
   "source": [
    "preds_test_hf = clfhf.predict(hf_test)"
   ]
  },
  {
   "cell_type": "code",
   "execution_count": 14,
   "metadata": {},
   "outputs": [
    {
     "name": "stdout",
     "output_type": "stream",
     "text": [
      "              precision    recall  f1-score   support\n",
      "\n",
      "           N      0.875     0.946     0.909       111\n",
      "           O      0.667     0.400     0.500        10\n",
      "           V      0.742     0.639     0.687        36\n",
      "\n",
      "    accuracy                          0.841       157\n",
      "   macro avg      0.761     0.662     0.699       157\n",
      "weighted avg      0.831     0.841     0.832       157\n",
      "\n"
     ]
    }
   ],
   "source": [
    "print(sklearn.metrics.classification_report(labels_test, preds_test_hf, digits=3))"
   ]
  },
  {
   "cell_type": "markdown",
   "metadata": {},
   "source": [
    "### without 'O'(ther) classification"
   ]
  },
  {
   "cell_type": "code",
   "execution_count": 15,
   "metadata": {},
   "outputs": [],
   "source": [
    "nvi = [i for i,lbl in enumerate(labels_train) if lbl in ['N','V']]"
   ]
  },
  {
   "cell_type": "code",
   "execution_count": 16,
   "metadata": {},
   "outputs": [],
   "source": [
    "labels_train_NV = [lbl for lbl in labels_train if lbl in ['N','V']]"
   ]
  },
  {
   "cell_type": "code",
   "execution_count": 17,
   "metadata": {},
   "outputs": [],
   "source": [
    "hf_train_NV = hf_train.to_numpy()[nvi]\n",
    "#hf_generator.generate_dataset([td for td,lbl in zip(train_data,labels_train) if lbl in ['N','V']])"
   ]
  },
  {
   "cell_type": "code",
   "execution_count": 18,
   "metadata": {},
   "outputs": [
    {
     "data": {
      "text/plain": [
       "(435, 16384)"
      ]
     },
     "execution_count": 18,
     "metadata": {},
     "output_type": "execute_result"
    }
   ],
   "source": [
    "hf_train_NV.shape"
   ]
  },
  {
   "cell_type": "code",
   "execution_count": 19,
   "metadata": {},
   "outputs": [],
   "source": [
    "nvi_test = [i for i,lbl in enumerate(labels_test) if lbl in ['N','V']]"
   ]
  },
  {
   "cell_type": "code",
   "execution_count": 20,
   "metadata": {},
   "outputs": [],
   "source": [
    "hf_test_NV = hf_test.to_numpy()[nvi_test]\n",
    "#hf_generator.generate_dataset([td for td,lbl in zip(test_data,labels_test) if lbl in ['N','V']])"
   ]
  },
  {
   "cell_type": "code",
   "execution_count": 21,
   "metadata": {},
   "outputs": [],
   "source": [
    "labels_test_NV = [lbl for lbl in labels_test if lbl in ['N','V']]"
   ]
  },
  {
   "cell_type": "code",
   "execution_count": 22,
   "metadata": {},
   "outputs": [
    {
     "data": {
      "text/plain": [
       "SVC(C=100.0, break_ties=False, cache_size=200, class_weight=None, coef0=0.0,\n",
       "    decision_function_shape='ovr', degree=3, gamma=0.0001, kernel='rbf',\n",
       "    max_iter=-1, probability=False, random_state=91768, shrinking=True,\n",
       "    tol=0.001, verbose=False)"
      ]
     },
     "execution_count": 22,
     "metadata": {},
     "output_type": "execute_result"
    }
   ],
   "source": [
    "clfhf2 = svm.SVC(gamma=0.0001, C=100., random_state=91768)\n",
    "clfhf2.fit(hf_train_NV, labels_train_NV)"
   ]
  },
  {
   "cell_type": "code",
   "execution_count": 23,
   "metadata": {},
   "outputs": [],
   "source": [
    "preds_test_hf2 = clfhf2.predict(hf_test_NV)"
   ]
  },
  {
   "cell_type": "code",
   "execution_count": 24,
   "metadata": {},
   "outputs": [
    {
     "data": {
      "text/plain": [
       "array([[105,   0,   6],\n",
       "       [  4,   4,   2],\n",
       "       [ 11,   2,  23]])"
      ]
     },
     "execution_count": 24,
     "metadata": {},
     "output_type": "execute_result"
    }
   ],
   "source": [
    "confusion_matrix(labels_test, preds_test_hf)"
   ]
  },
  {
   "cell_type": "code",
   "execution_count": 25,
   "metadata": {},
   "outputs": [
    {
     "data": {
      "text/plain": [
       "array([[104,   7],\n",
       "       [ 12,  24]])"
      ]
     },
     "execution_count": 25,
     "metadata": {},
     "output_type": "execute_result"
    }
   ],
   "source": [
    "confusion_matrix(labels_test_NV, preds_test_hf2)"
   ]
  },
  {
   "cell_type": "code",
   "execution_count": 26,
   "metadata": {},
   "outputs": [
    {
     "name": "stdout",
     "output_type": "stream",
     "text": [
      "              precision    recall  f1-score   support\n",
      "\n",
      "           N      0.897     0.937     0.916       111\n",
      "           V      0.774     0.667     0.716        36\n",
      "\n",
      "    accuracy                          0.871       147\n",
      "   macro avg      0.835     0.802     0.816       147\n",
      "weighted avg      0.867     0.871     0.867       147\n",
      "\n"
     ]
    }
   ],
   "source": [
    "print(sklearn.metrics.classification_report(labels_test_NV, preds_test_hf2, digits=3))"
   ]
  },
  {
   "cell_type": "markdown",
   "metadata": {},
   "source": [
    "## Applying BERT to the same dataset for the masked prep task... "
   ]
  },
  {
   "cell_type": "code",
   "execution_count": 27,
   "metadata": {},
   "outputs": [],
   "source": [
    "mpgen = MaskedPrepGenerator(bert_model_name)"
   ]
  },
  {
   "cell_type": "code",
   "execution_count": 28,
   "metadata": {},
   "outputs": [
    {
     "name": "stdout",
     "output_type": "stream",
     "text": [
      "(82 correct / 100 total)\n",
      "(160 correct / 200 total)\n",
      "(236 correct / 300 total)\n"
     ]
    }
   ],
   "source": [
    "mplabels,mppredictions=mpgen.evaluate_dataset(test_data,use_cuda=True)"
   ]
  },
  {
   "cell_type": "code",
   "execution_count": 29,
   "metadata": {},
   "outputs": [
    {
     "data": {
      "text/plain": [
       "0.7849462365591398"
      ]
     },
     "execution_count": 29,
     "metadata": {},
     "output_type": "execute_result"
    }
   ],
   "source": [
    "accuracy_score(mplabels,mppredictions)"
   ]
  },
  {
   "cell_type": "code",
   "execution_count": 30,
   "metadata": {},
   "outputs": [
    {
     "data": {
      "text/plain": [
       "0.7426407001279878"
      ]
     },
     "execution_count": 30,
     "metadata": {},
     "output_type": "execute_result"
    }
   ],
   "source": [
    "kappa(mplabels, mppredictions)"
   ]
  },
  {
   "cell_type": "code",
   "execution_count": 31,
   "metadata": {},
   "outputs": [
    {
     "data": {
      "text/plain": [
       "0.8111697864740477"
      ]
     },
     "execution_count": 31,
     "metadata": {},
     "output_type": "execute_result"
    }
   ],
   "source": [
    "sklearn.metrics.classification_report(mplabels, mppredictions, digits=3, output_dict=True, zero_division=0)['weighted avg']['f1-score']"
   ]
  },
  {
   "cell_type": "markdown",
   "metadata": {},
   "source": [
    "## Error Analysis"
   ]
  },
  {
   "cell_type": "code",
   "execution_count": 32,
   "metadata": {},
   "outputs": [],
   "source": [
    "get_4tpl = lambda x : (x['V']['lemma'],x['N']['lemma'],x['P']['lemma'],x['N2']['lemma'])"
   ]
  },
  {
   "cell_type": "code",
   "execution_count": 33,
   "metadata": {},
   "outputs": [],
   "source": [
    "spacy_model = SpacyModel()"
   ]
  },
  {
   "cell_type": "code",
   "execution_count": 34,
   "metadata": {},
   "outputs": [],
   "source": [
    "spacy_preds_train = [spacy_model.predict(t) for t in train_data]"
   ]
  },
  {
   "cell_type": "code",
   "execution_count": 35,
   "metadata": {},
   "outputs": [],
   "source": [
    "train_tuples = [get_4tpl(td) for td in list(train_data)]\n",
    "test_tuples = [get_4tpl(td) for td in list(test_data)]"
   ]
  },
  {
   "cell_type": "code",
   "execution_count": 36,
   "metadata": {},
   "outputs": [
    {
     "data": {
      "text/plain": [
       "array([[105,   0,   6],\n",
       "       [  4,   4,   2],\n",
       "       [ 11,   2,  23]])"
      ]
     },
     "execution_count": 36,
     "metadata": {},
     "output_type": "execute_result"
    }
   ],
   "source": [
    "confusion_matrix(labels_test,preds_test_hf,labels=['N','O','V'])"
   ]
  },
  {
   "cell_type": "code",
   "execution_count": 37,
   "metadata": {},
   "outputs": [
    {
     "data": {
      "text/plain": [
       "<sklearn.metrics._plot.confusion_matrix.ConfusionMatrixDisplay at 0x7f211c1e90f0>"
      ]
     },
     "execution_count": 37,
     "metadata": {},
     "output_type": "execute_result"
    },
    {
     "data": {
      "image/png": "[encoded data removed]",
      "text/plain": [
       "<Figure size 432x288 with 2 Axes>"
      ]
     },
     "metadata": {
      "needs_background": "light"
     },
     "output_type": "display_data"
    }
   ],
   "source": [
    "plot_confusion_matrix(clfhf, hf_test, labels_test, labels=['N','V','O'], values_format='d', cmap=plt.cm.Blues)"
   ]
  },
  {
   "cell_type": "code",
   "execution_count": 38,
   "metadata": {},
   "outputs": [],
   "source": [
    "errors = [(i,lbl,pred) for i,(lbl,pred) in enumerate(zip(labels_test,preds_test_hf)) if not lbl==pred]"
   ]
  },
  {
   "cell_type": "code",
   "execution_count": 39,
   "metadata": {},
   "outputs": [],
   "source": [
    "def get_err_info(err,data):\n",
    "    (i,lbl,pred)=err\n",
    "    td=data[i]\n",
    "    #print(td['sentence_text'])\n",
    "    return ((i,*get_4tpl(td),lbl,pred,td['sentence_text']))"
   ]
  },
  {
   "cell_type": "code",
   "execution_count": 40,
   "metadata": {},
   "outputs": [],
   "source": [
    "error_tuples=[]\n",
    "for err in errors: \n",
    "    # Exclude 'other' cases for now\n",
    "    if 'O' in err:\n",
    "        continue\n",
    "    error_tuples.append(get_err_info(err,test_data))"
   ]
  },
  {
   "cell_type": "code",
   "execution_count": 41,
   "metadata": {},
   "outputs": [],
   "source": [
    "df = pd.DataFrame(error_tuples, columns=['i','V','N1','P','N2','label','pred','sentence_text'])"
   ]
  },
  {
   "cell_type": "code",
   "execution_count": 42,
   "metadata": {},
   "outputs": [
    {
     "data": {
      "text/html": [
       "<div>\n",
       "<style scoped>\n",
       "    .dataframe tbody tr th:only-of-type {\n",
       "        vertical-align: middle;\n",
       "    }\n",
       "\n",
       "    .dataframe tbody tr th {\n",
       "        vertical-align: top;\n",
       "    }\n",
       "\n",
       "    .dataframe thead th {\n",
       "        text-align: right;\n",
       "    }\n",
       "</style>\n",
       "<table border=\"1\" class=\"dataframe\">\n",
       "  <thead>\n",
       "    <tr style=\"text-align: right;\">\n",
       "      <th></th>\n",
       "      <th>i</th>\n",
       "      <th>V</th>\n",
       "      <th>N1</th>\n",
       "      <th>P</th>\n",
       "      <th>N2</th>\n",
       "      <th>label</th>\n",
       "      <th>pred</th>\n",
       "      <th>sentence_text</th>\n",
       "    </tr>\n",
       "  </thead>\n",
       "  <tbody>\n",
       "    <tr>\n",
       "      <th>0</th>\n",
       "      <td>0</td>\n",
       "      <td>be</td>\n",
       "      <td>dog</td>\n",
       "      <td>in</td>\n",
       "      <td>pair</td>\n",
       "      <td>V</td>\n",
       "      <td>N</td>\n",
       "      <td>There are three chow dogs in the image pair.</td>\n",
       "    </tr>\n",
       "    <tr>\n",
       "      <th>1</th>\n",
       "      <td>20</td>\n",
       "      <td>wear</td>\n",
       "      <td>ear</td>\n",
       "      <td>on</td>\n",
       "      <td>head</td>\n",
       "      <td>N</td>\n",
       "      <td>V</td>\n",
       "      <td>A girl in long one piece pajamas is wearing mo...</td>\n",
       "    </tr>\n",
       "    <tr>\n",
       "      <th>2</th>\n",
       "      <td>28</td>\n",
       "      <td>feature</td>\n",
       "      <td>shape</td>\n",
       "      <td>above</td>\n",
       "      <td>shape</td>\n",
       "      <td>V</td>\n",
       "      <td>N</td>\n",
       "      <td>Each dispenser has a circle shape and an upsid...</td>\n",
       "    </tr>\n",
       "    <tr>\n",
       "      <th>3</th>\n",
       "      <td>57</td>\n",
       "      <td>be</td>\n",
       "      <td>dog</td>\n",
       "      <td>in</td>\n",
       "      <td>image</td>\n",
       "      <td>N</td>\n",
       "      <td>V</td>\n",
       "      <td>There is exactly one dog in the right image.</td>\n",
       "    </tr>\n",
       "    <tr>\n",
       "      <th>4</th>\n",
       "      <td>64</td>\n",
       "      <td>be</td>\n",
       "      <td>bottle</td>\n",
       "      <td>with</td>\n",
       "      <td>lid</td>\n",
       "      <td>N</td>\n",
       "      <td>V</td>\n",
       "      <td>There is one bottle with a lid and one bottle ...</td>\n",
       "    </tr>\n",
       "    <tr>\n",
       "      <th>5</th>\n",
       "      <td>67</td>\n",
       "      <td>have</td>\n",
       "      <td>door</td>\n",
       "      <td>in</td>\n",
       "      <td>section</td>\n",
       "      <td>N</td>\n",
       "      <td>V</td>\n",
       "      <td>Two tall narrow cabinets have at least three u...</td>\n",
       "    </tr>\n",
       "    <tr>\n",
       "      <th>6</th>\n",
       "      <td>72</td>\n",
       "      <td>put</td>\n",
       "      <td>leg</td>\n",
       "      <td>on</td>\n",
       "      <td>fence</td>\n",
       "      <td>V</td>\n",
       "      <td>N</td>\n",
       "      <td>putting their right leg high up on a fence.</td>\n",
       "    </tr>\n",
       "    <tr>\n",
       "      <th>7</th>\n",
       "      <td>75</td>\n",
       "      <td>have</td>\n",
       "      <td>toy</td>\n",
       "      <td>in</td>\n",
       "      <td>front</td>\n",
       "      <td>V</td>\n",
       "      <td>N</td>\n",
       "      <td>At least one of the dogs has a small toy in fr...</td>\n",
       "    </tr>\n",
       "    <tr>\n",
       "      <th>8</th>\n",
       "      <td>78</td>\n",
       "      <td>include</td>\n",
       "      <td>wand</td>\n",
       "      <td>to</td>\n",
       "      <td>right</td>\n",
       "      <td>V</td>\n",
       "      <td>N</td>\n",
       "      <td>The combined images include an uncapped lipsti...</td>\n",
       "    </tr>\n",
       "    <tr>\n",
       "      <th>9</th>\n",
       "      <td>83</td>\n",
       "      <td>be</td>\n",
       "      <td>awning</td>\n",
       "      <td>over</td>\n",
       "      <td>machine</td>\n",
       "      <td>V</td>\n",
       "      <td>N</td>\n",
       "      <td>There is an awning over the machines in one of...</td>\n",
       "    </tr>\n",
       "    <tr>\n",
       "      <th>10</th>\n",
       "      <td>105</td>\n",
       "      <td>show</td>\n",
       "      <td>bottle</td>\n",
       "      <td>to</td>\n",
       "      <td>cylinder</td>\n",
       "      <td>V</td>\n",
       "      <td>N</td>\n",
       "      <td>One image shows a bottle next to a white cylin...</td>\n",
       "    </tr>\n",
       "    <tr>\n",
       "      <th>11</th>\n",
       "      <td>112</td>\n",
       "      <td>cover</td>\n",
       "      <td>wall</td>\n",
       "      <td>with</td>\n",
       "      <td>area</td>\n",
       "      <td>V</td>\n",
       "      <td>N</td>\n",
       "      <td>A shelving unit covers one wall with a unique ...</td>\n",
       "    </tr>\n",
       "    <tr>\n",
       "      <th>12</th>\n",
       "      <td>116</td>\n",
       "      <td>be</td>\n",
       "      <td>deer</td>\n",
       "      <td>in</td>\n",
       "      <td>tree</td>\n",
       "      <td>N</td>\n",
       "      <td>V</td>\n",
       "      <td>there are at least 3 deer in a tree eating in ...</td>\n",
       "    </tr>\n",
       "    <tr>\n",
       "      <th>13</th>\n",
       "      <td>123</td>\n",
       "      <td>show</td>\n",
       "      <td>hound</td>\n",
       "      <td>to</td>\n",
       "      <td>shape</td>\n",
       "      <td>V</td>\n",
       "      <td>N</td>\n",
       "      <td>An image shows a basset hound next to a tube s...</td>\n",
       "    </tr>\n",
       "    <tr>\n",
       "      <th>14</th>\n",
       "      <td>142</td>\n",
       "      <td>be</td>\n",
       "      <td>dog</td>\n",
       "      <td>on</td>\n",
       "      <td>rug</td>\n",
       "      <td>V</td>\n",
       "      <td>N</td>\n",
       "      <td>There is a dog on a green rug.</td>\n",
       "    </tr>\n",
       "    <tr>\n",
       "      <th>15</th>\n",
       "      <td>145</td>\n",
       "      <td>be</td>\n",
       "      <td>person</td>\n",
       "      <td>on</td>\n",
       "      <td>bus</td>\n",
       "      <td>N</td>\n",
       "      <td>V</td>\n",
       "      <td>There is at least one person on the bus.</td>\n",
       "    </tr>\n",
       "    <tr>\n",
       "      <th>16</th>\n",
       "      <td>154</td>\n",
       "      <td>be</td>\n",
       "      <td>duck</td>\n",
       "      <td>in</td>\n",
       "      <td>image</td>\n",
       "      <td>V</td>\n",
       "      <td>N</td>\n",
       "      <td>There are exactly two ducks in the right image.</td>\n",
       "    </tr>\n",
       "  </tbody>\n",
       "</table>\n",
       "</div>"
      ],
      "text/plain": [
       "      i        V      N1      P        N2 label pred  \\\n",
       "0     0       be     dog     in      pair     V    N   \n",
       "1    20     wear     ear     on      head     N    V   \n",
       "2    28  feature   shape  above     shape     V    N   \n",
       "3    57       be     dog     in     image     N    V   \n",
       "4    64       be  bottle   with       lid     N    V   \n",
       "5    67     have    door     in   section     N    V   \n",
       "6    72      put     leg     on     fence     V    N   \n",
       "7    75     have     toy     in     front     V    N   \n",
       "8    78  include    wand     to     right     V    N   \n",
       "9    83       be  awning   over   machine     V    N   \n",
       "10  105     show  bottle     to  cylinder     V    N   \n",
       "11  112    cover    wall   with      area     V    N   \n",
       "12  116       be    deer     in      tree     N    V   \n",
       "13  123     show   hound     to     shape     V    N   \n",
       "14  142       be     dog     on       rug     V    N   \n",
       "15  145       be  person     on       bus     N    V   \n",
       "16  154       be    duck     in     image     V    N   \n",
       "\n",
       "                                        sentence_text  \n",
       "0        There are three chow dogs in the image pair.  \n",
       "1   A girl in long one piece pajamas is wearing mo...  \n",
       "2   Each dispenser has a circle shape and an upsid...  \n",
       "3        There is exactly one dog in the right image.  \n",
       "4   There is one bottle with a lid and one bottle ...  \n",
       "5   Two tall narrow cabinets have at least three u...  \n",
       "6         putting their right leg high up on a fence.  \n",
       "7   At least one of the dogs has a small toy in fr...  \n",
       "8   The combined images include an uncapped lipsti...  \n",
       "9   There is an awning over the machines in one of...  \n",
       "10  One image shows a bottle next to a white cylin...  \n",
       "11  A shelving unit covers one wall with a unique ...  \n",
       "12  there are at least 3 deer in a tree eating in ...  \n",
       "13  An image shows a basset hound next to a tube s...  \n",
       "14                     There is a dog on a green rug.  \n",
       "15           There is at least one person on the bus.  \n",
       "16    There are exactly two ducks in the right image.  "
      ]
     },
     "execution_count": 42,
     "metadata": {},
     "output_type": "execute_result"
    }
   ],
   "source": [
    "df"
   ]
  },
  {
   "cell_type": "code",
   "execution_count": 43,
   "metadata": {},
   "outputs": [],
   "source": [
    "# Not sure:\n",
    "# There are at least 3 deer in a tree...\n",
    "# There is a dog on a green rug. \n",
    "# also not sure what to do about 'next to'"
   ]
  },
  {
   "cell_type": "code",
   "execution_count": 44,
   "metadata": {},
   "outputs": [],
   "source": [
    "# Some instances seem to be labeled incorrectly\n",
    "wrong_label_indices = [1,3,12,15]"
   ]
  },
  {
   "cell_type": "code",
   "execution_count": 45,
   "metadata": {},
   "outputs": [],
   "source": [
    "new_test_labels = [lbl for lbl in labels_test]\n",
    "for i in df.to_numpy()[wrong_label_indices,0]:\n",
    "    new_test_labels[i] = 'V'"
   ]
  },
  {
   "cell_type": "markdown",
   "metadata": {},
   "source": [
    "## Analyze train/dev"
   ]
  },
  {
   "cell_type": "code",
   "execution_count": 46,
   "metadata": {},
   "outputs": [],
   "source": [
    "spacy_preds = [spacy_model.predict(t) for t in test_data]"
   ]
  },
  {
   "cell_type": "code",
   "execution_count": 47,
   "metadata": {},
   "outputs": [],
   "source": [
    "classifiers = ['all_noun','spacy','bert']"
   ]
  },
  {
   "cell_type": "code",
   "execution_count": 48,
   "metadata": {},
   "outputs": [],
   "source": [
    "test_preds = [['N' for i in range(len(labels_test))], spacy_preds, preds_test_hf]"
   ]
  },
  {
   "cell_type": "code",
   "execution_count": 49,
   "metadata": {},
   "outputs": [],
   "source": [
    "class_reports = {cl: sklearn.metrics.classification_report(labels_test, preds, digits=3, output_dict=True, zero_division=0) \n",
    "                 for (cl,preds) in zip(classifiers, test_preds)}"
   ]
  },
  {
   "cell_type": "code",
   "execution_count": 50,
   "metadata": {},
   "outputs": [
    {
     "data": {
      "text/html": [
       "<div>\n",
       "<style scoped>\n",
       "    .dataframe tbody tr th:only-of-type {\n",
       "        vertical-align: middle;\n",
       "    }\n",
       "\n",
       "    .dataframe tbody tr th {\n",
       "        vertical-align: top;\n",
       "    }\n",
       "\n",
       "    .dataframe thead th {\n",
       "        text-align: right;\n",
       "    }\n",
       "</style>\n",
       "<table border=\"1\" class=\"dataframe\">\n",
       "  <thead>\n",
       "    <tr style=\"text-align: right;\">\n",
       "      <th></th>\n",
       "      <th>classifier</th>\n",
       "      <th>weighted avg f1-score</th>\n",
       "    </tr>\n",
       "  </thead>\n",
       "  <tbody>\n",
       "    <tr>\n",
       "      <th>0</th>\n",
       "      <td>all_noun</td>\n",
       "      <td>0.585655</td>\n",
       "    </tr>\n",
       "    <tr>\n",
       "      <th>1</th>\n",
       "      <td>spacy</td>\n",
       "      <td>0.722477</td>\n",
       "    </tr>\n",
       "    <tr>\n",
       "      <th>2</th>\n",
       "      <td>bert</td>\n",
       "      <td>0.832010</td>\n",
       "    </tr>\n",
       "  </tbody>\n",
       "</table>\n",
       "</div>"
      ],
      "text/plain": [
       "  classifier  weighted avg f1-score\n",
       "0   all_noun               0.585655\n",
       "1      spacy               0.722477\n",
       "2       bert               0.832010"
      ]
     },
     "execution_count": 50,
     "metadata": {},
     "output_type": "execute_result"
    }
   ],
   "source": [
    "pd.DataFrame([[c, class_reports[c]['weighted avg']['f1-score']] for c in classifiers], columns=['classifier','weighted avg f1-score'])"
   ]
  },
  {
   "cell_type": "code",
   "execution_count": 51,
   "metadata": {},
   "outputs": [
    {
     "name": "stdout",
     "output_type": "stream",
     "text": [
      "              precision    recall  f1-score   support\n",
      "\n",
      "           N      0.707     1.000     0.828       111\n",
      "           O      0.000     0.000     0.000        10\n",
      "           V      0.000     0.000     0.000        36\n",
      "\n",
      "    accuracy                          0.707       157\n",
      "   macro avg      0.236     0.333     0.276       157\n",
      "weighted avg      0.500     0.707     0.586       157\n",
      "\n"
     ]
    }
   ],
   "source": [
    "print(sklearn.metrics.classification_report(labels_test, ['N' for i in range(len(labels_test))], digits=3,zero_division=0))"
   ]
  },
  {
   "cell_type": "code",
   "execution_count": 52,
   "metadata": {},
   "outputs": [
    {
     "name": "stdout",
     "output_type": "stream",
     "text": [
      "              precision    recall  f1-score   support\n",
      "\n",
      "           N      0.798     0.928     0.858       111\n",
      "           O      0.500     0.800     0.615        10\n",
      "           V      0.667     0.222     0.333        36\n",
      "\n",
      "    accuracy                          0.758       157\n",
      "   macro avg      0.655     0.650     0.602       157\n",
      "weighted avg      0.749     0.758     0.722       157\n",
      "\n"
     ]
    }
   ],
   "source": [
    "print(sklearn.metrics.classification_report(labels_test, spacy_preds, digits=3))"
   ]
  },
  {
   "cell_type": "code",
   "execution_count": 53,
   "metadata": {},
   "outputs": [
    {
     "name": "stdout",
     "output_type": "stream",
     "text": [
      "              precision    recall  f1-score   support\n",
      "\n",
      "           N      0.875     0.946     0.909       111\n",
      "           O      0.667     0.400     0.500        10\n",
      "           V      0.742     0.639     0.687        36\n",
      "\n",
      "    accuracy                          0.841       157\n",
      "   macro avg      0.761     0.662     0.699       157\n",
      "weighted avg      0.831     0.841     0.832       157\n",
      "\n"
     ]
    }
   ],
   "source": [
    "print(sklearn.metrics.classification_report(labels_test, preds_test_hf, digits=3))"
   ]
  },
  {
   "cell_type": "code",
   "execution_count": 54,
   "metadata": {},
   "outputs": [
    {
     "name": "stdout",
     "output_type": "stream",
     "text": [
      "              precision    recall  f1-score   support\n",
      "\n",
      "           N      0.780     0.855     0.816       331\n",
      "           O      0.481     0.703     0.571        37\n",
      "           V      0.455     0.240     0.314       104\n",
      "\n",
      "    accuracy                          0.708       472\n",
      "   macro avg      0.572     0.599     0.567       472\n",
      "weighted avg      0.685     0.708     0.686       472\n",
      "\n"
     ]
    }
   ],
   "source": [
    "print(sklearn.metrics.classification_report(labels_train, spacy_preds_train, digits=3))"
   ]
  },
  {
   "cell_type": "code",
   "execution_count": 55,
   "metadata": {},
   "outputs": [],
   "source": [
    "def collect_labels(train_tuples, train_labels):\n",
    "    ngram_labels = {}\n",
    "    probs = {}\n",
    "    for tpl,lbl in zip(train_tuples,train_labels):\n",
    "        triples = [tpl[:3],(tpl[0],*tpl[2:]),tpl[1:]]\n",
    "        doubles = [(tpl[0],tpl[2]),tpl[1:2],tpl[2:]]\n",
    "        singles = [tuple([t]) for t in tpl]\n",
    "        subtuples = [(tpl)] + triples + doubles + singles\n",
    "        for subtpl in subtuples:\n",
    "            if subtpl not in ngram_labels:\n",
    "                ngram_labels[subtpl] = []\n",
    "            ngram_labels[subtpl].append(lbl)\n",
    "    return ngram_labels"
   ]
  },
  {
   "cell_type": "code",
   "execution_count": 56,
   "metadata": {},
   "outputs": [],
   "source": [
    "ngram_labels=collect_labels(train_tuples, labels_train)"
   ]
  },
  {
   "cell_type": "code",
   "execution_count": 57,
   "metadata": {},
   "outputs": [],
   "source": [
    "support = []\n",
    "for ngram, labels in ngram_labels.items():\n",
    "    total = len(labels)\n",
    "    proportion = len([lbl for lbl in labels if lbl=='N'])/total\n",
    "    support.append((proportion, total, ngram))"
   ]
  },
  {
   "cell_type": "code",
   "execution_count": 58,
   "metadata": {},
   "outputs": [],
   "source": [
    "insights = sorted(support, key=itemgetter(1), reverse=True)"
   ]
  },
  {
   "cell_type": "code",
   "execution_count": 59,
   "metadata": {},
   "outputs": [
    {
     "name": "stdout",
     "output_type": "stream",
     "text": [
      "('of',): 88.3% (N=128)\n",
      "('with',): 94.2% (N=121)\n",
      "('show',): 92.3% (N=91)\n",
      "('contain',): 95.8% (N=72)\n",
      "('number',): 100.0% (N=60)\n",
      "('in', 'image'): 11.1% (N=54)\n",
      "('contain', 'of'): 97.8% (N=45)\n",
      "('show', 'with'): 97.1% (N=35)\n",
      "('be', 'in', 'image'): 5.9% (N=34)\n",
      "('contain', 'number', 'of'): 100.0% (N=30)\n",
      "('show', 'of'): 95.0% (N=20)\n",
      "('row',): 100.0% (N=19)\n",
      "('include',): 94.4% (N=18)\n",
      "('feature', 'with'): 100.0% (N=16)\n",
      "('be', 'with'): 93.8% (N=16)\n",
      "('contain', 'with'): 100.0% (N=15)\n",
      "('be', 'dog', 'in'): 10.0% (N=10)\n",
      "('dog', 'in', 'image'): 10.0% (N=10)\n",
      "('color',): 100.0% (N=10)\n",
      "('be', 'in', 'total'): 0.0% (N=9)\n",
      "('in', 'total'): 0.0% (N=9)\n",
      "('of', 'image'): 11.1% (N=9)\n",
      "('balloon',): 100.0% (N=9)\n"
     ]
    }
   ],
   "source": [
    "rules = {}\n",
    "proportions = {}\n",
    "ncounts = {}\n",
    "for (proportion,total,ngram) in insights: \n",
    "    if abs(proportion-0.5)<0.38:\n",
    "        continue\n",
    "    if total<9:\n",
    "        continue\n",
    "    print(\"{}: {:.1f}% (N={})\".format(ngram,100.0*proportion,total))\n",
    "    if proportion>0.5:\n",
    "        rules[ngram]= \"N\"\n",
    "    else:\n",
    "        rules[ngram]= \"V\"\n",
    "    proportions[ngram]=proportion\n",
    "    ncounts[ngram] = total"
   ]
  },
  {
   "cell_type": "code",
   "execution_count": 60,
   "metadata": {},
   "outputs": [],
   "source": [
    "errors = [(i,lbl,pred) for i,(lbl,pred) in enumerate(zip(new_test_labels,preds_test_hf)) if not lbl==pred]"
   ]
  },
  {
   "cell_type": "code",
   "execution_count": 61,
   "metadata": {},
   "outputs": [],
   "source": [
    "error_tuples=[]\n",
    "for err in errors: \n",
    "    # Exclude 'other' cases for now\n",
    "    if 'O' in err:\n",
    "        continue\n",
    "    error_tuples.append(get_err_info(err,test_data))"
   ]
  },
  {
   "cell_type": "code",
   "execution_count": 62,
   "metadata": {},
   "outputs": [],
   "source": [
    "df = pd.DataFrame(error_tuples, columns=['i','V','N1','P','N2','label','pred','sentence_text'])"
   ]
  },
  {
   "cell_type": "code",
   "execution_count": 63,
   "metadata": {},
   "outputs": [],
   "source": [
    "errtpls=[]\n",
    "errlbls=[]\n",
    "for row in df.iterrows():\n",
    "    tpl = (row[1]['V'],row[1]['N1'],row[1]['P'],row[1]['N2'])\n",
    "    lbl = row[1]['pred']\n",
    "    errtpls.append(tpl)\n",
    "    errlbls.append(lbl)\n"
   ]
  },
  {
   "cell_type": "code",
   "execution_count": 64,
   "metadata": {},
   "outputs": [],
   "source": [
    "err_ngram_labels = collect_labels(errtpls,errlbls)"
   ]
  },
  {
   "cell_type": "code",
   "execution_count": 65,
   "metadata": {},
   "outputs": [
    {
     "name": "stdout",
     "output_type": "stream",
     "text": [
      "('be', 'dog', 'in') N V 0.1 10\n",
      "('be', 'with') V N 0.9375 16\n",
      "('with',) V N 0.9421487603305785 121\n",
      "('include',) N N 0.9444444444444444 18\n",
      "('show',) N N 0.9230769230769231 91\n",
      "('be', 'in', 'image') N V 0.058823529411764705 34\n",
      "('in', 'image') N V 0.1111111111111111 54\n"
     ]
    }
   ],
   "source": [
    "for ngl,nglbl in err_ngram_labels.items():\n",
    "    nglbl = nglbl[0]\n",
    "    if ngl in rules:\n",
    "        print(ngl,nglbl,rules[ngl],proportions[ngl],ncounts[ngl])\n",
    "    "
   ]
  },
  {
   "cell_type": "code",
   "execution_count": 66,
   "metadata": {},
   "outputs": [],
   "source": [
    "def get_subtuples(tpl):\n",
    "    triples = [tpl[:3],(tpl[0],*tpl[2:]),tpl[1:]]\n",
    "    doubles = [(tpl[0],tpl[2]),tpl[1:2],tpl[2:]]\n",
    "    singles = [tuple([t]) for t in tpl]\n",
    "    subtuples = [(tpl)] + triples + doubles + singles\n",
    "    return subtuples"
   ]
  },
  {
   "cell_type": "code",
   "execution_count": 67,
   "metadata": {},
   "outputs": [
    {
     "name": "stdout",
     "output_type": "stream",
     "text": [
      "('be', 'dog', 'in', 'pair') [(('be', 'dog', 'in'), 0.1, 10)] There are three chow dogs in the image pair.\n",
      "('feature', 'shape', 'above', 'shape') V N Each dispenser has a circle shape and an upside-down raindrop shape on its front, and at least one dispenser features the raindrop shape above the circle shape.\n",
      "('be', 'bottle', 'with', 'lid') [(('be', 'with'), 0.9375, 16), (('with',), 0.9421487603305785, 121)] There is one bottle with a lid and one bottle without a lid.\n",
      "('have', 'door', 'in', 'section') N V Two tall narrow cabinets have at least three upper shelves and have flat tops, but only one has two doors in its lower section.\n",
      "('put', 'leg', 'on', 'fence') V N putting their right leg high up on a fence.\n",
      "('have', 'toy', 'in', 'front') V N At least one of the dogs has a small toy in front of him.\n",
      "('include', 'wand', 'to', 'right') [(('include',), 0.9444444444444444, 18)] The combined images include an uncapped lipstick wand to the right of a capped lipstick, and a squarish smear of reddish rouge left of them.\n",
      "('be', 'awning', 'over', 'machine') V N There is an awning over the machines in one of the images.\n",
      "('show', 'bottle', 'to', 'cylinder') [(('show',), 0.9230769230769231, 91)] One image shows a bottle next to a white cylinder but not overlapping it, and the other image shows a single upright bottle.\n",
      "('cover', 'wall', 'with', 'area') [(('with',), 0.9421487603305785, 121)] A shelving unit covers one wall with a unique center area, but identical sections on each side, glass upper doors in one image, and solid panels in the other.\n",
      "('show', 'hound', 'to', 'shape') [(('show',), 0.9230769230769231, 91)] An image shows a basset hound next to a tube shape, and the dog has at least one front paw propped over something.\n",
      "('be', 'dog', 'on', 'rug') V N There is a dog on a green rug.\n",
      "('be', 'duck', 'in', 'image') [(('be', 'in', 'image'), 0.058823529411764705, 34), (('in', 'image'), 0.1111111111111111, 54)] There are exactly two ducks in the right image.\n"
     ]
    }
   ],
   "source": [
    "for (i,v,n1,p,n2,lbl,pred,senttxt) in error_tuples:\n",
    "    subtpls = get_subtuples((v,n1,p,n2))\n",
    "    matching_rules = [ngl for ngl in subtpls if ngl in rules]\n",
    "    if len(matching_rules)==0:\n",
    "        print((v,n1,p,n2),lbl,pred,senttxt)\n",
    "        continue\n",
    "    props = [proportions[ngram] for ngram in matching_rules]\n",
    "    ncnts = [ncounts[ngram] for ngram in matching_rules]\n",
    "    print((v,n1,p,n2),[(r,p,n) for (r,p,n) in zip(matching_rules,props,ncnts)],senttxt)\n",
    "    # Weird with case of absolute"
   ]
  },
  {
   "cell_type": "code",
   "execution_count": 83,
   "metadata": {},
   "outputs": [
    {
     "data": {
      "text/plain": [
       "472"
      ]
     },
     "execution_count": 83,
     "metadata": {},
     "output_type": "execute_result"
    }
   ],
   "source": [
    "len(train_tuples)"
   ]
  },
  {
   "cell_type": "code",
   "execution_count": 84,
   "metadata": {},
   "outputs": [],
   "source": [
    "verbs = "
   ]
  },
  {
   "cell_type": "code",
   "execution_count": 85,
   "metadata": {},
   "outputs": [
    {
     "data": {
      "text/plain": [
       "472"
      ]
     },
     "execution_count": 85,
     "metadata": {},
     "output_type": "execute_result"
    }
   ],
   "source": [
    "len(verbs)"
   ]
  },
  {
   "cell_type": "code",
   "execution_count": 107,
   "metadata": {},
   "outputs": [],
   "source": [
    "verbs_df = pd.DataFrame.from_dict(Counter([v for (v,n1,p,n2) in train_tuples]),orient='index') \\\n",
    "    .reset_index() \\\n",
    "    .rename(columns={\"index\":\"verb\",0:\"count\"}) \\\n",
    "    .sort_values(by='count', ascending=False, ignore_index=True, inplace=False)"
   ]
  },
  {
   "cell_type": "code",
   "execution_count": 108,
   "metadata": {},
   "outputs": [
    {
     "data": {
      "text/html": [
       "<div>\n",
       "<style scoped>\n",
       "    .dataframe tbody tr th:only-of-type {\n",
       "        vertical-align: middle;\n",
       "    }\n",
       "\n",
       "    .dataframe tbody tr th {\n",
       "        vertical-align: top;\n",
       "    }\n",
       "\n",
       "    .dataframe thead th {\n",
       "        text-align: right;\n",
       "    }\n",
       "</style>\n",
       "<table border=\"1\" class=\"dataframe\">\n",
       "  <thead>\n",
       "    <tr style=\"text-align: right;\">\n",
       "      <th></th>\n",
       "      <th>verb</th>\n",
       "      <th>count</th>\n",
       "    </tr>\n",
       "  </thead>\n",
       "  <tbody>\n",
       "    <tr>\n",
       "      <th>0</th>\n",
       "      <td>be</td>\n",
       "      <td>117</td>\n",
       "    </tr>\n",
       "    <tr>\n",
       "      <th>1</th>\n",
       "      <td>show</td>\n",
       "      <td>91</td>\n",
       "    </tr>\n",
       "    <tr>\n",
       "      <th>2</th>\n",
       "      <td>contain</td>\n",
       "      <td>72</td>\n",
       "    </tr>\n",
       "    <tr>\n",
       "      <th>3</th>\n",
       "      <td>feature</td>\n",
       "      <td>32</td>\n",
       "    </tr>\n",
       "    <tr>\n",
       "      <th>4</th>\n",
       "      <td>have</td>\n",
       "      <td>29</td>\n",
       "    </tr>\n",
       "    <tr>\n",
       "      <th>...</th>\n",
       "      <td>...</td>\n",
       "      <td>...</td>\n",
       "    </tr>\n",
       "    <tr>\n",
       "      <th>63</th>\n",
       "      <td>plow</td>\n",
       "      <td>1</td>\n",
       "    </tr>\n",
       "    <tr>\n",
       "      <th>64</th>\n",
       "      <td>cap</td>\n",
       "      <td>1</td>\n",
       "    </tr>\n",
       "    <tr>\n",
       "      <th>65</th>\n",
       "      <td>make</td>\n",
       "      <td>1</td>\n",
       "    </tr>\n",
       "    <tr>\n",
       "      <th>66</th>\n",
       "      <td>bear</td>\n",
       "      <td>1</td>\n",
       "    </tr>\n",
       "    <tr>\n",
       "      <th>67</th>\n",
       "      <td>grasp</td>\n",
       "      <td>1</td>\n",
       "    </tr>\n",
       "  </tbody>\n",
       "</table>\n",
       "<p>68 rows × 2 columns</p>\n",
       "</div>"
      ],
      "text/plain": [
       "       verb  count\n",
       "0        be    117\n",
       "1      show     91\n",
       "2   contain     72\n",
       "3   feature     32\n",
       "4      have     29\n",
       "..      ...    ...\n",
       "63     plow      1\n",
       "64      cap      1\n",
       "65     make      1\n",
       "66     bear      1\n",
       "67    grasp      1\n",
       "\n",
       "[68 rows x 2 columns]"
      ]
     },
     "execution_count": 108,
     "metadata": {},
     "output_type": "execute_result"
    }
   ],
   "source": [
    "verbs_df"
   ]
  },
  {
   "cell_type": "code",
   "execution_count": 110,
   "metadata": {},
   "outputs": [],
   "source": [
    "presentation_verb_lemmas = ['include','feature','show','be','wear','cover','contain','have']"
   ]
  },
  {
   "cell_type": "code",
   "execution_count": 129,
   "metadata": {},
   "outputs": [],
   "source": [
    "pres_verbs_df=verbs_df.isin({'verb': presentation_verb_lemmas})"
   ]
  },
  {
   "cell_type": "code",
   "execution_count": 139,
   "metadata": {},
   "outputs": [],
   "source": [
    "presentation_verb_test = verbs_df['verb'].map(lambda x: x in presentation_verb_lemmas)"
   ]
  },
  {
   "cell_type": "code",
   "execution_count": 143,
   "metadata": {},
   "outputs": [],
   "source": [
    "nonpresentation_verb_test = verbs_df['verb'].map(lambda x: x not in presentation_verb_lemmas)"
   ]
  },
  {
   "cell_type": "code",
   "execution_count": null,
   "metadata": {},
   "outputs": [],
   "source": [
    "verbs_df[]"
   ]
  },
  {
   "cell_type": "code",
   "execution_count": 147,
   "metadata": {},
   "outputs": [],
   "source": [
    "s=\"hold, face, see, match, depict, look, view, stare, angle, expose, draw, receive, frame, accompany, wave\""
   ]
  },
  {
   "cell_type": "code",
   "execution_count": 150,
   "metadata": {},
   "outputs": [],
   "source": [
    "pres_candidates = s.split(\", \")"
   ]
  },
  {
   "cell_type": "code",
   "execution_count": 151,
   "metadata": {},
   "outputs": [
    {
     "data": {
      "text/plain": [
       "['hold',\n",
       " 'face',\n",
       " 'see',\n",
       " 'match',\n",
       " 'depict',\n",
       " 'look',\n",
       " 'view',\n",
       " 'stare',\n",
       " 'angle',\n",
       " 'expose',\n",
       " 'draw',\n",
       " 'receive',\n",
       " 'frame',\n",
       " 'accompany',\n",
       " 'wave']"
      ]
     },
     "execution_count": 151,
     "metadata": {},
     "output_type": "execute_result"
    }
   ],
   "source": [
    "pres_candidates"
   ]
  },
  {
   "cell_type": "code",
   "execution_count": 154,
   "metadata": {},
   "outputs": [
    {
     "data": {
      "text/plain": [
       "['mash',\n",
       " 'stand',\n",
       " 'touch',\n",
       " 'fold',\n",
       " 'park',\n",
       " 'eat',\n",
       " 'fall',\n",
       " 'place',\n",
       " 'bound',\n",
       " 'rise',\n",
       " 'clutch',\n",
       " 'push',\n",
       " 'vend',\n",
       " 'color',\n",
       " 'shape',\n",
       " 'use',\n",
       " 'tie',\n",
       " 'stir',\n",
       " 'sit',\n",
       " 'repeat',\n",
       " 'contrast',\n",
       " 'recline',\n",
       " 'sle',\n",
       " 'recess',\n",
       " 'feed',\n",
       " 'lower',\n",
       " 'lift',\n",
       " 'set',\n",
       " 'head',\n",
       " 'back',\n",
       " 'groom',\n",
       " 'trim',\n",
       " 'roll',\n",
       " 'stop',\n",
       " 'spot',\n",
       " 'oppose',\n",
       " 'turn',\n",
       " 'slide',\n",
       " 'fill',\n",
       " 'dry',\n",
       " 'plow',\n",
       " 'cap',\n",
       " 'make',\n",
       " 'bear',\n",
       " 'grasp']"
      ]
     },
     "execution_count": 154,
     "metadata": {},
     "output_type": "execute_result"
    }
   ],
   "source": [
    "[v for v in verbs_df[nonpresentation_verb_test].verb.tolist() if v not in pres_candidates]"
   ]
  },
  {
   "cell_type": "code",
   "execution_count": 155,
   "metadata": {},
   "outputs": [],
   "source": [
    "prescand_verb_test = verbs_df['verb'].map(lambda x : x in presentation_verb_lemmas or x in pres_candidates)"
   ]
  },
  {
   "cell_type": "code",
   "execution_count": 161,
   "metadata": {},
   "outputs": [
    {
     "data": {
      "text/plain": [
       "count    419\n",
       "dtype: int64"
      ]
     },
     "execution_count": 161,
     "metadata": {},
     "output_type": "execute_result"
    }
   ],
   "source": [
    "verbs_df[prescand_verb_test].sum(axis=0,numeric_only=True)"
   ]
  },
  {
   "cell_type": "code",
   "execution_count": 162,
   "metadata": {},
   "outputs": [
    {
     "data": {
      "text/plain": [
       "count    472\n",
       "dtype: int64"
      ]
     },
     "execution_count": 162,
     "metadata": {},
     "output_type": "execute_result"
    }
   ],
   "source": [
    "verbs_df.sum(axis=0,numeric_only=True)"
   ]
  },
  {
   "cell_type": "code",
   "execution_count": 163,
   "metadata": {},
   "outputs": [
    {
     "data": {
      "text/plain": [
       "0.8877118644067796"
      ]
     },
     "execution_count": 163,
     "metadata": {},
     "output_type": "execute_result"
    }
   ],
   "source": [
    "419/472"
   ]
  },
  {
   "cell_type": "code",
   "execution_count": 164,
   "metadata": {},
   "outputs": [
    {
     "data": {
      "text/plain": [
       "count    0.800847\n",
       "dtype: float64"
      ]
     },
     "execution_count": 164,
     "metadata": {},
     "output_type": "execute_result"
    }
   ],
   "source": [
    "verbs_df[presentation_verb_test].sum(axis=0,numeric_only=True)/len(train_tuples)"
   ]
  },
  {
   "cell_type": "code",
   "execution_count": 165,
   "metadata": {},
   "outputs": [],
   "source": [
    "# Presentation verbs identified comprise 80% of the training data\n",
    "# Another 8% or so seem like they might belong to this category\n",
    "# The rest (12-20% of the data) are not in this category (so would attach to noun). \n",
    "\n"
   ]
  },
  {
   "cell_type": "code",
   "execution_count": 166,
   "metadata": {},
   "outputs": [],
   "source": [
    "pres_verb_tuples = [((v,n1,p,n2),l) for ((v,n1,p,n2),l) in zip(train_tuples,labels_train) if v in presentation_verb_lemmas]"
   ]
  },
  {
   "cell_type": "code",
   "execution_count": 167,
   "metadata": {},
   "outputs": [],
   "source": [
    "bees = [(pv[0][1],pv[0][2],pv[0][3],pv[1]) for pv in pres_verb_tuples if pv[0][0]=='be']"
   ]
  },
  {
   "cell_type": "code",
   "execution_count": 168,
   "metadata": {},
   "outputs": [
    {
     "data": {
      "text/plain": [
       "Counter({'of': 26,\n",
       "         'in': 60,\n",
       "         'with': 16,\n",
       "         'on': 9,\n",
       "         'to': 1,\n",
       "         'behind': 1,\n",
       "         'near': 1,\n",
       "         'withe': 1,\n",
       "         'per': 1,\n",
       "         'below': 1})"
      ]
     },
     "execution_count": 168,
     "metadata": {},
     "output_type": "execute_result"
    }
   ],
   "source": [
    "Counter([b[1] for b in bees])"
   ]
  },
  {
   "cell_type": "code",
   "execution_count": 169,
   "metadata": {},
   "outputs": [
    {
     "data": {
      "text/plain": [
       "Counter({('of', 'N'): 21,\n",
       "         ('in', 'V'): 51,\n",
       "         ('with', 'N'): 15,\n",
       "         ('in', 'N'): 9,\n",
       "         ('of', 'O'): 5,\n",
       "         ('on', 'N'): 2,\n",
       "         ('to', 'V'): 1,\n",
       "         ('on', 'V'): 7,\n",
       "         ('behind', 'V'): 1,\n",
       "         ('near', 'N'): 1,\n",
       "         ('withe', 'N'): 1,\n",
       "         ('per', 'N'): 1,\n",
       "         ('with', 'V'): 1,\n",
       "         ('below', 'N'): 1})"
      ]
     },
     "execution_count": 169,
     "metadata": {},
     "output_type": "execute_result"
    }
   ],
   "source": [
    "Counter([(b[1],b[3]) for b in bees])"
   ]
  },
  {
   "cell_type": "code",
   "execution_count": 170,
   "metadata": {},
   "outputs": [
    {
     "data": {
      "text/plain": [
       "[('beetle', 'on', 'clod', 'N'),\n",
       " ('ball', 'on', 'grass', 'V'),\n",
       " ('broccoli', 'on', 'towel', 'V'),\n",
       " ('container', 'on', 'right', 'V'),\n",
       " ('container', 'on', 'left', 'V'),\n",
       " ('lipstick', 'on', 'image', 'V'),\n",
       " ('dog', 'on', 'beach', 'V'),\n",
       " ('chimney', 'on', 'top', 'N'),\n",
       " ('spoon', 'on', 'table', 'V')]"
      ]
     },
     "execution_count": 170,
     "metadata": {},
     "output_type": "execute_result"
    }
   ],
   "source": [
    "[b for b in bees if b[1]=='on']"
   ]
  },
  {
   "cell_type": "markdown",
   "metadata": {},
   "source": [
    "\"chimney on top\" seems to be the only one in a permanent state"
   ]
  },
  {
   "cell_type": "code",
   "execution_count": 171,
   "metadata": {},
   "outputs": [
    {
     "data": {
      "text/plain": [
       "[{'sentence_text': 'IN at least one image there are three chimney on top of the house.',\n",
       "  'label': 'N',\n",
       "  'V': {'text': 'are',\n",
       "   'source': 'nlvr2_dev_035.text.s.22.w.7',\n",
       "   'pos_tag': 'VBP',\n",
       "   'lemma': 'be',\n",
       "   'trail_space': True},\n",
       "  'N': {'text': 'chimney',\n",
       "   'source': 'nlvr2_dev_035.text.s.22.w.9',\n",
       "   'pos_tag': 'NN',\n",
       "   'lemma': 'chimney',\n",
       "   'trail_space': True},\n",
       "  'P': {'text': 'on',\n",
       "   'source': 'nlvr2_dev_035.text.s.22.w.10',\n",
       "   'pos_tag': 'IN',\n",
       "   'lemma': 'on',\n",
       "   'trail_space': True},\n",
       "  'N2': {'text': 'top',\n",
       "   'source': 'nlvr2_dev_035.text.s.22.w.11',\n",
       "   'pos_tag': 'NN',\n",
       "   'lemma': 'top',\n",
       "   'trail_space': True},\n",
       "  'tokenized_sentence': [['IN',\n",
       "    'nlvr2_dev_035.text.s.22.w.1',\n",
       "    'IN',\n",
       "    'in',\n",
       "    True],\n",
       "   ['at', 'nlvr2_dev_035.text.s.22.w.2', 'RB', 'at', True],\n",
       "   ['least', 'nlvr2_dev_035.text.s.22.w.3', 'RBS', 'least', True],\n",
       "   ['one', 'nlvr2_dev_035.text.s.22.w.4', 'CD', 'one', True],\n",
       "   ['image', 'nlvr2_dev_035.text.s.22.w.5', 'NN', 'image', True],\n",
       "   ['there', 'nlvr2_dev_035.text.s.22.w.6', 'EX', 'there', True],\n",
       "   ['are', 'nlvr2_dev_035.text.s.22.w.7', 'VBP', 'be', True],\n",
       "   ['three', 'nlvr2_dev_035.text.s.22.w.8', 'CD', 'three', True],\n",
       "   ['chimney', 'nlvr2_dev_035.text.s.22.w.9', 'NN', 'chimney', True],\n",
       "   ['on', 'nlvr2_dev_035.text.s.22.w.10', 'IN', 'on', True],\n",
       "   ['top', 'nlvr2_dev_035.text.s.22.w.11', 'NN', 'top', True],\n",
       "   ['of', 'nlvr2_dev_035.text.s.22.w.12', 'IN', 'of', True],\n",
       "   ['the', 'nlvr2_dev_035.text.s.22.w.13', 'DT', 'the', True],\n",
       "   ['house', 'nlvr2_dev_035.text.s.22.w.14', 'NN', 'house', False],\n",
       "   ['.', 'nlvr2_dev_035.text.s.22.w.15', '.', '.', False]]}]"
      ]
     },
     "execution_count": 171,
     "metadata": {},
     "output_type": "execute_result"
    }
   ],
   "source": [
    "[t for t in train_data if t['N']['lemma']=='chimney']"
   ]
  },
  {
   "cell_type": "code",
   "execution_count": 172,
   "metadata": {},
   "outputs": [
    {
     "data": {
      "text/plain": [
       "[('filling', 'in', 'bread', 'N'),\n",
       " ('man', 'in', 'sleeve', 'N'),\n",
       " ('mammal', 'in', 'image', 'N'),\n",
       " ('dog', 'in', 'image', 'N'),\n",
       " ('female', 'in', 'bikini', 'N'),\n",
       " ('cover', 'in', 'stripe', 'N'),\n",
       " ('woman', 'in', 'gown', 'N'),\n",
       " ('jellyfish', 'in', 'water', 'N'),\n",
       " ('plug', 'in', 'basin', 'N')]"
      ]
     },
     "execution_count": 172,
     "metadata": {},
     "output_type": "execute_result"
    }
   ],
   "source": [
    "[b for b in bees if b[1]=='in' and b[3]=='N']"
   ]
  },
  {
   "cell_type": "code",
   "execution_count": 173,
   "metadata": {},
   "outputs": [
    {
     "data": {
      "text/plain": [
       "[{'sentence_text': 'There is a silver drain plug in the basin in the image on the right.',\n",
       "  'label': 'N',\n",
       "  'V': {'text': 'is',\n",
       "   'source': 'nlvr2_dev_039.text.s.29.w.2',\n",
       "   'pos_tag': 'VBZ',\n",
       "   'lemma': 'be',\n",
       "   'trail_space': True},\n",
       "  'N': {'text': 'plug',\n",
       "   'source': 'nlvr2_dev_039.text.s.29.w.6',\n",
       "   'pos_tag': 'NN',\n",
       "   'lemma': 'plug',\n",
       "   'trail_space': True},\n",
       "  'P': {'text': 'in',\n",
       "   'source': 'nlvr2_dev_039.text.s.29.w.7',\n",
       "   'pos_tag': 'IN',\n",
       "   'lemma': 'in',\n",
       "   'trail_space': True},\n",
       "  'N2': {'text': 'basin',\n",
       "   'source': 'nlvr2_dev_039.text.s.29.w.9',\n",
       "   'pos_tag': 'NN',\n",
       "   'lemma': 'basin',\n",
       "   'trail_space': True},\n",
       "  'tokenized_sentence': [['There',\n",
       "    'nlvr2_dev_039.text.s.29.w.1',\n",
       "    'EX',\n",
       "    'there',\n",
       "    True],\n",
       "   ['is', 'nlvr2_dev_039.text.s.29.w.2', 'VBZ', 'be', True],\n",
       "   ['a', 'nlvr2_dev_039.text.s.29.w.3', 'DT', 'a', True],\n",
       "   ['silver', 'nlvr2_dev_039.text.s.29.w.4', 'JJ', 'silver', True],\n",
       "   ['drain', 'nlvr2_dev_039.text.s.29.w.5', 'NN', 'drain', True],\n",
       "   ['plug', 'nlvr2_dev_039.text.s.29.w.6', 'NN', 'plug', True],\n",
       "   ['in', 'nlvr2_dev_039.text.s.29.w.7', 'IN', 'in', True],\n",
       "   ['the', 'nlvr2_dev_039.text.s.29.w.8', 'DT', 'the', True],\n",
       "   ['basin', 'nlvr2_dev_039.text.s.29.w.9', 'NN', 'basin', True],\n",
       "   ['in', 'nlvr2_dev_039.text.s.29.w.10', 'IN', 'in', True],\n",
       "   ['the', 'nlvr2_dev_039.text.s.29.w.11', 'DT', 'the', True],\n",
       "   ['image', 'nlvr2_dev_039.text.s.29.w.12', 'NN', 'image', True],\n",
       "   ['on', 'nlvr2_dev_039.text.s.29.w.13', 'IN', 'on', True],\n",
       "   ['the', 'nlvr2_dev_039.text.s.29.w.14', 'DT', 'the', True],\n",
       "   ['right', 'nlvr2_dev_039.text.s.29.w.15', 'NN', 'right', False],\n",
       "   ['.', 'nlvr2_dev_039.text.s.29.w.16', '.', '.', False]]}]"
      ]
     },
     "execution_count": 173,
     "metadata": {},
     "output_type": "execute_result"
    }
   ],
   "source": [
    "[t for t in train_data if t['N']['lemma']=='plug' and t['N2']['lemma']=='basin']"
   ]
  },
  {
   "cell_type": "code",
   "execution_count": 174,
   "metadata": {},
   "outputs": [
    {
     "data": {
      "text/plain": [
       "[{'sentence_text': 'In at least one image there is a single jellyfish in water with blue tentacles stretching up.',\n",
       "  'label': 'N',\n",
       "  'V': {'text': 'is',\n",
       "   'source': 'nlvr2_dev_039.text.s.16.w.7',\n",
       "   'pos_tag': 'VBZ',\n",
       "   'lemma': 'be',\n",
       "   'trail_space': True},\n",
       "  'N': {'text': 'jellyfish',\n",
       "   'source': 'nlvr2_dev_039.text.s.16.w.10',\n",
       "   'pos_tag': 'NN',\n",
       "   'lemma': 'jellyfish',\n",
       "   'trail_space': True},\n",
       "  'P': {'text': 'in',\n",
       "   'source': 'nlvr2_dev_039.text.s.16.w.11',\n",
       "   'pos_tag': 'IN',\n",
       "   'lemma': 'in',\n",
       "   'trail_space': True},\n",
       "  'N2': {'text': 'water',\n",
       "   'source': 'nlvr2_dev_039.text.s.16.w.12',\n",
       "   'pos_tag': 'NN',\n",
       "   'lemma': 'water',\n",
       "   'trail_space': True},\n",
       "  'tokenized_sentence': [['In',\n",
       "    'nlvr2_dev_039.text.s.16.w.1',\n",
       "    'IN',\n",
       "    'in',\n",
       "    True],\n",
       "   ['at', 'nlvr2_dev_039.text.s.16.w.2', 'RB', 'at', True],\n",
       "   ['least', 'nlvr2_dev_039.text.s.16.w.3', 'RBS', 'least', True],\n",
       "   ['one', 'nlvr2_dev_039.text.s.16.w.4', 'CD', 'one', True],\n",
       "   ['image', 'nlvr2_dev_039.text.s.16.w.5', 'NN', 'image', True],\n",
       "   ['there', 'nlvr2_dev_039.text.s.16.w.6', 'EX', 'there', True],\n",
       "   ['is', 'nlvr2_dev_039.text.s.16.w.7', 'VBZ', 'be', True],\n",
       "   ['a', 'nlvr2_dev_039.text.s.16.w.8', 'DT', 'a', True],\n",
       "   ['single', 'nlvr2_dev_039.text.s.16.w.9', 'JJ', 'single', True],\n",
       "   ['jellyfish', 'nlvr2_dev_039.text.s.16.w.10', 'NN', 'jellyfish', True],\n",
       "   ['in', 'nlvr2_dev_039.text.s.16.w.11', 'IN', 'in', True],\n",
       "   ['water', 'nlvr2_dev_039.text.s.16.w.12', 'NN', 'water', True],\n",
       "   ['with', 'nlvr2_dev_039.text.s.16.w.13', 'IN', 'with', True],\n",
       "   ['blue', 'nlvr2_dev_039.text.s.16.w.14', 'JJ', 'blue', True],\n",
       "   ['tentacles', 'nlvr2_dev_039.text.s.16.w.15', 'NNS', 'tentacle', True],\n",
       "   ['stretching', 'nlvr2_dev_039.text.s.16.w.16', 'VBG', 'stretch', True],\n",
       "   ['up', 'nlvr2_dev_039.text.s.16.w.17', 'RP', 'up', False],\n",
       "   ['.', 'nlvr2_dev_039.text.s.16.w.18', '.', '.', False]]}]"
      ]
     },
     "execution_count": 174,
     "metadata": {},
     "output_type": "execute_result"
    }
   ],
   "source": [
    "[t for t in train_data if t['N']['lemma']=='jellyfish' and t['N2']['lemma']=='water']"
   ]
  },
  {
   "cell_type": "markdown",
   "metadata": {},
   "source": [
    "I'm not sure any of the above noun attachments is correct!"
   ]
  },
  {
   "cell_type": "code",
   "execution_count": 175,
   "metadata": {},
   "outputs": [
    {
     "data": {
      "text/plain": [
       "[{'sentence_text': 'In at least one image there is a woman in a mostly blue graduation gown with short hair and a blue cap.',\n",
       "  'label': 'N',\n",
       "  'V': {'text': 'is',\n",
       "   'source': 'nlvr2_dev_031.text.s.26.w.7',\n",
       "   'pos_tag': 'VBZ',\n",
       "   'lemma': 'be',\n",
       "   'trail_space': True},\n",
       "  'N': {'text': 'woman',\n",
       "   'source': 'nlvr2_dev_031.text.s.26.w.9',\n",
       "   'pos_tag': 'NN',\n",
       "   'lemma': 'woman',\n",
       "   'trail_space': True},\n",
       "  'P': {'text': 'in',\n",
       "   'source': 'nlvr2_dev_031.text.s.26.w.10',\n",
       "   'pos_tag': 'IN',\n",
       "   'lemma': 'in',\n",
       "   'trail_space': True},\n",
       "  'N2': {'text': 'gown',\n",
       "   'source': 'nlvr2_dev_031.text.s.26.w.15',\n",
       "   'pos_tag': 'NN',\n",
       "   'lemma': 'gown',\n",
       "   'trail_space': True},\n",
       "  'tokenized_sentence': [['In',\n",
       "    'nlvr2_dev_031.text.s.26.w.1',\n",
       "    'IN',\n",
       "    'in',\n",
       "    True],\n",
       "   ['at', 'nlvr2_dev_031.text.s.26.w.2', 'RB', 'at', True],\n",
       "   ['least', 'nlvr2_dev_031.text.s.26.w.3', 'RBS', 'least', True],\n",
       "   ['one', 'nlvr2_dev_031.text.s.26.w.4', 'CD', 'one', True],\n",
       "   ['image', 'nlvr2_dev_031.text.s.26.w.5', 'NN', 'image', True],\n",
       "   ['there', 'nlvr2_dev_031.text.s.26.w.6', 'EX', 'there', True],\n",
       "   ['is', 'nlvr2_dev_031.text.s.26.w.7', 'VBZ', 'be', True],\n",
       "   ['a', 'nlvr2_dev_031.text.s.26.w.8', 'DT', 'a', True],\n",
       "   ['woman', 'nlvr2_dev_031.text.s.26.w.9', 'NN', 'woman', True],\n",
       "   ['in', 'nlvr2_dev_031.text.s.26.w.10', 'IN', 'in', True],\n",
       "   ['a', 'nlvr2_dev_031.text.s.26.w.11', 'DT', 'a', True],\n",
       "   ['mostly', 'nlvr2_dev_031.text.s.26.w.12', 'RB', 'mostly', True],\n",
       "   ['blue', 'nlvr2_dev_031.text.s.26.w.13', 'JJ', 'blue', True],\n",
       "   ['graduation', 'nlvr2_dev_031.text.s.26.w.14', 'NN', 'graduation', True],\n",
       "   ['gown', 'nlvr2_dev_031.text.s.26.w.15', 'NN', 'gown', True],\n",
       "   ['with', 'nlvr2_dev_031.text.s.26.w.16', 'IN', 'with', True],\n",
       "   ['short', 'nlvr2_dev_031.text.s.26.w.17', 'JJ', 'short', True],\n",
       "   ['hair', 'nlvr2_dev_031.text.s.26.w.18', 'NN', 'hair', True],\n",
       "   ['and', 'nlvr2_dev_031.text.s.26.w.19', 'CC', 'and', True],\n",
       "   ['a', 'nlvr2_dev_031.text.s.26.w.20', 'DT', 'a', True],\n",
       "   ['blue', 'nlvr2_dev_031.text.s.26.w.21', 'JJ', 'blue', True],\n",
       "   ['cap', 'nlvr2_dev_031.text.s.26.w.22', 'NN', 'cap', False],\n",
       "   ['.', 'nlvr2_dev_031.text.s.26.w.23', '.', '.', False]]}]"
      ]
     },
     "execution_count": 175,
     "metadata": {},
     "output_type": "execute_result"
    }
   ],
   "source": [
    "# I want to see the whole sentence! \n",
    "[t for t in train_data if t['N']['lemma']=='woman' and t['N2']['lemma']=='gown']"
   ]
  },
  {
   "cell_type": "code",
   "execution_count": 176,
   "metadata": {},
   "outputs": [],
   "source": [
    "#Conclusion: \n",
    "# 'be N in/on(/above/behind/below/beneath/next-to)' => V\n",
    "# 'be N with' => N\n"
   ]
  },
  {
   "cell_type": "code",
   "execution_count": null,
   "metadata": {},
   "outputs": [],
   "source": []
  },
  {
   "cell_type": "code",
   "execution_count": 177,
   "metadata": {},
   "outputs": [],
   "source": [
    "nonpres_verb_tuples = [((v,n1,p,n2),l) for ((v,n1,p,n2),l) in zip(train_tuples,labels_train) if v not in presentation_verb_lemmas]"
   ]
  },
  {
   "cell_type": "code",
   "execution_count": 178,
   "metadata": {},
   "outputs": [
    {
     "data": {
      "text/plain": [
       "[(('feed', 'duck', 'through', 'tube'), 'V'),\n",
       " (('hold', 'knife', 'over', 'food'), 'V'),\n",
       " (('lower', 'face', 'in', 'content'), 'O'),\n",
       " (('face', 'reclining', 'on', 'grass'), 'N'),\n",
       " (('lift', 'weight', 'in', 'image'), 'O'),\n",
       " (('set', 'sun', 'of', 'image'), 'O'),\n",
       " (('hold', 'dog', 'of', 'image'), 'O'),\n",
       " (('eat', 'food', 'from', 'bowl'), 'V'),\n",
       " (('head', 'righward', 'in', 'image'), 'O'),\n",
       " (('stand', 'leg', 'to', 'dog'), 'N'),\n",
       " (('face', 'buffalo', 'in', 'image'), 'O'),\n",
       " (('back', 'hutch', 'on', 'top'), 'N'),\n",
       " (('groom', 'one', 'on', 'left'), 'N'),\n",
       " (('trim', 'canopy', 'on', 'rug'), 'N'),\n",
       " (('roll', 'dough', 'of', 'picture'), 'O'),\n",
       " (('look', 'chow', 'with', 'tongue'), 'N'),\n",
       " (('stop', 'bus', 'with', 'people'), 'N'),\n",
       " (('recess', 'area', 'with', 'wall'), 'N'),\n",
       " (('hold', 'paper', 'at', 'side'), 'O'),\n",
       " (('spot', 'ray', 'in', 'ocean'), 'N'),\n",
       " (('hold', 'something', 'to', 'mouth'), 'V'),\n",
       " (('hold', 'item', 'in', 'paw'), 'V'),\n",
       " (('turn', 'puppy', 'with', 'paw'), 'N'),\n",
       " (('match', 'headband', 'with', 'bow'), 'N'),\n",
       " (('slide', 'door', 'in', 'image'), 'N'),\n",
       " (('fill', 'bookcase', 'with', 'compartment'), 'N'),\n",
       " (('hold', 'something', 'in', 'hand'), 'V'),\n",
       " (('fold', 'towel', 'with', 'label'), 'N'),\n",
       " (('hold', 'crab', 'in', 'image'), 'V'),\n",
       " (('face', 'beagle', 'with', 'tail'), 'N'),\n",
       " (('face', 'side', 'of', 'image'), 'N'),\n",
       " (('accompany', 'dog', 'in', 'image'), 'V'),\n",
       " (('dry', 'face', 'with', 'towel'), 'V'),\n",
       " (('touch', 'face', 'of', 'husky'), 'N'),\n",
       " (('touch', 'dog', 'in', 'image'), 'V'),\n",
       " (('eat', 'carcass', 'of', 'image'), 'O'),\n",
       " (('hold', 'cup', 'in', 'image'), 'V'),\n",
       " (('stand', 'doberman', 'with', 'chain'), 'N'),\n",
       " (('look', 'interior', 'of', 'crab'), 'N'),\n",
       " (('wave', 'driver', 'of', 'sled'), 'N'),\n",
       " (('match', 'coloring', 'of', 'sofa'), 'N'),\n",
       " (('recline', 'hound', 'with', 'ear'), 'N'),\n",
       " (('stand', 'buffalo', 'in', 'foreground'), 'N'),\n",
       " (('plow', 'snow', 'in', 'image'), 'V'),\n",
       " (('cap', 'smear', 'of', 'rouge'), 'N'),\n",
       " (('make', 'majority', 'of', 'height'), 'N'),\n",
       " (('bear', 'dog', 'in', 'image'), 'O'),\n",
       " (('face', 'dog', 'of', 'dog'), 'O'),\n",
       " (('see', 'dog', 'with', 'nose'), 'N'),\n",
       " (('oppose', 'direction', 'in', 'image'), 'O'),\n",
       " (('hold', 'pound', 'of', 'stuff'), 'N'),\n",
       " (('sle', 'team', 'in', 'image'), 'N'),\n",
       " (('receive', 'attention', 'from', 'human'), 'V'),\n",
       " (('frame', 'pane', 'on', 'way'), 'O'),\n",
       " (('match', 'pair', 'of', 'sneaker'), 'N'),\n",
       " (('bound', 'pose', 'with', 'leg'), 'O'),\n",
       " (('depict', 'scene', 'on', 'screen'), 'V'),\n",
       " (('clutch', 'food', 'in', 'front'), 'V'),\n",
       " (('mash', 'potato', 'in', 'bowl'), 'N'),\n",
       " (('depict', 'dog', 'to', 'sheep'), 'V'),\n",
       " (('vend', 'machine', 'in', 'pair'), 'O'),\n",
       " (('hold', 'foliage', 'to', 'mouth'), 'V'),\n",
       " (('stare', 'row', 'of', 'dumbbell'), 'N'),\n",
       " (('fold', 'bed', 'with', 'pillow'), 'N'),\n",
       " (('place', 'side', 'by', 'side'), 'N'),\n",
       " (('shape', 'candy', 'with', 'half'), 'N'),\n",
       " (('park', 'bus', 'with', 'front'), 'N'),\n",
       " (('stir', 'cloud', 'of', 'dirt'), 'N'),\n",
       " (('expose', 'pipe', 'under', 'sink'), 'N'),\n",
       " (('sit', 'side', 'by', 'side'), 'N'),\n",
       " (('repeat', 'color', 'of', 'liquid'), 'N'),\n",
       " (('draw', 'carriage', 'with', 'driver'), 'O'),\n",
       " (('see', 'damage', 'to', 'animal'), 'N'),\n",
       " (('mash', 'potato', 'in', 'bowl'), 'N'),\n",
       " (('see', 'reflection', 'in', 'water'), 'N'),\n",
       " (('contrast', 'piping', 'on', 'edge'), 'O'),\n",
       " (('hold', 'duck', 'in', 'mouth'), 'V'),\n",
       " (('mash', 'potato', 'with', 'gravy'), 'N'),\n",
       " (('hold', 'row', 'of', 'dumbbell'), 'N'),\n",
       " (('use', 'computer', 'of', 'image'), 'O'),\n",
       " (('fall', 'branch', 'on', 'ground'), 'N'),\n",
       " (('face', 'buffalo', 'on', 'ground'), 'N'),\n",
       " (('hold', 'up', 'in', 'hand'), 'V'),\n",
       " (('park', 'bus', 'with', 'front'), 'N'),\n",
       " (('angle', 'stingray', 'at', 'bottom'), 'N'),\n",
       " (('tie', 'bed', 'with', 'footboard'), 'N'),\n",
       " (('color', 'dog', 'with', 'leash'), 'N'),\n",
       " (('view', 'head', 'in', 'foreground'), 'V'),\n",
       " (('hold', 'syringe', 'with', 'hand'), 'V'),\n",
       " (('hold', 'bottle', 'to', 'mouth'), 'V'),\n",
       " (('push', 'ball', 'of', 'dung'), 'N'),\n",
       " (('rise', 'pin', 'with', 'clasp'), 'N'),\n",
       " (('grasp', 'kind', 'of', 'stalk'), 'N'),\n",
       " (('face', 'chewing', 'on', 'stalk'), 'N')]"
      ]
     },
     "execution_count": 178,
     "metadata": {},
     "output_type": "execute_result"
    }
   ],
   "source": [
    "nonpres_verb_tuples"
   ]
  },
  {
   "cell_type": "code",
   "execution_count": null,
   "metadata": {},
   "outputs": [],
   "source": []
  },
  {
   "cell_type": "code",
   "execution_count": 180,
   "metadata": {},
   "outputs": [
    {
     "data": {
      "text/plain": [
       "[(('feature', 'jellyfish', 'with', 'tentacle'), 'N'),\n",
       " (('include', 'bird', 'with', 'wing'), 'N'),\n",
       " (('contain', 'number', 'of', 'lemon'), 'N'),\n",
       " (('include', 'mass', 'of', 'zebra'), 'N'),\n",
       " (('be', 'total', 'of', 'pelican'), 'N'),\n",
       " (('be', 'part', 'of', 'stack'), 'N'),\n",
       " (('contain', 'number', 'of', 'syrinx'), 'N'),\n",
       " (('be', 'skunk', 'in', 'total'), 'V'),\n",
       " (('contain', 'laptop', 'with', 'screen'), 'N'),\n",
       " (('be', 'bag', 'with', 'handle'), 'N'),\n",
       " (('feature', 'car', 'with', 'top'), 'N'),\n",
       " (('be', 'pair', 'of', 'antelope'), 'N'),\n",
       " (('feature', 'building', 'with', 'structure'), 'N'),\n",
       " (('show', 'pack', 'of', 'towel'), 'N'),\n",
       " (('show', 'flower', 'below', 'bunch'), 'N'),\n",
       " (('include', 'row', 'of', 'corgi'), 'N'),\n",
       " (('contain', 'version', 'of', 'side'), 'N'),\n",
       " (('feature', 'flower', 'on', 'porcelain'), 'N'),\n",
       " (('feature', 'puppy', 'near', 'fence'), 'N'),\n",
       " (('be', 'filling', 'in', 'bread'), 'N'),\n",
       " (('be', 'puppy', 'with', 'fur'), 'N'),\n",
       " (('be', 'animal', 'in', 'total'), 'V'),\n",
       " (('show', 'floret', 'in', 'container'), 'N'),\n",
       " (('feature', 'floret', 'on', 'wood'), 'N'),\n",
       " (('cover', 'peak', 'in', 'image'), 'O'),\n",
       " (('contain', 'total', 'of', 'antelope'), 'N'),\n",
       " (('be', 'dog', 'in', 'pair'), 'V'),\n",
       " (('wear', 'leash', 'in', 'image'), 'O'),\n",
       " (('be', 'man', 'in', 'sleeve'), 'N'),\n",
       " (('include', 'animal', 'with', 'horn'), 'N'),\n",
       " (('show', 'pair', 'of', 'leg'), 'N'),\n",
       " (('show', 'pair', 'of', 'leg'), 'N'),\n",
       " (('be', 'vial', 'of', 'perfume'), 'N'),\n",
       " (('be', 'product', 'in', 'image'), 'V'),\n",
       " (('be', 'dog', 'in', 'total'), 'V'),\n",
       " (('show', 'dog', 'to', 'toy'), 'N'),\n",
       " (('show', 'dog', 'with', 'open.\\\\'), 'N'),\n",
       " (('show', 'plate', 'with', 'serving'), 'N'),\n",
       " (('show', 'ball', 'of', 'packaging'), 'N'),\n",
       " (('contain', 'number', 'of', 'swimming'), 'N'),\n",
       " (('wear', 'ribbon', 'around', 'neck'), 'N'),\n",
       " (('contain', 'dog', 'inside', 'watermelon'), 'N'),\n",
       " (('be', 'glass', 'of', 'wine'), 'N'),\n",
       " (('be', 'dog', 'of', 'image'), 'O'),\n",
       " (('be', 'pair', 'of', 'slipper'), 'N'),\n",
       " (('feature', 'dingo', 'with', 'muzzle'), 'N'),\n",
       " (('be', 'set', 'of', 'earring'), 'N'),\n",
       " (('be', 'kid', 'in', 'pair'), 'V'),\n",
       " (('be', 'dog', 'in', 'image'), 'V'),\n",
       " (('wear', 'collar', 'with', 'head'), 'O'),\n",
       " (('be', 'baby', 'with', 'balloon'), 'N'),\n",
       " (('be', 'crab', 'in', 'image'), 'V'),\n",
       " (('show', 'truck', 'with', 'plow'), 'N'),\n",
       " (('be', 'stingray', 'in', 'pair'), 'V'),\n",
       " (('have', 'fish', 'in', 'mouth'), 'V'),\n",
       " (('show', 'color', 'of', 'lipstick'), 'N'),\n",
       " (('be', 'cup', 'in', 'image'), 'V'),\n",
       " (('contain', 'monkey', 'on', 'right'), 'N'),\n",
       " (('wear', 'robe', 'with', 'stripe'), 'N'),\n",
       " (('have', 'boat', 'with', 'sail'), 'N'),\n",
       " (('be', 'pair', 'of', 'ball'), 'N'),\n",
       " (('show', 'dog', 'with', 'eye'), 'N'),\n",
       " (('be', 'beetle', 'on', 'clod'), 'N'),\n",
       " (('include', 'grad', 'in', 'cap'), 'N'),\n",
       " (('show', 'sneaker', 'with', 'coloring'), 'N'),\n",
       " (('contain', 'vulture', 'in', 'pose'), 'N'),\n",
       " (('contain', 'group', 'of', 'vulture'), 'N'),\n",
       " (('show', 'drumkit', 'on', 'pipe'), 'N'),\n",
       " (('be', 'glass', 'to', 'left'), 'V'),\n",
       " (('contain', 'number', 'of', 'antelope'), 'N'),\n",
       " (('show', 'machine', 'at', 'angle'), 'N'),\n",
       " (('have', 'shape', 'on', 'front'), 'V'),\n",
       " (('show', 'stingray', 'to', 'bottom'), 'N'),\n",
       " (('contain', 'number', 'of', 'people'), 'N'),\n",
       " (('show', 'gorilla', 'with', 'mouth'), 'N'),\n",
       " (('show', 'bird', 'in', 'image'), 'N'),\n",
       " (('be', 'minimum', 'of', 'elephant'), 'N'),\n",
       " (('include', 'flower', 'behind', 'camera'), 'N'),\n",
       " (('be', 'mammal', 'in', 'image'), 'N'),\n",
       " (('include', 'slice', 'on', 'top'), 'N'),\n",
       " (('cover', 'mountain', 'in', 'image'), 'O'),\n",
       " (('show', 'row', 'of', 'people'), 'N'),\n",
       " (('wear', 'robe', 'with', 'stripe'), 'N'),\n",
       " (('contain', 'parrot', 'with', 'wing'), 'N'),\n",
       " (('be', 'bottle', 'in', 'image'), 'V'),\n",
       " (('be', 'pelican', 'in', 'image'), 'V'),\n",
       " (('show', 'case', 'with', 'corner'), 'N'),\n",
       " (('include', 'saxophone', 'with', 'bell'), 'N'),\n",
       " (('contain', 'number', 'of', 'canopy'), 'N'),\n",
       " (('have', 'body', 'in', 'profile'), 'N'),\n",
       " (('be', 'person', 'in', 'library'), 'V'),\n",
       " (('be', 'ibex', 'in', 'image'), 'V'),\n",
       " (('wear', 'glove', 'of', 'image'), 'O'),\n",
       " (('wear', 'glove', 'of', 'image'), 'O'),\n",
       " (('contain', 'jewelry', 'with', 'color'), 'N'),\n",
       " (('have', 'stalk', 'with', 'dot'), 'N'),\n",
       " (('be', 'crowd', 'with', 'man'), 'N'),\n",
       " (('show', 'pizza', 'with', 'slice'), 'N'),\n",
       " (('be', 'bowl', 'of', 'mash'), 'N'),\n",
       " (('contain', 'dog', 'in', 'pose'), 'N'),\n",
       " (('feature', 'saxophone', 'of', 'color'), 'N'),\n",
       " (('include', 'girl', 'in', 'wrap'), 'N'),\n",
       " (('include', 'girl', 'in', 'wrap'), 'N'),\n",
       " (('show', 'view', 'of', 'section'), 'N'),\n",
       " (('show', 'view', 'down', 'aisle'), 'N'),\n",
       " (('feature', 'spaniel', 'with', 'fur'), 'N'),\n",
       " (('show', 'balloon', 'in', 'variety'), 'N'),\n",
       " (('show', 'row', 'of', 'instrument'), 'N'),\n",
       " (('show', 'beaker', 'with', 'shape'), 'N'),\n",
       " (('be', 'line', 'of', 'post'), 'N'),\n",
       " (('show', 'glass', 'with', 'line'), 'N'),\n",
       " (('be', 'dog', 'in', 'image'), 'V'),\n",
       " (('be', 'flower', 'of', 'table'), 'O'),\n",
       " (('contain', 'number', 'of', 'llama'), 'N'),\n",
       " (('have', 'something', 'in', 'mouth'), 'V'),\n",
       " (('be', 'churce', 'with', 'wall'), 'N'),\n",
       " (('show', 'parrot', 'with', 'claws'), 'N'),\n",
       " (('have', 'something', 'around', 'neck'), 'V'),\n",
       " (('be', 'horse', 'in', 'image'), 'V'),\n",
       " (('show', 'part', 'of', 'flute'), 'N'),\n",
       " (('be', 'dog', 'in', 'image'), 'N'),\n",
       " (('have', 'train', 'on', 'track'), 'V'),\n",
       " (('include', 'stove', 'with', 'pipe'), 'N'),\n",
       " (('show', 'herd', 'of', 'llama'), 'N'),\n",
       " (('contain', 'dog', 'of', 'dog'), 'O'),\n",
       " (('be', 'image', 'of', 'chimp'), 'N'),\n",
       " (('be', 'ball', 'on', 'grass'), 'V'),\n",
       " (('be', 'total', 'of', 'bottle'), 'N'),\n",
       " (('feature', 'hand', 'with', 'glove'), 'N'),\n",
       " (('show', 'front', 'of', 'bus'), 'N'),\n",
       " (('be', 'ferret', 'with', 'pattern'), 'N'),\n",
       " (('contain', 'number', 'of', 'mug'), 'N'),\n",
       " (('show', 'exterior', 'with', 'person'), 'N'),\n",
       " (('show', 'interior', 'of', 'shelf'), 'N'),\n",
       " (('contain', 'dispenser', 'with', 'holder'), 'N'),\n",
       " (('be', 'panda', 'in', 'image'), 'V'),\n",
       " (('contain', 'total', 'of', 'leg'), 'N'),\n",
       " (('show', 'interior', 'with', 'row'), 'N'),\n",
       " (('be', 'bottle', 'in', 'total'), 'V'),\n",
       " (('be', 'item', 'in', 'image'), 'V'),\n",
       " (('feature', 'gorilla', 'with', 'back'), 'N'),\n",
       " (('show', 'hound', 'with', 'face'), 'V'),\n",
       " (('show', 'cart', 'with', 'passenger'), 'N'),\n",
       " (('show', 'path', 'to', 'row'), 'N'),\n",
       " (('show', 'ox', 'in', 'front'), 'N'),\n",
       " (('contain', 'number', 'of', 'phone'), 'N'),\n",
       " (('contain', 'hound', 'with', 'muzzle'), 'N'),\n",
       " (('wear', 'something', 'with', 'tassle'), 'N'),\n",
       " (('have', 'circle', 'in', 'circle'), 'N'),\n",
       " (('show', 'outfit', 'with', 'image'), 'N'),\n",
       " (('show', 'trio', 'of', 'collie'), 'N'),\n",
       " (('have', 'couch', 'on', 'side'), 'V'),\n",
       " (('feature', 'row', 'of', 'weight'), 'N'),\n",
       " (('feature', 'barbell', 'in', 'foreground'), 'V'),\n",
       " (('show', 'chimp', 'with', 'chimp'), 'N'),\n",
       " (('contain', 'penguin', 'with', 'fish'), 'N'),\n",
       " (('be', 'saxophone', 'in', 'total'), 'V'),\n",
       " (('be', 'bottle', 'of', 'wine'), 'N'),\n",
       " (('wear', 'outfit', 'in', 'shade'), 'N'),\n",
       " (('include', 'sleeve', 'of', 'length'), 'N'),\n",
       " (('contain', 'number', 'of', 'wall'), 'N'),\n",
       " (('feature', 'standing', 'with', 'body'), 'N'),\n",
       " (('contain', 'number', 'of', 'deer'), 'N'),\n",
       " (('show', 'balloon', 'in', 'color'), 'N'),\n",
       " (('show', 'dough', 'in', 'bowl'), 'N'),\n",
       " (('be', 'bottle', 'in', 'total'), 'V'),\n",
       " (('show', 'bottle', 'in', 'carrier'), 'N'),\n",
       " (('feature', 'zebra', 'with', 'rear'), 'N'),\n",
       " (('show', 'dessert', 'with', 'strawberry'), 'N'),\n",
       " (('be', 'broccoli', 'on', 'towel'), 'V'),\n",
       " (('feature', 'awning', 'to', 'tower'), 'O'),\n",
       " (('be', 'female', 'in', 'bikini'), 'N'),\n",
       " (('contain', 'dog', 'with', 'tongue'), 'N'),\n",
       " (('wear', 'type', 'of', 'coat'), 'N'),\n",
       " (('contain', 'row', 'of', 'ball'), 'N'),\n",
       " (('be', 'rack', 'of', 'weight'), 'N'),\n",
       " (('show', 'balloon', 'on', 'string'), 'N'),\n",
       " (('be', 'dessert', 'in', 'image'), 'V'),\n",
       " (('be', 'wall', 'in', 'background'), 'V'),\n",
       " (('contain', 'banana', 'in', 'bunch'), 'N'),\n",
       " (('include', 'banana', 'in', 'bunch'), 'N'),\n",
       " (('contain', 'number', 'of', 'bottle'), 'N'),\n",
       " (('contain', 'total', 'of', 'ram'), 'N'),\n",
       " (('contain', 'number', 'of', 'dispenser'), 'N'),\n",
       " (('show', 'shape', 'on', 'wall'), 'N'),\n",
       " (('show', 'seal', 'with', 'mouth'), 'N'),\n",
       " (('be', 'close', 'of', 'wagon'), 'O'),\n",
       " (('be', 'vehicle', 'with', 'plow'), 'N'),\n",
       " (('contain', 'desk', 'near', 'window'), 'N'),\n",
       " (('show', 'standing', 'without', 'use'), 'N'),\n",
       " (('show', 'dog', 'on', 'grass'), 'N'),\n",
       " (('show', 'woman', 'in', 'hat'), 'N'),\n",
       " (('wear', 'blinder', 'on', 'grass'), 'O'),\n",
       " (('contain', 'total', 'of', 'crosse'), 'N'),\n",
       " (('contain', 'head', 'with', 'leave'), 'N'),\n",
       " (('show', 'ball', 'to', 'right'), 'N'),\n",
       " (('be', 'bottle', 'in', 'image'), 'V'),\n",
       " (('be', 'cup', 'with', 'food'), 'N'),\n",
       " (('contain', 'number', 'of', 'hy'), 'N'),\n",
       " (('be', 'chow', 'of', 'dog'), 'O'),\n",
       " (('feature', 'cup', 'with', 'band'), 'N'),\n",
       " (('contain', 'vehicle', 'on', 'top'), 'N'),\n",
       " (('show', 'building', 'behind', 'kind'), 'N'),\n",
       " (('feature', 'building', 'with', 'roof'), 'N'),\n",
       " (('be', 'parrot', 'in', 'image'), 'V'),\n",
       " (('contain', 'number', 'of', 'flute'), 'N'),\n",
       " (('feature', 'group', 'of', 'llama'), 'N'),\n",
       " (('wear', 'pack', 'on', 'back'), 'V'),\n",
       " (('contain', 'hound', 'with', 'tail'), 'N'),\n",
       " (('show', 'gorilla', 'to', 'chest'), 'N'),\n",
       " (('contain', 'number', 'of', 'truck'), 'N'),\n",
       " (('feature', 'dispenser', 'with', 'push'), 'N'),\n",
       " (('contain', 'image', 'on', 'left'), 'N'),\n",
       " (('be', 'animal', 'in', 'image'), 'V'),\n",
       " (('show', 'exterior', 'of', 'side'), 'N'),\n",
       " (('show', 'interior', 'with', 'framework'), 'N'),\n",
       " (('show', 'hamster', 'with', 'green'), 'N'),\n",
       " (('have', 'otter', 'in', 'image'), 'O'),\n",
       " (('show', 'establishment', 'with', 'floor'), 'N'),\n",
       " (('have', 'check', 'about', 'foot'), 'N'),\n",
       " (('contain', 'number', 'of', 'swatch'), 'N'),\n",
       " (('feature', 'lid', 'on', 'bottle'), 'N'),\n",
       " (('be', 'area', 'of', 'padding'), 'N'),\n",
       " (('show', 'up', 'on', 'beach'), 'V'),\n",
       " (('be', 'marker', 'behind', 'case'), 'V'),\n",
       " (('contain', 'number', 'of', 'bunche'), 'N'),\n",
       " (('feature', 'car', 'on', 'snow'), 'N'),\n",
       " (('feature', 'plow', 'on', 'road'), 'N'),\n",
       " (('be', 'jellyfish', 'in', 'total'), 'V'),\n",
       " (('be', 'dog', 'in', 'image'), 'V'),\n",
       " (('be', 'church', 'with', 'cross'), 'N'),\n",
       " (('be', 'dog', 'with', 'leash'), 'N'),\n",
       " (('be', 'creature', 'in', 'image'), 'V'),\n",
       " (('show', 'man', 'in', 'hat'), 'N'),\n",
       " (('contain', 'lock', 'with', 'key'), 'N'),\n",
       " (('be', 'desk', 'with', 'laptop'), 'N'),\n",
       " (('contain', 'number', 'of', 'mitten'), 'N'),\n",
       " (('show', 'chimpanzee', 'in', 'water'), 'V'),\n",
       " (('be', 'dog', 'with', 'nose'), 'N'),\n",
       " (('show', 'pair', 'of', 'leg'), 'N'),\n",
       " (('contain', 'bottle', 'with', 'flip'), 'N'),\n",
       " (('include', 'liquid', 'in', 'bottle'), 'V'),\n",
       " (('feature', 'spout', 'in', 'center'), 'V'),\n",
       " (('include', 'part', 'of', 'person'), 'N'),\n",
       " (('have', 'shelf', 'on', 'right'), 'O'),\n",
       " (('be', 'human', 'in', 'image'), 'V'),\n",
       " (('contain', 'number', 'of', 'dog'), 'N'),\n",
       " (('contain', 'number', 'of', 'sailboat'), 'N'),\n",
       " (('show', 'bird', 'in', 'cage'), 'N'),\n",
       " (('have', 'mouth', 'with', 'tongue'), 'N'),\n",
       " (('include', 'grouping', 'of', 'bottle'), 'N'),\n",
       " (('be', 'nothing', 'in', 'shelf'), 'V'),\n",
       " (('feature', 'device', 'with', 'screen'), 'N'),\n",
       " (('contain', 'flying', 'in', 'sky'), 'N'),\n",
       " (('be', 'plant', 'near', 'house'), 'N'),\n",
       " (('show', 'view', 'of', 'beetle'), 'N'),\n",
       " (('be', 'container', 'of', 'makeup'), 'N'),\n",
       " (('have', 'balloon', 'of', 'color'), 'N'),\n",
       " (('include', 'set', 'of', 'product'), 'N'),\n",
       " (('show', 'truck', 'on', 'pavement'), 'N'),\n",
       " (('have', 'advertising', 'in', 'background'), 'V'),\n",
       " (('show', 'chihuahua', 'with', 'toy'), 'N'),\n",
       " (('contain', 'number', 'of', 'dispenser'), 'N'),\n",
       " (('have', 'marking', 'on', 'front'), 'N'),\n",
       " (('be', 'cup', 'in', 'image'), 'V'),\n",
       " (('be', 'pair', 'of', 'dog'), 'N'),\n",
       " (('contain', 'half', 'of', 'lemon'), 'N'),\n",
       " (('be', 'phone', 'withe', 'screen'), 'N'),\n",
       " (('show', 'vanity', 'with', 'foot'), 'N'),\n",
       " (('contain', 'number', 'of', 'stingray'), 'N'),\n",
       " (('have', 'paw', 'off', 'ground'), 'N'),\n",
       " (('show', 'head', 'of', 'animal'), 'N'),\n",
       " (('contain', 'row', 'of', 'puppy'), 'N'),\n",
       " (('contain', 'stingray', 'with', 'spot'), 'N'),\n",
       " (('be', 'container', 'on', 'right'), 'V'),\n",
       " (('be', 'container', 'on', 'left'), 'V'),\n",
       " (('be', 'bird', 'in', 'image'), 'V'),\n",
       " (('show', 'onion', 'behind', 'pizza'), 'N'),\n",
       " (('be', 'monitor', 'in', 'image'), 'V'),\n",
       " (('contain', 'vulture', 'with', 'wing'), 'N'),\n",
       " (('wear', 'harness', 'of', 'color'), 'N'),\n",
       " (('show', 'sign', 'with', 'lettering'), 'N'),\n",
       " (('show', 'hound', 'in', 'image'), 'N'),\n",
       " (('be', 'case', 'with', 'pencil'), 'N'),\n",
       " (('be', 'saxophone', 'in', 'image'), 'V'),\n",
       " (('contain', 'dog', 'as', 'image'), 'V'),\n",
       " (('be', 'cover', 'in', 'stripe'), 'N'),\n",
       " (('contain', 'eagle', 'with', 'wing'), 'N'),\n",
       " (('have', 'food', 'on', 'top'), 'N'),\n",
       " (('be', 'bird', 'in', 'pair'), 'V'),\n",
       " (('be', 'pair', 'of', 'hand'), 'N'),\n",
       " (('contain', 'number', 'of', 'groundhog'), 'N'),\n",
       " (('be', 'bottle', 'of', 'rice'), 'N'),\n",
       " (('be', 'snow', 'in', 'truck'), 'V'),\n",
       " (('be', 'woman', 'in', 'gown'), 'N'),\n",
       " (('show', 'display', 'with', 'sneaker'), 'N'),\n",
       " (('show', 'shoe', 'in', 'pair'), 'N'),\n",
       " (('feature', 'handrail', 'with', 'bar'), 'N'),\n",
       " (('be', 'reflection', 'of', 'instrument'), 'N'),\n",
       " (('contain', 'hound', 'in', 'image'), 'V'),\n",
       " (('have', 'face', 'in', 'bowl'), 'V'),\n",
       " (('contain', 'number', 'of', 'groundhog'), 'N'),\n",
       " (('wear', 'swimsuit', 'in', 'style'), 'N'),\n",
       " (('be', 'seal', 'in', 'pair'), 'V'),\n",
       " (('be', 'dog', 'in', 'image'), 'V'),\n",
       " (('feature', 'animal', 'with', 'leg'), 'N'),\n",
       " (('have', 'people', 'in', 'car'), 'V'),\n",
       " (('be', 'dog', 'in', 'image'), 'V'),\n",
       " (('be', 'roll', 'in', 'image'), 'V'),\n",
       " (('be', 'diver', 'with', 'jellyfish'), 'N'),\n",
       " (('be', 'bowl', 'with', 'ball'), 'N'),\n",
       " (('have', 'wall', 'with', 'window'), 'N'),\n",
       " (('contain', 'pair', 'of', 'weight'), 'N'),\n",
       " (('show', 'chimp', 'in', 'front'), 'N'),\n",
       " (('be', 'lipstick', 'on', 'image'), 'V'),\n",
       " (('show', 'picture', 'in', 'image'), 'O'),\n",
       " (('be', 'pig', 'of', 'image'), 'O'),\n",
       " (('be', 'dog', 'on', 'beach'), 'V'),\n",
       " (('be', 'crab', 'in', 'image'), 'V'),\n",
       " (('have', 'window', 'in', 'background'), 'N'),\n",
       " (('have', 'paw', 'off', 'ground'), 'N'),\n",
       " (('feature', 'fish', 'with', 'stripes'), 'N'),\n",
       " (('show', 'fish', 'without', 'stripe'), 'N'),\n",
       " (('be', 'people', 'in', 'image'), 'V'),\n",
       " (('show', 'chow', 'with', 'mouth'), 'N'),\n",
       " (('wear', 'kind', 'of', 'adornment'), 'N'),\n",
       " (('show', 'hound', 'with', 'hair'), 'N'),\n",
       " (('have', 'ferret', 'with', 'chest'), 'N'),\n",
       " (('show', 'none', 'of', 'creature'), 'N'),\n",
       " (('wear', 'glove', 'with', 'attachment'), 'N'),\n",
       " (('show', 'dog', 'with', 'ball'), 'N'),\n",
       " (('be', 'chimney', 'on', 'top'), 'N'),\n",
       " (('be', 'gorilla', 'in', 'image'), 'V'),\n",
       " (('show', 'aisle', 'in', 'bookstore'), 'O'),\n",
       " (('be', 'puppy', 'per', 'pair'), 'N'),\n",
       " (('show', 'doberman', 'with', 'ear'), 'N'),\n",
       " (('contain', 'number', 'of', 'fabric'), 'N'),\n",
       " (('be', 'dog', 'in', 'image'), 'V'),\n",
       " (('contain', 'total', 'of', 'goat'), 'N'),\n",
       " (('contain', 'number', 'of', 'dog'), 'N'),\n",
       " (('contain', 'number', 'of', 'sailboat'), 'N'),\n",
       " (('contain', 'total', 'of', 'container'), 'N'),\n",
       " (('feature', 'puppy', 'in', 'pose'), 'N'),\n",
       " (('contain', 'dog', 'on', 'grass'), 'N'),\n",
       " (('be', 'door', 'in', 'image'), 'V'),\n",
       " (('be', 'penguin', 'in', 'water'), 'V'),\n",
       " (('feature', 'body', 'of', 'water'), 'N'),\n",
       " (('show', 'staircase', 'with', 'rail'), 'N'),\n",
       " (('show', 'end', 'of', 'row'), 'N'),\n",
       " (('show', 'dog', 'with', 'harness'), 'N'),\n",
       " (('contain', 'bottle', 'of', 'wine'), 'N'),\n",
       " (('contain', 'number', 'of', 'stingray'), 'N'),\n",
       " (('show', 'case', 'with', 'front'), 'N'),\n",
       " (('be', 'dog', 'in', 'total'), 'V'),\n",
       " (('feature', 'motif', 'on', 'flute'), 'V'),\n",
       " (('have', 'fork', 'to', 'left'), 'N'),\n",
       " (('contain', 'number', 'of', 'bed'), 'N'),\n",
       " (('be', 'dispenser', 'in', 'total'), 'V'),\n",
       " (('be', 'puppy', 'with', 'mother'), 'V'),\n",
       " (('have', 'instrument', 'on', 'surface'), 'N'),\n",
       " (('be', 'teacup', 'in', 'image'), 'V'),\n",
       " (('feature', 'standing', 'in', 'profile'), 'N'),\n",
       " (('be', 'spoon', 'on', 'table'), 'V'),\n",
       " (('show', 'jellyfish', 'of', 'jellyfish'), 'O'),\n",
       " (('show', 'schnauzer', 'in', 'setting'), 'V'),\n",
       " (('have', 'fish', 'in', 'mouth'), 'V'),\n",
       " (('be', 'jellyfish', 'in', 'water'), 'N'),\n",
       " (('include', 'bird', 'on', 'buffalo'), 'N'),\n",
       " (('have', 'front', 'with', 'v'), 'N'),\n",
       " (('be', 'plug', 'in', 'basin'), 'N'),\n",
       " (('show', 'dog', 'with', 'mouth'), 'N'),\n",
       " (('show', 'bottle', 'with', 'label'), 'N'),\n",
       " (('contain', 'total', 'of', 'blind'), 'N'),\n",
       " (('contain', 'animal', 'with', 'body'), 'N'),\n",
       " (('show', 'chimpanzee', 'in', 'tree'), 'N'),\n",
       " (('wear', 'cap', 'with', 'tassel'), 'N'),\n",
       " (('be', 'drawer', 'below', 'squared'), 'N'),\n",
       " (('be', 'chihuahua', 'in', 'image'), 'V')]"
      ]
     },
     "execution_count": 180,
     "metadata": {},
     "output_type": "execute_result"
    }
   ],
   "source": [
    "pres_verb_tuples"
   ]
  },
  {
   "cell_type": "code",
   "execution_count": 181,
   "metadata": {},
   "outputs": [],
   "source": [
    "pres_verb_df = pd.DataFrame([[*t[0],t[1]] for t in pres_verb_tuples], columns=['verb','noun','prep','pobj','label'])"
   ]
  },
  {
   "cell_type": "code",
   "execution_count": 182,
   "metadata": {},
   "outputs": [
    {
     "data": {
      "text/html": [
       "<div>\n",
       "<style scoped>\n",
       "    .dataframe tbody tr th:only-of-type {\n",
       "        vertical-align: middle;\n",
       "    }\n",
       "\n",
       "    .dataframe tbody tr th {\n",
       "        vertical-align: top;\n",
       "    }\n",
       "\n",
       "    .dataframe thead th {\n",
       "        text-align: right;\n",
       "    }\n",
       "</style>\n",
       "<table border=\"1\" class=\"dataframe\">\n",
       "  <thead>\n",
       "    <tr style=\"text-align: right;\">\n",
       "      <th></th>\n",
       "      <th>verb</th>\n",
       "      <th>noun</th>\n",
       "      <th>prep</th>\n",
       "      <th>pobj</th>\n",
       "      <th>label</th>\n",
       "    </tr>\n",
       "  </thead>\n",
       "  <tbody>\n",
       "    <tr>\n",
       "      <th>0</th>\n",
       "      <td>feature</td>\n",
       "      <td>jellyfish</td>\n",
       "      <td>with</td>\n",
       "      <td>tentacle</td>\n",
       "      <td>N</td>\n",
       "    </tr>\n",
       "    <tr>\n",
       "      <th>1</th>\n",
       "      <td>include</td>\n",
       "      <td>bird</td>\n",
       "      <td>with</td>\n",
       "      <td>wing</td>\n",
       "      <td>N</td>\n",
       "    </tr>\n",
       "    <tr>\n",
       "      <th>2</th>\n",
       "      <td>contain</td>\n",
       "      <td>number</td>\n",
       "      <td>of</td>\n",
       "      <td>lemon</td>\n",
       "      <td>N</td>\n",
       "    </tr>\n",
       "    <tr>\n",
       "      <th>3</th>\n",
       "      <td>include</td>\n",
       "      <td>mass</td>\n",
       "      <td>of</td>\n",
       "      <td>zebra</td>\n",
       "      <td>N</td>\n",
       "    </tr>\n",
       "    <tr>\n",
       "      <th>4</th>\n",
       "      <td>be</td>\n",
       "      <td>total</td>\n",
       "      <td>of</td>\n",
       "      <td>pelican</td>\n",
       "      <td>N</td>\n",
       "    </tr>\n",
       "    <tr>\n",
       "      <th>...</th>\n",
       "      <td>...</td>\n",
       "      <td>...</td>\n",
       "      <td>...</td>\n",
       "      <td>...</td>\n",
       "      <td>...</td>\n",
       "    </tr>\n",
       "    <tr>\n",
       "      <th>373</th>\n",
       "      <td>contain</td>\n",
       "      <td>animal</td>\n",
       "      <td>with</td>\n",
       "      <td>body</td>\n",
       "      <td>N</td>\n",
       "    </tr>\n",
       "    <tr>\n",
       "      <th>374</th>\n",
       "      <td>show</td>\n",
       "      <td>chimpanzee</td>\n",
       "      <td>in</td>\n",
       "      <td>tree</td>\n",
       "      <td>N</td>\n",
       "    </tr>\n",
       "    <tr>\n",
       "      <th>375</th>\n",
       "      <td>wear</td>\n",
       "      <td>cap</td>\n",
       "      <td>with</td>\n",
       "      <td>tassel</td>\n",
       "      <td>N</td>\n",
       "    </tr>\n",
       "    <tr>\n",
       "      <th>376</th>\n",
       "      <td>be</td>\n",
       "      <td>drawer</td>\n",
       "      <td>below</td>\n",
       "      <td>squared</td>\n",
       "      <td>N</td>\n",
       "    </tr>\n",
       "    <tr>\n",
       "      <th>377</th>\n",
       "      <td>be</td>\n",
       "      <td>chihuahua</td>\n",
       "      <td>in</td>\n",
       "      <td>image</td>\n",
       "      <td>V</td>\n",
       "    </tr>\n",
       "  </tbody>\n",
       "</table>\n",
       "<p>378 rows × 5 columns</p>\n",
       "</div>"
      ],
      "text/plain": [
       "        verb        noun   prep      pobj label\n",
       "0    feature   jellyfish   with  tentacle     N\n",
       "1    include        bird   with      wing     N\n",
       "2    contain      number     of     lemon     N\n",
       "3    include        mass     of     zebra     N\n",
       "4         be       total     of   pelican     N\n",
       "..       ...         ...    ...       ...   ...\n",
       "373  contain      animal   with      body     N\n",
       "374     show  chimpanzee     in      tree     N\n",
       "375     wear         cap   with    tassel     N\n",
       "376       be      drawer  below   squared     N\n",
       "377       be   chihuahua     in     image     V\n",
       "\n",
       "[378 rows x 5 columns]"
      ]
     },
     "execution_count": 182,
     "metadata": {},
     "output_type": "execute_result"
    }
   ],
   "source": [
    "pres_verb_df"
   ]
  },
  {
   "cell_type": "code",
   "execution_count": 185,
   "metadata": {},
   "outputs": [
    {
     "data": {
      "text/plain": [
       "Counter({'N': 277, 'V': 82, 'O': 19})"
      ]
     },
     "execution_count": 185,
     "metadata": {},
     "output_type": "execute_result"
    }
   ],
   "source": [
    "Counter(pres_verb_df.label.tolist())"
   ]
  },
  {
   "cell_type": "code",
   "execution_count": 186,
   "metadata": {},
   "outputs": [
    {
     "data": {
      "text/plain": [
       "Counter({'feature': 32,\n",
       "         'include': 18,\n",
       "         'contain': 72,\n",
       "         'be': 117,\n",
       "         'show': 91,\n",
       "         'cover': 2,\n",
       "         'wear': 17,\n",
       "         'have': 29})"
      ]
     },
     "execution_count": 186,
     "metadata": {},
     "output_type": "execute_result"
    }
   ],
   "source": [
    "Counter(pres_verb_df.verb.tolist())"
   ]
  },
  {
   "cell_type": "code",
   "execution_count": 190,
   "metadata": {},
   "outputs": [
    {
     "data": {
      "text/html": [
       "<div>\n",
       "<style scoped>\n",
       "    .dataframe tbody tr th:only-of-type {\n",
       "        vertical-align: middle;\n",
       "    }\n",
       "\n",
       "    .dataframe tbody tr th {\n",
       "        vertical-align: top;\n",
       "    }\n",
       "\n",
       "    .dataframe thead th {\n",
       "        text-align: right;\n",
       "    }\n",
       "</style>\n",
       "<table border=\"1\" class=\"dataframe\">\n",
       "  <thead>\n",
       "    <tr style=\"text-align: right;\">\n",
       "      <th></th>\n",
       "      <th>verb</th>\n",
       "      <th>noun</th>\n",
       "      <th>prep</th>\n",
       "      <th>pobj</th>\n",
       "      <th>label</th>\n",
       "    </tr>\n",
       "  </thead>\n",
       "  <tbody>\n",
       "    <tr>\n",
       "      <th>27</th>\n",
       "      <td>wear</td>\n",
       "      <td>leash</td>\n",
       "      <td>in</td>\n",
       "      <td>image</td>\n",
       "      <td>O</td>\n",
       "    </tr>\n",
       "    <tr>\n",
       "      <th>40</th>\n",
       "      <td>wear</td>\n",
       "      <td>ribbon</td>\n",
       "      <td>around</td>\n",
       "      <td>neck</td>\n",
       "      <td>N</td>\n",
       "    </tr>\n",
       "    <tr>\n",
       "      <th>49</th>\n",
       "      <td>wear</td>\n",
       "      <td>collar</td>\n",
       "      <td>with</td>\n",
       "      <td>head</td>\n",
       "      <td>O</td>\n",
       "    </tr>\n",
       "    <tr>\n",
       "      <th>58</th>\n",
       "      <td>wear</td>\n",
       "      <td>robe</td>\n",
       "      <td>with</td>\n",
       "      <td>stripe</td>\n",
       "      <td>N</td>\n",
       "    </tr>\n",
       "    <tr>\n",
       "      <th>82</th>\n",
       "      <td>wear</td>\n",
       "      <td>robe</td>\n",
       "      <td>with</td>\n",
       "      <td>stripe</td>\n",
       "      <td>N</td>\n",
       "    </tr>\n",
       "    <tr>\n",
       "      <th>92</th>\n",
       "      <td>wear</td>\n",
       "      <td>glove</td>\n",
       "      <td>of</td>\n",
       "      <td>image</td>\n",
       "      <td>O</td>\n",
       "    </tr>\n",
       "    <tr>\n",
       "      <th>93</th>\n",
       "      <td>wear</td>\n",
       "      <td>glove</td>\n",
       "      <td>of</td>\n",
       "      <td>image</td>\n",
       "      <td>O</td>\n",
       "    </tr>\n",
       "    <tr>\n",
       "      <th>147</th>\n",
       "      <td>wear</td>\n",
       "      <td>something</td>\n",
       "      <td>with</td>\n",
       "      <td>tassle</td>\n",
       "      <td>N</td>\n",
       "    </tr>\n",
       "    <tr>\n",
       "      <th>158</th>\n",
       "      <td>wear</td>\n",
       "      <td>outfit</td>\n",
       "      <td>in</td>\n",
       "      <td>shade</td>\n",
       "      <td>N</td>\n",
       "    </tr>\n",
       "    <tr>\n",
       "      <th>173</th>\n",
       "      <td>wear</td>\n",
       "      <td>type</td>\n",
       "      <td>of</td>\n",
       "      <td>coat</td>\n",
       "      <td>N</td>\n",
       "    </tr>\n",
       "    <tr>\n",
       "      <th>192</th>\n",
       "      <td>wear</td>\n",
       "      <td>blinder</td>\n",
       "      <td>on</td>\n",
       "      <td>grass</td>\n",
       "      <td>O</td>\n",
       "    </tr>\n",
       "    <tr>\n",
       "      <th>207</th>\n",
       "      <td>wear</td>\n",
       "      <td>pack</td>\n",
       "      <td>on</td>\n",
       "      <td>back</td>\n",
       "      <td>V</td>\n",
       "    </tr>\n",
       "    <tr>\n",
       "      <th>280</th>\n",
       "      <td>wear</td>\n",
       "      <td>harness</td>\n",
       "      <td>of</td>\n",
       "      <td>color</td>\n",
       "      <td>N</td>\n",
       "    </tr>\n",
       "    <tr>\n",
       "      <th>302</th>\n",
       "      <td>wear</td>\n",
       "      <td>swimsuit</td>\n",
       "      <td>in</td>\n",
       "      <td>style</td>\n",
       "      <td>N</td>\n",
       "    </tr>\n",
       "    <tr>\n",
       "      <th>325</th>\n",
       "      <td>wear</td>\n",
       "      <td>kind</td>\n",
       "      <td>of</td>\n",
       "      <td>adornment</td>\n",
       "      <td>N</td>\n",
       "    </tr>\n",
       "    <tr>\n",
       "      <th>329</th>\n",
       "      <td>wear</td>\n",
       "      <td>glove</td>\n",
       "      <td>with</td>\n",
       "      <td>attachment</td>\n",
       "      <td>N</td>\n",
       "    </tr>\n",
       "    <tr>\n",
       "      <th>375</th>\n",
       "      <td>wear</td>\n",
       "      <td>cap</td>\n",
       "      <td>with</td>\n",
       "      <td>tassel</td>\n",
       "      <td>N</td>\n",
       "    </tr>\n",
       "  </tbody>\n",
       "</table>\n",
       "</div>"
      ],
      "text/plain": [
       "     verb       noun    prep        pobj label\n",
       "27   wear      leash      in       image     O\n",
       "40   wear     ribbon  around        neck     N\n",
       "49   wear     collar    with        head     O\n",
       "58   wear       robe    with      stripe     N\n",
       "82   wear       robe    with      stripe     N\n",
       "92   wear      glove      of       image     O\n",
       "93   wear      glove      of       image     O\n",
       "147  wear  something    with      tassle     N\n",
       "158  wear     outfit      in       shade     N\n",
       "173  wear       type      of        coat     N\n",
       "192  wear    blinder      on       grass     O\n",
       "207  wear       pack      on        back     V\n",
       "280  wear    harness      of       color     N\n",
       "302  wear   swimsuit      in       style     N\n",
       "325  wear       kind      of   adornment     N\n",
       "329  wear      glove    with  attachment     N\n",
       "375  wear        cap    with      tassel     N"
      ]
     },
     "execution_count": 190,
     "metadata": {},
     "output_type": "execute_result"
    }
   ],
   "source": [
    "pres_verb_df[pres_verb_df['verb']=='wear']"
   ]
  },
  {
   "cell_type": "code",
   "execution_count": 193,
   "metadata": {},
   "outputs": [],
   "source": [
    "pres_verb_df.to_csv('data/presentation_verbs.csv',index=False)"
   ]
  },
  {
   "cell_type": "code",
   "execution_count": 194,
   "metadata": {},
   "outputs": [],
   "source": [
    "df=pd.read_csv('data/presentation_verbs_with_state.csv')"
   ]
  },
  {
   "cell_type": "code",
   "execution_count": 195,
   "metadata": {},
   "outputs": [
    {
     "data": {
      "text/html": [
       "<div>\n",
       "<style scoped>\n",
       "    .dataframe tbody tr th:only-of-type {\n",
       "        vertical-align: middle;\n",
       "    }\n",
       "\n",
       "    .dataframe tbody tr th {\n",
       "        vertical-align: top;\n",
       "    }\n",
       "\n",
       "    .dataframe thead th {\n",
       "        text-align: right;\n",
       "    }\n",
       "</style>\n",
       "<table border=\"1\" class=\"dataframe\">\n",
       "  <thead>\n",
       "    <tr style=\"text-align: right;\">\n",
       "      <th></th>\n",
       "      <th>verb</th>\n",
       "      <th>noun</th>\n",
       "      <th>prep</th>\n",
       "      <th>pobj</th>\n",
       "      <th>label</th>\n",
       "      <th>mod_state_mutable</th>\n",
       "      <th>Unnamed: 6</th>\n",
       "    </tr>\n",
       "  </thead>\n",
       "  <tbody>\n",
       "    <tr>\n",
       "      <th>0</th>\n",
       "      <td>feature</td>\n",
       "      <td>jellyfish</td>\n",
       "      <td>with</td>\n",
       "      <td>tentacle</td>\n",
       "      <td>N</td>\n",
       "      <td>N</td>\n",
       "      <td>NaN</td>\n",
       "    </tr>\n",
       "    <tr>\n",
       "      <th>1</th>\n",
       "      <td>include</td>\n",
       "      <td>bird</td>\n",
       "      <td>with</td>\n",
       "      <td>wing</td>\n",
       "      <td>N</td>\n",
       "      <td>N</td>\n",
       "      <td>NaN</td>\n",
       "    </tr>\n",
       "    <tr>\n",
       "      <th>2</th>\n",
       "      <td>contain</td>\n",
       "      <td>number</td>\n",
       "      <td>of</td>\n",
       "      <td>lemon</td>\n",
       "      <td>N</td>\n",
       "      <td>N</td>\n",
       "      <td>NaN</td>\n",
       "    </tr>\n",
       "    <tr>\n",
       "      <th>3</th>\n",
       "      <td>include</td>\n",
       "      <td>mass</td>\n",
       "      <td>of</td>\n",
       "      <td>zebra</td>\n",
       "      <td>N</td>\n",
       "      <td>N</td>\n",
       "      <td>NaN</td>\n",
       "    </tr>\n",
       "    <tr>\n",
       "      <th>4</th>\n",
       "      <td>be</td>\n",
       "      <td>total</td>\n",
       "      <td>of</td>\n",
       "      <td>pelican</td>\n",
       "      <td>N</td>\n",
       "      <td>N</td>\n",
       "      <td>NaN</td>\n",
       "    </tr>\n",
       "    <tr>\n",
       "      <th>...</th>\n",
       "      <td>...</td>\n",
       "      <td>...</td>\n",
       "      <td>...</td>\n",
       "      <td>...</td>\n",
       "      <td>...</td>\n",
       "      <td>...</td>\n",
       "      <td>...</td>\n",
       "    </tr>\n",
       "    <tr>\n",
       "      <th>373</th>\n",
       "      <td>contain</td>\n",
       "      <td>animal</td>\n",
       "      <td>with</td>\n",
       "      <td>body</td>\n",
       "      <td>N</td>\n",
       "      <td>N</td>\n",
       "      <td>NaN</td>\n",
       "    </tr>\n",
       "    <tr>\n",
       "      <th>374</th>\n",
       "      <td>show</td>\n",
       "      <td>chimpanzee</td>\n",
       "      <td>in</td>\n",
       "      <td>tree</td>\n",
       "      <td>N</td>\n",
       "      <td>Y</td>\n",
       "      <td>NaN</td>\n",
       "    </tr>\n",
       "    <tr>\n",
       "      <th>375</th>\n",
       "      <td>wear</td>\n",
       "      <td>cap</td>\n",
       "      <td>with</td>\n",
       "      <td>tassel</td>\n",
       "      <td>N</td>\n",
       "      <td>N</td>\n",
       "      <td>NaN</td>\n",
       "    </tr>\n",
       "    <tr>\n",
       "      <th>376</th>\n",
       "      <td>be</td>\n",
       "      <td>drawer</td>\n",
       "      <td>below</td>\n",
       "      <td>squared</td>\n",
       "      <td>N</td>\n",
       "      <td>?</td>\n",
       "      <td>NaN</td>\n",
       "    </tr>\n",
       "    <tr>\n",
       "      <th>377</th>\n",
       "      <td>be</td>\n",
       "      <td>chihuahua</td>\n",
       "      <td>in</td>\n",
       "      <td>image</td>\n",
       "      <td>V</td>\n",
       "      <td>Y</td>\n",
       "      <td>NaN</td>\n",
       "    </tr>\n",
       "  </tbody>\n",
       "</table>\n",
       "<p>378 rows × 7 columns</p>\n",
       "</div>"
      ],
      "text/plain": [
       "        verb        noun   prep      pobj label mod_state_mutable Unnamed: 6\n",
       "0    feature   jellyfish   with  tentacle     N                 N        NaN\n",
       "1    include        bird   with      wing     N                 N        NaN\n",
       "2    contain      number     of     lemon     N                 N        NaN\n",
       "3    include        mass     of     zebra     N                 N        NaN\n",
       "4         be       total     of   pelican     N                 N        NaN\n",
       "..       ...         ...    ...       ...   ...               ...        ...\n",
       "373  contain      animal   with      body     N                 N        NaN\n",
       "374     show  chimpanzee     in      tree     N                 Y        NaN\n",
       "375     wear         cap   with    tassel     N                 N        NaN\n",
       "376       be      drawer  below   squared     N                 ?        NaN\n",
       "377       be   chihuahua     in     image     V                 Y        NaN\n",
       "\n",
       "[378 rows x 7 columns]"
      ]
     },
     "execution_count": 195,
     "metadata": {},
     "output_type": "execute_result"
    }
   ],
   "source": [
    "df"
   ]
  },
  {
   "cell_type": "code",
   "execution_count": 198,
   "metadata": {},
   "outputs": [],
   "source": [
    "# Want PP+POBJ for all cases with mod_state_mutable=Y\n",
    "matches=list(df[df['mod_state_mutable']=='Y'].itertuples(index=False,name=None))"
   ]
  },
  {
   "cell_type": "code",
   "execution_count": 199,
   "metadata": {},
   "outputs": [],
   "source": [
    "pp_matches = [(x[2],x[3]) for x in matches]"
   ]
  },
  {
   "cell_type": "code",
   "execution_count": 201,
   "metadata": {},
   "outputs": [],
   "source": [
    "pp_matches = set(pp_matches)"
   ]
  },
  {
   "cell_type": "code",
   "execution_count": 209,
   "metadata": {},
   "outputs": [
    {
     "name": "stdout",
     "output_type": "stream",
     "text": [
      "E: ('form', 'screen', 'in', 'front')\n",
      "E: ('hold', 'dog', 'of', 'image')\n",
      "E: ('leave', 'pig', 'in', 'image')\n",
      "E: ('show', 'hound', 'on', 'grass')\n",
      "E: ('have', 'hole', 'in', 'front')\n",
      "E: ('be', 'dog', 'in', 'image')\n",
      "E: ('be', 'pillow', 'of', 'image')\n",
      "E: ('show', 'cover', 'on', 'side')\n",
      "E: ('feature', 'oval', 'on', 'image')\n",
      "E: ('view', 'head', 'on', 'left')\n",
      "E: ('surround', 'table', 'in', 'image')\n",
      "E: ('flesh', 'fruit', 'on', 'top')\n",
      "E: ('contain', 'gorilla', 'in', 'image')\n",
      "E: ('wear', 'pack', 'in', 'image')\n",
      "E: ('feature', 'dog', 'on', 'left')\n",
      "E: ('mash', 'potato', 'in', 'bowl')\n",
      "E: ('be', 'dog', 'on', 'right')\n",
      "E: ('show', 'person', 'in', 'sleeve')\n",
      "E: ('show', 'skunk', 'in', 'profile')\n",
      "E: ('be', 'deer', 'in', 'tree')\n",
      "E: ('leave', 'display', 'in', 'image')\n",
      "E: ('be', 'spoon', 'on', 'top')\n",
      "E: ('show', 'buffalo', 'in', 'water')\n"
     ]
    }
   ],
   "source": [
    "corrected_preds = []\n",
    "ann_vs_predV = []\n",
    "for i,(tt,lbl,spc) in enumerate(zip(test_tuples, labels_test, spacy_preds)):\n",
    "    pp = (tt[2],tt[3])\n",
    "    \n",
    "    if pp in pp_matches:\n",
    "        if lbl!='V':\n",
    "            print(\"E:\",tt)\n",
    "            ann_vs_predV.append(tt)\n",
    "        corrected_preds.append('V')\n",
    "    else:\n",
    "        corrected_preds.append(spc)"
   ]
  },
  {
   "cell_type": "code",
   "execution_count": 210,
   "metadata": {},
   "outputs": [],
   "source": [
    "err_df = pd.DataFrame(ann_vs_predV,columns=['verb','noun','prep','pobj'])"
   ]
  },
  {
   "cell_type": "code",
   "execution_count": null,
   "metadata": {},
   "outputs": [],
   "source": [
    "# Make a table of this, show it... \n",
    "# Flag cases I'm still unsure about"
   ]
  },
  {
   "cell_type": "code",
   "execution_count": 211,
   "metadata": {},
   "outputs": [
    {
     "data": {
      "text/html": [
       "<div>\n",
       "<style scoped>\n",
       "    .dataframe tbody tr th:only-of-type {\n",
       "        vertical-align: middle;\n",
       "    }\n",
       "\n",
       "    .dataframe tbody tr th {\n",
       "        vertical-align: top;\n",
       "    }\n",
       "\n",
       "    .dataframe thead th {\n",
       "        text-align: right;\n",
       "    }\n",
       "</style>\n",
       "<table border=\"1\" class=\"dataframe\">\n",
       "  <thead>\n",
       "    <tr style=\"text-align: right;\">\n",
       "      <th></th>\n",
       "      <th>verb</th>\n",
       "      <th>noun</th>\n",
       "      <th>prep</th>\n",
       "      <th>pobj</th>\n",
       "    </tr>\n",
       "  </thead>\n",
       "  <tbody>\n",
       "    <tr>\n",
       "      <th>0</th>\n",
       "      <td>form</td>\n",
       "      <td>screen</td>\n",
       "      <td>in</td>\n",
       "      <td>front</td>\n",
       "    </tr>\n",
       "    <tr>\n",
       "      <th>1</th>\n",
       "      <td>hold</td>\n",
       "      <td>dog</td>\n",
       "      <td>of</td>\n",
       "      <td>image</td>\n",
       "    </tr>\n",
       "    <tr>\n",
       "      <th>2</th>\n",
       "      <td>leave</td>\n",
       "      <td>pig</td>\n",
       "      <td>in</td>\n",
       "      <td>image</td>\n",
       "    </tr>\n",
       "    <tr>\n",
       "      <th>3</th>\n",
       "      <td>show</td>\n",
       "      <td>hound</td>\n",
       "      <td>on</td>\n",
       "      <td>grass</td>\n",
       "    </tr>\n",
       "    <tr>\n",
       "      <th>4</th>\n",
       "      <td>have</td>\n",
       "      <td>hole</td>\n",
       "      <td>in</td>\n",
       "      <td>front</td>\n",
       "    </tr>\n",
       "    <tr>\n",
       "      <th>5</th>\n",
       "      <td>be</td>\n",
       "      <td>dog</td>\n",
       "      <td>in</td>\n",
       "      <td>image</td>\n",
       "    </tr>\n",
       "    <tr>\n",
       "      <th>6</th>\n",
       "      <td>be</td>\n",
       "      <td>pillow</td>\n",
       "      <td>of</td>\n",
       "      <td>image</td>\n",
       "    </tr>\n",
       "    <tr>\n",
       "      <th>7</th>\n",
       "      <td>show</td>\n",
       "      <td>cover</td>\n",
       "      <td>on</td>\n",
       "      <td>side</td>\n",
       "    </tr>\n",
       "    <tr>\n",
       "      <th>8</th>\n",
       "      <td>feature</td>\n",
       "      <td>oval</td>\n",
       "      <td>on</td>\n",
       "      <td>image</td>\n",
       "    </tr>\n",
       "    <tr>\n",
       "      <th>9</th>\n",
       "      <td>view</td>\n",
       "      <td>head</td>\n",
       "      <td>on</td>\n",
       "      <td>left</td>\n",
       "    </tr>\n",
       "    <tr>\n",
       "      <th>10</th>\n",
       "      <td>surround</td>\n",
       "      <td>table</td>\n",
       "      <td>in</td>\n",
       "      <td>image</td>\n",
       "    </tr>\n",
       "    <tr>\n",
       "      <th>11</th>\n",
       "      <td>flesh</td>\n",
       "      <td>fruit</td>\n",
       "      <td>on</td>\n",
       "      <td>top</td>\n",
       "    </tr>\n",
       "    <tr>\n",
       "      <th>12</th>\n",
       "      <td>contain</td>\n",
       "      <td>gorilla</td>\n",
       "      <td>in</td>\n",
       "      <td>image</td>\n",
       "    </tr>\n",
       "    <tr>\n",
       "      <th>13</th>\n",
       "      <td>wear</td>\n",
       "      <td>pack</td>\n",
       "      <td>in</td>\n",
       "      <td>image</td>\n",
       "    </tr>\n",
       "    <tr>\n",
       "      <th>14</th>\n",
       "      <td>feature</td>\n",
       "      <td>dog</td>\n",
       "      <td>on</td>\n",
       "      <td>left</td>\n",
       "    </tr>\n",
       "    <tr>\n",
       "      <th>15</th>\n",
       "      <td>mash</td>\n",
       "      <td>potato</td>\n",
       "      <td>in</td>\n",
       "      <td>bowl</td>\n",
       "    </tr>\n",
       "    <tr>\n",
       "      <th>16</th>\n",
       "      <td>be</td>\n",
       "      <td>dog</td>\n",
       "      <td>on</td>\n",
       "      <td>right</td>\n",
       "    </tr>\n",
       "    <tr>\n",
       "      <th>17</th>\n",
       "      <td>show</td>\n",
       "      <td>person</td>\n",
       "      <td>in</td>\n",
       "      <td>sleeve</td>\n",
       "    </tr>\n",
       "    <tr>\n",
       "      <th>18</th>\n",
       "      <td>show</td>\n",
       "      <td>skunk</td>\n",
       "      <td>in</td>\n",
       "      <td>profile</td>\n",
       "    </tr>\n",
       "    <tr>\n",
       "      <th>19</th>\n",
       "      <td>be</td>\n",
       "      <td>deer</td>\n",
       "      <td>in</td>\n",
       "      <td>tree</td>\n",
       "    </tr>\n",
       "    <tr>\n",
       "      <th>20</th>\n",
       "      <td>leave</td>\n",
       "      <td>display</td>\n",
       "      <td>in</td>\n",
       "      <td>image</td>\n",
       "    </tr>\n",
       "    <tr>\n",
       "      <th>21</th>\n",
       "      <td>be</td>\n",
       "      <td>spoon</td>\n",
       "      <td>on</td>\n",
       "      <td>top</td>\n",
       "    </tr>\n",
       "    <tr>\n",
       "      <th>22</th>\n",
       "      <td>show</td>\n",
       "      <td>buffalo</td>\n",
       "      <td>in</td>\n",
       "      <td>water</td>\n",
       "    </tr>\n",
       "  </tbody>\n",
       "</table>\n",
       "</div>"
      ],
      "text/plain": [
       "        verb     noun prep     pobj\n",
       "0       form   screen   in    front\n",
       "1       hold      dog   of    image\n",
       "2      leave      pig   in    image\n",
       "3       show    hound   on    grass\n",
       "4       have     hole   in    front\n",
       "5         be      dog   in    image\n",
       "6         be   pillow   of    image\n",
       "7       show    cover   on     side\n",
       "8    feature     oval   on    image\n",
       "9       view     head   on     left\n",
       "10  surround    table   in    image\n",
       "11     flesh    fruit   on      top\n",
       "12   contain  gorilla   in    image\n",
       "13      wear     pack   in    image\n",
       "14   feature      dog   on     left\n",
       "15      mash   potato   in     bowl\n",
       "16        be      dog   on    right\n",
       "17      show   person   in   sleeve\n",
       "18      show    skunk   in  profile\n",
       "19        be     deer   in     tree\n",
       "20     leave  display   in    image\n",
       "21        be    spoon   on      top\n",
       "22      show  buffalo   in    water"
      ]
     },
     "execution_count": 211,
     "metadata": {},
     "output_type": "execute_result"
    }
   ],
   "source": [
    "err_df"
   ]
  },
  {
   "cell_type": "code",
   "execution_count": 206,
   "metadata": {},
   "outputs": [
    {
     "name": "stdout",
     "output_type": "stream",
     "text": [
      "              precision    recall  f1-score   support\n",
      "\n",
      "           N      0.916     0.784     0.845       111\n",
      "           O      0.375     0.300     0.333        10\n",
      "           V      0.519     0.778     0.622        36\n",
      "\n",
      "    accuracy                          0.752       157\n",
      "   macro avg      0.603     0.621     0.600       157\n",
      "weighted avg      0.790     0.752     0.761       157\n",
      "\n"
     ]
    }
   ],
   "source": [
    "print(sklearn.metrics.classification_report(labels_test, corrected_preds, digits=3))"
   ]
  },
  {
   "cell_type": "code",
   "execution_count": 208,
   "metadata": {},
   "outputs": [
    {
     "name": "stdout",
     "output_type": "stream",
     "text": [
      "              precision    recall  f1-score   support\n",
      "\n",
      "           N      0.905     0.804     0.851       107\n",
      "           O      0.375     0.300     0.333        10\n",
      "           V      0.574     0.775     0.660        40\n",
      "\n",
      "    accuracy                          0.764       157\n",
      "   macro avg      0.618     0.626     0.615       157\n",
      "weighted avg      0.787     0.764     0.770       157\n",
      "\n"
     ]
    }
   ],
   "source": [
    "print(sklearn.metrics.classification_report(new_test_labels, corrected_preds, digits=3))"
   ]
  },
  {
   "cell_type": "code",
   "execution_count": null,
   "metadata": {},
   "outputs": [],
   "source": [
    "# Disappointing, but I think error analysis will show\n",
    "# that the annotations are wrong, or at least questionable\n",
    "...show test cases where annotation and correction disagree"
   ]
  }
 ],
 "metadata": {
  "kernelspec": {
   "display_name": "Python 3",
   "language": "python",
   "name": "python3"
  },
  "language_info": {
   "codemirror_mode": {
    "name": "ipython",
    "version": 3
   },
   "file_extension": ".py",
   "mimetype": "text/x-python",
   "name": "python",
   "nbconvert_exporter": "python",
   "pygments_lexer": "ipython3",
   "version": "3.6.10"
  }
 },
 "nbformat": 4,
 "nbformat_minor": 2
}
