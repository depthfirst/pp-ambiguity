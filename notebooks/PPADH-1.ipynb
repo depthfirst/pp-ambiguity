{
 "cells": [
  {
   "cell_type": "markdown",
   "metadata": {},
   "source": [
    "This notebook is based largely on the prior works of Patrick Pantel and Dekang Lin (1999). \n",
    "\n",
    "The primary purpose here is to classify a given sentence as having prepositional phrase attachment ambiguity. A syntactic parse is required. \n",
    "\n",
    "Secondary purpose will be to enumerate the candidate attachment sites for those sentences with ambiguities. \n",
    "\n",
    "Once this work is completed, we can use it to analyze sentences with prepositional phrases, both with and without ambiguities, and look for interesting of distinguishing patterns or characteristics. Following Pantel and Lin's approach, we can use the distribution of words across the unambiguous cases to predict the ambiguous cases in an unsupervised manner. \n",
    "\n",
    "Pantel and Lin define ambiguous cases of the form (V, N1, P, N2). \n",
    "\n",
    "They define unambiguous cases as of the forms (N1, P, N2) and (V, P, N2). \n",
    "\n",
    "I'm not sure I agree with this. What about... \n",
    "\n",
    "(P, N2, P, N3)? based on above, this is said to be unambiguous. I disagree. \n",
    "    sub (V, P, N2, P, N3)? \n",
    "    sub (N1, P, N2, P, N3)? \n",
    "\n",
    "I carried my golf clubs with new grips on graphite shafts with cavity-backed blades over my shoulder. \n",
    "\n",
    "I carried my golf clubs with new grips over my shoulder. \n",
    "I carried my golf clubs with new grips from the pro shop. \n",
    "\n",
    "I carried my golf bag with the new irons from the pro shop. \n",
    "I carried my golf bag across the 15th fairway to the pro shop. \n",
    "I carried my golf bag with my friend Jim across the 15th fairway. \n",
    "I carried my golf bag to the pro shop with my friend Jim. \n",
    "\n",
    "All of form...\n",
    "\n",
    "N, V, N, P, N, P, N\n",
    "\n",
    "Bah! Matches first rule. \n",
    "\n",
    "N, V, N, P, N, P, N, P, N\n",
    "\n",
    "I'm calling that ambiguous. \n",
    "\n",
    "hence the only unambiguous cases would be of the form... \n",
    "\n",
    "(V, P, N2) or maybe\n",
    "(N, P, N, V)\n",
    "\n",
    "The man with the horse offered me a job. \n",
    "\n",
    "These heuristics must be ranked... first match fires, done. \n",
    "(cooler way to say that?)\n",
    "disjunctive heuristics? \n",
    "decision trees? \n",
    "\n",
    "(V, N, P, N) => ambiguous (these cats)\n",
    "(V, P, N) => unambiguous (yea. them cats)\n",
    "They say...\n",
    "N, P, N => unambiguous\n",
    "\n",
    "I say...\n",
    "\n",
    "(V, P, N, P, N) => ambiguous (I made this!)\n",
    "I walked with my golf bag to the clubhouse. \n",
    "I walked with my golf bag in a pullcart. \n",
    "\n",
    "(P, N, P, N, P, N) => ambiguous\n",
    "\n",
    "^(N, P, N, V) => unambiguous (I made this!)\n",
    "The man with the beard sells tacos. \n",
    "\n",
    "(P, N, P, N) => unambiguous? (variation of N P N - them cats)\n",
    "(P) => unknown (presumed unambiguous)\n",
    "=> no P\n",
    "\n",
    "\n",
    "\n"
   ]
  },
  {
   "cell_type": "code",
   "execution_count": 1,
   "metadata": {},
   "outputs": [],
   "source": [
    "import re\n",
    "import os\n",
    "import nltk\n",
    "from itertools import groupby"
   ]
  },
  {
   "cell_type": "code",
   "execution_count": 2,
   "metadata": {},
   "outputs": [],
   "source": [
    "pat1 = re.compile(r'[VNP]P')"
   ]
  },
  {
   "cell_type": "code",
   "execution_count": 3,
   "metadata": {},
   "outputs": [
    {
     "name": "stdout",
     "output_type": "stream",
     "text": [
      "(S (PP (IN In) (NP (QP (RB at) (RBS least) (CD one)) (NN image))) (NP (EX there)) (VP (VBZ is) (NP (NP (DT a) (JJ single) (NN tree)) (PP (IN with) (NP (JJ orange) (NNS flowers))) (PP (IN in) (NP (NP (NN front)) (PP (IN of) (NP (DT a) (NN church))))) (PP (IN with) (S (NP (DT the) (JJ open) (NN door)) (VP (VBG facing) (RB forward) (RB left)))))) (. .))\n"
     ]
    }
   ],
   "source": [
    "ex_parse = \"(S (PP (IN In) (NP (QP (RB at) (RBS least) (CD one)) (NN image))) (NP (EX there)) (VP (VBZ is) (NP (NP (DT a) (JJ single) (NN tree)) (PP (IN with) (NP (JJ orange) (NNS flowers))) (PP (IN in) (NP (NP (NN front)) (PP (IN of) (NP (DT a) (NN church))))) (PP (IN with) (S (NP (DT the) (JJ open) (NN door)) (VP (VBG facing) (RB forward) (RB left)))))) (. .))\"\n",
    "print(ex_parse)"
   ]
  },
  {
   "cell_type": "code",
   "execution_count": 4,
   "metadata": {},
   "outputs": [],
   "source": [
    "matches = re.findall(pat1,ex_parse)"
   ]
  },
  {
   "cell_type": "code",
   "execution_count": 5,
   "metadata": {},
   "outputs": [],
   "source": [
    "phrase_pattern = ''.join([m[0] for m in matches])"
   ]
  },
  {
   "cell_type": "code",
   "execution_count": 6,
   "metadata": {},
   "outputs": [
    {
     "data": {
      "text/plain": [
       "'PNNVNNPNPNNPNPNV'"
      ]
     },
     "execution_count": 6,
     "metadata": {},
     "output_type": "execute_result"
    }
   ],
   "source": [
    "phrase_pattern"
   ]
  },
  {
   "cell_type": "code",
   "execution_count": 7,
   "metadata": {},
   "outputs": [],
   "source": [
    "# NN -> N\n",
    "new_phrase_pattern = 'N'.join(phrase_pattern.split('NN'))"
   ]
  },
  {
   "cell_type": "code",
   "execution_count": 8,
   "metadata": {},
   "outputs": [
    {
     "data": {
      "text/plain": [
       "'PNVNPNPNPNPNV'"
      ]
     },
     "execution_count": 8,
     "metadata": {},
     "output_type": "execute_result"
    }
   ],
   "source": [
    "new_phrase_pattern"
   ]
  },
  {
   "cell_type": "code",
   "execution_count": 35,
   "metadata": {},
   "outputs": [],
   "source": [
    "def has_pp_attachment_ambiguity(parse):\n",
    "    '''\n",
    "    This is intended to be a reference implementation of Pantel & Lin (2002). \n",
    "    \n",
    "    (V, N1, P, N2) => ambigious\"\n",
    "    Otherwise => not ambiguous\n",
    "    '''\n",
    "    # step0 = re.sub(r'SBAR \\(IN', 'PP (IN', parse)\n",
    "    step0 = parse # no modifications\n",
    "    step1 = [m[0] for m in re.findall(r'[VNP]P',step0)]\n",
    "    step2 = ''.join(step1)\n",
    "    # Removing consecutive duplicates, e.g. NN => N\n",
    "    # https://stackoverflow.com/questions/18799036/python-best-way-to-remove-duplicate-character-from-string\n",
    "    step3 = ''.join(ch for ch, _ in groupby(step2))\n",
    "    phrase_pattern = step3\n",
    "    print(phrase_pattern)\n",
    "    # If no prep phrase, let's not waste time.\n",
    "    if not re.search(r'P',phrase_pattern):\n",
    "        if len(phrase_pattern)>0:\n",
    "            print(\"No preps: {}\".format(phrase_pattern))\n",
    "            print(parse)\n",
    "        return False\n",
    "    \n",
    "    # (V, N, P, N) => ambiguous (Pantel&Lin) \n",
    "    # Mary ate a salad with a fork. \n",
    "    # Mary ate a salad with croutons. \n",
    "    match_obj = re.search(r'VNPN', phrase_pattern)\n",
    "    if match_obj:\n",
    "        return True\n",
    "    return False\n"
   ]
  },
  {
   "cell_type": "code",
   "execution_count": 10,
   "metadata": {},
   "outputs": [],
   "source": [
    "def get_pp_attachment_ambiguity(parse):\n",
    "    # https://stackoverflow.com/questions/18799036/python-best-way-to-remove-duplicate-character-from-string\n",
    "    step0 = re.sub(r'SBAR \\(IN', 'PP (IN', parse)\n",
    "    step1 = [m[0] for m in re.findall(r'[VNP]P',step0)]\n",
    "    step2 = ''.join(step1)\n",
    "    step3 = ''.join(ch for ch, _ in groupby(step2))\n",
    "    phrase_pattern = step3\n",
    "    \n",
    "    # If no prep phrase, let's not waste time.\n",
    "    if not re.search(r'P',phrase_pattern):\n",
    "        if len(phrase_pattern)>0:\n",
    "            print(\"No preps: {}\".format(phrase_pattern))\n",
    "            print(parse)\n",
    "        return False, 'P'\n",
    "    \n",
    "    # (V, N, P, N) => ambiguous (Pantel&Lin) \n",
    "    # Mary ate a salad with a fork. \n",
    "    # Mary ate a salad with croutons. \n",
    "    match_obj = re.search(r'VNPN', phrase_pattern)\n",
    "    if match_obj:\n",
    "        return True, 'VNPN'\n",
    "    #(V, P, N, P, N) => ambiguous (I made this!) \n",
    "    #I walked with my golf bag to the clubhouse. \n",
    "    #I walked with my golf bag in a pullcart.\n",
    "    match_obj = re.search(r'VPNPN', phrase_pattern)\n",
    "    if match_obj:\n",
    "        return True, 'VPNPN'\n",
    "    # (N, P, N, P, N) => ambiguous (I made this!)\n",
    "    # In at least one image there is a single tree with orange flowers in front of a church with the open door facing forward left.\n",
    "    # ... [tree with orange] flowers in front of a church ...\n",
    "    # ... [tree with orange] flowers with five petals on thick branches... \n",
    "    # ([N, P, {N, P, N], P, N})\n",
    "    match_obj = re.search(r'NPNPN', phrase_pattern)\n",
    "    if match_obj:\n",
    "        return True, 'NPNPN'\n",
    "    # (N, V, P, N) => ambiguous (discovered empirically)\n",
    "    # ... women wearing white bikinis standing next to the water. \n",
    "    # (simplification)\n",
    "    # ... A woman is wearing a bikini cooking on a gas stove. \n",
    "    # ... A woman is holding a spatula cooking in a white bikini. \n",
    "    if re.search(r'NVNVPN', phrase_pattern):\n",
    "        return True, 'NVNVPN'\n",
    "    \n",
    "    # We have now passed all the checks for ambiguity. \n",
    "    \n",
    "    #^(N, P, N, V) => unambiguous (I made this!)\n",
    "    # The man with the beard sells tacos. \n",
    "    match_obj = re.search(r'^NPNV', phrase_pattern)\n",
    "    if match_obj:\n",
    "        print(\"Pattern match (^NPNV=un): {}\".format(phrase_pattern))\n",
    "        print(parse)\n",
    "        return False, '^NPNV'\n",
    "    else:\n",
    "        # ...in the image on the left...\n",
    "        match_obj = re.search(r'PNPN', phrase_pattern)\n",
    "        if match_obj:\n",
    "            print(\"Pattern match (PNPN=un): {}\".format(phrase_pattern))\n",
    "            print(parse)\n",
    "            return False, 'PNPN'\n",
    "        else:\n",
    "            print(\"New pattern: {}\".format(phrase_pattern))\n",
    "    print(parse)\n",
    "    return False, phrase_pattern"
   ]
  },
  {
   "cell_type": "code",
   "execution_count": 11,
   "metadata": {},
   "outputs": [
    {
     "name": "stdout",
     "output_type": "stream",
     "text": [
      "No preps: NVNVNVNVNV\n",
      "(S (S (NP (DT The) (JJ left) (NN image)) (VP (VBZ contains) (NP (NP (DT a) (NN dog)) (SBAR (WHNP (WDT that)) (S (VP (VBZ is) (VP (VP (VBG standing) (ADVP (RP up))) (CC and) (VP (VBD turned) (ADVP (RB forward)))))))))) (, ,) (CC and) (S (NP (DT the) (JJ right) (NN image)) (VP (VBZ features) (NP (NP (DT a) (NN dog)) (VP (VBG wearing) (NP (DT a) (JJ blue) (NN collar)) (SBAR (IN with) (S (NP (PRP$ its) (NN head) (CC and) (NN gaze)) (VP (VBD raised)))))))) (. .))\n",
      "No preps: NVN\n",
      "(S (NP (PRP it)) (VP (VBZ 's) (NP (JJ blue) (CC and) (NNP red) (NNP box))) (. .))\n"
     ]
    }
   ],
   "source": [
    "parses = []\n",
    "num_total = 0\n",
    "num_found = 0\n",
    "with open('../data/pp_ambiguity_parses.txt') as ppap_in:\n",
    "    for line in ppap_in:\n",
    "        num_total += 1\n",
    "        if has_pp_attachment_ambiguity(line.strip()):\n",
    "            num_found += 1"
   ]
  },
  {
   "cell_type": "code",
   "execution_count": 12,
   "metadata": {},
   "outputs": [
    {
     "name": "stdout",
     "output_type": "stream",
     "text": [
      "56 94\n"
     ]
    }
   ],
   "source": [
    "print(num_found, num_total)"
   ]
  },
  {
   "cell_type": "markdown",
   "metadata": {},
   "source": [
    "\n",
    "(P, N, P, N, P, N) => ambiguous\n",
    "\n",
    "^(N, P, N, V) => unambiguous (I made this!) \n",
    "\n",
    "(P, N, P, N) => unambiguous? (variation of N P N - them cats) (P) => unknown (presumed unambiguous) => no P"
   ]
  },
  {
   "cell_type": "code",
   "execution_count": 14,
   "metadata": {},
   "outputs": [],
   "source": [
    "all_parses = []\n",
    "with open('../data/annotated_dev.parse') as ppap_in:\n",
    "    for line in ppap_in:\n",
    "        all_parses.append(line.strip())"
   ]
  },
  {
   "cell_type": "code",
   "execution_count": 15,
   "metadata": {},
   "outputs": [],
   "source": [
    "ppaa_parses = []\n",
    "with open('../data/pp_ambiguity.parse') as ppap_in:\n",
    "    for line in ppap_in:\n",
    "        ppaa_parses.append(line.strip())"
   ]
  },
  {
   "cell_type": "code",
   "execution_count": 16,
   "metadata": {},
   "outputs": [],
   "source": [
    "pos_ambiguous_parses = [parse for parse in all_parses if parse in ppaa_parses]"
   ]
  },
  {
   "cell_type": "code",
   "execution_count": 17,
   "metadata": {},
   "outputs": [
    {
     "data": {
      "text/plain": [
       "94"
      ]
     },
     "execution_count": 17,
     "metadata": {},
     "output_type": "execute_result"
    }
   ],
   "source": [
    "len(pos_ambiguous_parses)"
   ]
  },
  {
   "cell_type": "code",
   "execution_count": 18,
   "metadata": {},
   "outputs": [],
   "source": [
    "annotated_parses = [(parse, parse in ppaa_parses) for parse in all_parses]"
   ]
  },
  {
   "cell_type": "code",
   "execution_count": 19,
   "metadata": {},
   "outputs": [
    {
     "name": "stdout",
     "output_type": "stream",
     "text": [
      "No preps: NVN\n",
      "(S (NP (EX There)) (VP (VBP are) (NP (QP (RB exactly) (CD three)) (JJ juvenile) (NNS cheetahs))) (. .))\n",
      "No preps: NVN\n",
      "(S (NP (EX There)) (VP (VBP are) (NP (QP (DT no) (JJR more) (IN than) (CD six)) (NNS birds))) (. .))\n",
      "No preps: NVN\n",
      "(S (NP (CD One) (NN dog)) (VP (VBZ is) (VP (VBG wearing) (NP (DT a) (NN leash)))) (. .))\n",
      "No preps: NVN\n",
      "(S (NP (EX There)) (VP (VBP are) (NP (QP (DT no) (JJR more) (IN than) (CD three)) (NNS elephants))) (. .))\n",
      "No preps: NVNV\n",
      "(S (S (NP (CD One) (NN dog) (NN sled) (NN team)) (VP (VBZ is) (VP (VBG moving)))) (CC and) (S (NP (CD one)) (VP (VBZ is) (RB not))) (. .))\n",
      "No preps: NVNV\n",
      "(S (NP (DT The) (JJ right) (NN image)) (VP (VBZ contains) (NP (NP (DT a) (JJ brown) (NN dog)) (SBAR (IN with) (S (NP (PRP$ its) (NN tongue)) (VP (VBN exposed)))))) (. .))\n",
      "No preps: NVNVNVN\n",
      "(S (NP (DT The) (JJ right) (NN image)) (VP (VBZ contains) (NP (NP (DT a) (NN person)) (VP (VBG riding) (NP (DT a) (NN mountain) (NN bike)) (S (VP (VBG wearing) (NP (NN knee) (NNS pads))))))) (. .))\n",
      "No preps: NVN\n",
      "(S (NP (EX There)) (VP (VBP are) (NP (QP (DT no) (JJR less) (IN than) (CD 3)) (ADJP (JJ black) (CC and) (JJ white)) (NNS dogs))) (. .))\n",
      "No preps: NVN\n",
      "(S (NP (VBP Am) (NN image)) (VP (VBZ contains) (NP (CD two) (NNS dogs))) (. .))\n",
      "No preps: NVNVN\n",
      "(S (S (NP (CD One) (NN image)) (VP (VBZ contains) (NP (DT a) (JJ single) (NN schnauzer)))) (, ,) (CC and) (S (NP (DT the) (JJ other) (NN image)) (VP (VBZ contains) (NP (NP (JJ multiple) (VB look)) (HYPH -) (NP (JJ alike) (NNS schnauzers))))) (. .))\n",
      "No preps: NVNVN\n",
      "(S (S (NP (DT All) (NNS locks)) (VP (VBP are) (ADJP (JJ round)))) (, ,) (CC and) (S (NP (CD one) (NN image)) (VP (VBZ contains) (NP (CD three) (JJ identical) (NNS locks)))) (. .))\n",
      "No preps: NVN\n",
      "(S (NP (DT The) (JJ right) (NN image)) (VP (VBZ contains) (NP (QP (RB exactly) (CD two)) (NNS dogs))) (. .))\n",
      "No preps: NVN\n",
      "(S (NP (EX There)) (VP (VBP are) (NP (QP (CD three) (CC or) (JJR more)) (NNS pizzas))) (. .))\n",
      "No preps: NVN\n",
      "(S (NP (EX There)) (VP (VBZ is) (NP (QP (RB only) (CD one)) (NN cut) (NN lemon))) (. .))\n",
      "No preps: NVN\n",
      "(S (NP (CD Two) (NN soda) (NNS bottles)) (VP (VBP have) (NP (DT the) (NNP Pepsi) (NN logo))) (. .))\n",
      "No preps: NVN\n",
      "(S (NP (CD One) (NN woman)) (VP (VBZ is) (VP (VBG wearing) (NP (DT a) (NN night) (NN gown)))) (. .))\n",
      "No preps: NVN\n",
      "(S (NP (EX There)) (VP (VBP are) (NP (QP (RB at) (JJS least) (CD five)) (NNS ferrets))) (. .))\n",
      "No preps: NVN\n",
      "(S (NP (CD One) (NN image)) (VP (VBZ features) (NP (NP (JJ yellow) (NNS dandelions)) (CC and) (NP (CD one) (JJ white) (NN dog)))) (. .))\n",
      "No preps: NVN\n",
      "(S (NP (DT The) (JJ right) (NN image)) (VP (VBZ contains) (NP (QP (DT no) (JJR more) (IN than) (CD two)) (NNS humans))) (. .))\n",
      "No preps: NVN\n",
      "(S (NP (DT The) (ADJP (JJ left) (CC and) (JJ right)) (NN image)) (VP (VBZ contains) (NP (CD four) (NNS bananas))) (. .))\n",
      "No preps: NVNV\n",
      "(S (NP (EX There)) (VP (VBP are) (NP (NP (CD 2) (, ,) (ADJP (RB thinly) (JJ feathered)) (, ,) (NNP brown) (VBD headed) (NNS birds)) (VP (VBG facing) (ADVP (RB right))))) (. .))\n",
      "No preps: NVNVN\n",
      "(S (S (NP (DT All) (NNS dogs)) (VP (VBP have) (NP (NP (JJ tall) (JJ upright) (NNS ears)) (CC and) (NP (JJ brindle) (NN fur) (NN coloring))))) (, ,) (CC and) (S (NP (DT no) (NNS dogs)) (VP (VBP wear) (NP (NNS harnesses) (CC or) (NNS leashes)))) (. .))\n",
      "No preps: NVNVNVN\n",
      "(S (S (NP (CD One) (NN image)) (VP (VBZ shows) (S (NP (DT a) (JJ single) (NN standing) (NN cheetah)) (VP (VBG eyeing) (NP (DT the) (NN camera)))))) (, ,) (CC and) (S (NP (DT the) (JJ other) (NN image)) (VP (VBZ shows) (NP (JJ multiple) (, ,) (VBG interacting) (NNS cheetahs)))) (. .))\n",
      "No preps: NVN\n",
      "(S (NP (EX There)) (VP (VBP are) (NP (QP (DT no) (JJR more) (IN than) (CD 2)) (NNS groundhogs))) (. .))\n",
      "No preps: NVN\n",
      "(S (NP (DT The) (JJ left) (NN image)) (VP (VBZ contains) (NP (QP (DT no) (JJR more) (IN than) (CD one)) (NN antelope))) (. .))\n",
      "No preps: NVNV\n",
      "(S (NP (QP (RB Exactly) (CD two)) (NNS people)) (VP (VBP are) (VP (VBG getting) (S (NP (PRP$ their) (NN hair)) (VP (NN cut))))) (. .))\n",
      "No preps: NVN\n",
      "(S (NP (EX There)) (VP (VBP are) (NP (NN balloon) (NN table) (NNS centerpieces))) (. .))\n",
      "No preps: NVN\n",
      "(S (NP (DT a) (NN cabinet)) (VP (VBZ has) (NP (JJ straight) (NNS legs))))\n",
      "No preps: NVNVNV\n",
      "(S (S (NP (DT Each) (NN image)) (VP (VBZ contains) (NP (NP (CD one) (JJ old) (HYPH -) (JJ fashioned) (NN glass) (NN soda) (NN bottle)) (CC and) (NP (DT no) (JJ other) (NN glass) (NNS items))))) (, ,) (CC and) (S (NP (DT the) (NN lefthand) (NN bottle)) (VP (VBZ has) (NP (PRP$ its) (NN cap)) (PRT (RP on)) (, ,) (SBAR (IN while) (S (NP (DT the) (NN righthand) (NN one)) (VP (VBZ does) (RB not)))))) (. .))\n",
      "No preps: NVNVN\n",
      "(S (NP (DT The) (NN lefthand) (NN image)) (VP (VBZ shows) (S (NP (NNS fingers)) (VP (VBG touching) (NP (NP (DT a) (NN bird) (POS 's)) (JJ greenish) (NN wing) (NNS feathers))))) (. .))\n",
      "No preps: NVN\n",
      "(S (NP (EX There)) (VP (VBP are) (NP (CD three) (NNS dogs))) (. .))\n",
      "No preps: NVNVN\n",
      "(S (NP (QP (RB At) (RBS least) (CD one)) (NN image)) (VP (VBZ shows) (NP (NP (NP (JJ multiple) (JJ small) (NNS desserts)) (VP (VBG containing) (NP (NN chocolate)))) (HYPH -) (NP (JJ brown) (NN cream) (NNS layers)))) (. .))\n",
      "No preps: NVNVN\n",
      "(S (S (NP (QP (RB At) (RBS least) (CD one)) (NN guinea) (NN pig) (NN enclosure)) (VP (VBZ has) (NP (DT a) (ADJP (RB boldly) (VBN patterned)) (NN floor)))) (, ,) (CC and) (S (NP (CD one) (NN enclosure)) (VP (VBZ has) (NP (NP (NN wire) (NN mesh) (NNS walls)) (CC and) (NP (DT a) (JJ second) (NN story))))) (. .))\n",
      "No preps: NVNVNVNVNV\n",
      "(S (S (NP (DT The) (JJ left) (NN image)) (VP (VBZ contains) (NP (NP (DT a) (NN dog)) (SBAR (WHNP (WDT that)) (S (VP (VBZ is) (VP (VP (VBG standing) (ADVP (RP up))) (CC and) (VP (VBD turned) (ADVP (RB forward)))))))))) (, ,) (CC and) (S (NP (DT the) (JJ right) (NN image)) (VP (VBZ features) (NP (NP (DT a) (NN dog)) (VP (VBG wearing) (NP (DT a) (JJ blue) (NN collar)) (SBAR (IN with) (S (NP (PRP$ its) (NN head) (CC and) (NN gaze)) (VP (VBD raised)))))))) (. .))\n",
      "No preps: NVN\n",
      "(S (NP (EX There)) (VP (VBP are) (NP (NP (NNS drapes)) (, ,) (CC but) (NP (DT no) (NN bed) (CC or) (NN environment)))) (. .))\n",
      "No preps: NVN\n",
      "(S (NP (DT Both) (NNS images)) (VP (VBP show) (NP (QP (RB exactly) (CD two)) (NNS lemons))) (. .))\n",
      "No preps: NVNV\n",
      "(S (NP (CD One) (NN image)) (VP (VBZ shows) (NP (NP (NNS balloons)) (IN with) (NP (NP (VBG dangling) (, ,) (VBG curving) (`` ') (NNS strings)) ('' ') (SBAR (WHNP (WDT that)) (S (VP (VBP are) (RB not) (VP (VBN gathered) (ADVP (RB together))))))))) (. .))\n",
      "No preps: NVNVN\n",
      "(S (S (NP (DT The) (ADJP (JJ left) (CC and) (JJ right)) (NNS images)) (VP (VBP show) (NP (JJ similar) (NN canoe) (NNS designs)))) (, ,) (CC and) (S (NP (QP (RB at) (RBS least) (CD one)) (NN image)) (VP (VBZ shows) (NP (NP (JJ multiple) (NNS canoes)) (NN side) (PRN (HYPH -) (IN by) (HYPH -)) (NP (NN side))))) (. .))\n",
      "No preps: NVN\n",
      "(S (NP (DT The) (JJ right) (NN image)) (VP (VBZ contains) (NP (QP (IN at) (JJS least) (CD two)) (NNS cheetahs))) (. .))\n",
      "No preps: NVNVN\n",
      "(S (NP (DT The) (JJ left) (NN image)) (VP (VBZ contains) (NP (NP (DT a) (JJ single) (NN llama)) (, ,) (SBAR (WHNP (WDT which)) (S (VP (VP (VBZ faces) (ADVP (RB forward))) (CC and) (VP (VBZ is) (VP (VBG showing) (NP (JJ multiple) (JJR lower) (NNS teeth))))))))) (. .))\n",
      "No preps: NVN\n",
      "(S (NP (DT The) (JJ left) (NN image)) (VP (VBZ includes) (NP (NN lemon) (NNS leaves))) (. .))\n",
      "No preps: NVN\n",
      "(S (NP (EX There)) (VP (VBP are) (NP (QP (RB exactly) (CD three)) (NNS marmots))) (. .))\n",
      "No preps: NVNV\n",
      "(S (S (NP (DT The) (JJ left) (NN train)) (VP (VBZ is) (VP (VBG facing) (ADVP (RB right))))) (CC and) (S (NP (DT the) (JJ right) (NN train)) (VP (VBZ is) (VP (VBG facing) (ADVP (VBN left))))) (. .))\n",
      "No preps: NVN\n",
      "(S (NP (DT The) (JJ left) (NN image)) (VP (VBZ contains) (NP (DT a) (JJ white) (NN chihuahua))) (. .))\n",
      "No preps: NVN\n",
      "(S (NP (DT a) (NN chimp)) (VP (VBZ is) (VP (VBG eating) (NP (DT another) (NN animal)))))\n",
      "No preps: NVN\n",
      "(S (NP (DT The) (JJ right) (NN image)) (VP (VBZ contains) (NP (QP (DT no) (JJR more) (IN than) (CD two)) (NNS dogs))) (. .))\n",
      "No preps: NVN\n",
      "(S (NP (EX There)) (VP (VBZ is) (NP (NP (QP (IN at) (RBS least) (CD one)) (JJ closed) (NN pouch)) (CC and) (NP (CD one) (JJ open) (NN pouch)))) (. .))\n",
      "No preps: NVN\n",
      "(S (NP (DT all) (NN makeup) (NNS elements)) (VP (VBP are) (RB not) (VP (VBG touching) (NP (DT any) (JJ other) (NN element)))))\n",
      "No preps: NVNVNVNV\n",
      "(S (S (NP (CD One) (NN image)) (VP (VBZ contains) (NP (NP (QP (RB exactly) (CD three)) (JJ complete) (NNS flutes)) (VP (VBN displayed) (ADVP (RB horizontally)))))) (, ,) (CC and) (S (NP (DT each) (NN image)) (VP (VBZ contains) (NP (NP (QP (IN at) (RBS least) (CD two)) (NNS items)) (VP (VBD displayed) (ADVP (RB horizontally)))))) (. .))\n",
      "No preps: NVN\n",
      "(S (NP (EX There)) (VP (VBP are) (NP (QP (RB exactly) (CD four)) (NN window) (NNS shades))) (. .))\n",
      "No preps: NVN\n",
      "(S (NP (DT The) (JJ right) (NN image)) (VP (VBZ contains) (NP (QP (RB exactly) (CD three)) (NNS birds))) (. .))\n",
      "No preps: NVN\n",
      "(S (NP (DT The) (JJ right) (NN side) (NN image)) (VP (VBZ has) (NP (CD two) (NNS cups))))\n",
      "No preps: NVNV\n",
      "(S (NP (EX There)) (VP (VBZ is) (NP (QP (RB at) (RBS least) (CD one)) (NN image)) (, ,) (S (ADVP (EX there)) (VP (VBP are)))))\n",
      "No preps: NV\n",
      "(NP (NP (QP (RB at) (RBS least) (CD two)) (NN lip) (VBZ glosses)) (NP (NP (CD one) (JJ colored) (NN orange)) (CC and) (NP (NP (CD one)) (VP (JJ colored) (S (ADJP (NN black)))))) (. .))\n",
      "No preps: NVN\n",
      "(S (NP (EX There)) (VP (VBP are) (NP (CD four) (JJ blonde) (NNS women))) (. .))\n",
      "No preps: NVN\n",
      "(S (NP (EX There)) (VP (VBP are) (NP (CD three) (JJ wooden) (NN hanging) (NNS doors))) (. .))\n",
      "No preps: NVN\n",
      "(S (NP (DT The) (JJ left) (NN image)) (VP (VBZ contains) (NP (QP (DT no) (JJR more) (IN than) (CD one)) (NN sea) (NN lion))) (. .))\n",
      "No preps: NVN\n",
      "(S (NP (QP (RB At) (JJS least) (CD four)) (NNS women)) (VP (VBP are) (VP (VBG wearing) (NP (NNS graduations) (NNS caps)))) (. .))\n",
      "No preps: NVN\n",
      "(S (NP (DT The) (JJ left) (NN image)) (VP (VBZ contains) (NP (QP (DT no) (JJR more) (IN than) (CD three)) (NNS ducks))) (. .))\n",
      "No preps: NVN\n",
      "(S (NP (EX There)) (VP (VBP are) (NP (QP (JJR more) (IN than) (CD two)) (NNS dogs))) (. .))\n",
      "No preps: NVNVNVN\n",
      "(S (S (NP (CD One) (NNP doberman)) (VP (VP (VBZ faces) (ADVP (RB forward))) (CC and) (VP (VBZ wears) (NP (DT a) (NN collar))))) (, ,) (CC and) (S (NP (DT the) (JJ other) (NNP doberman)) (VP (VP (VBZ has) (S (NP (PRP$ its) (NN head)) (VP (VBN turned)))) (CC and) (VP (VBZ wears) (NP (DT no) (NN collar))))) (. .))\n",
      "No preps: NVN\n",
      "(S (NP (DT Each) (NN image)) (VP (VBZ includes) (NP (RB only) (DT a) (JJ single) (NN crab))) (. .))\n",
      "No preps: NVNVN\n",
      "(S (NP (DT The) (JJ left) (NN image)) (VP (VBZ shows) (NP (NP (QP (CD one) (CC or) (JJR more)) (NNS beakers)) (VP (VBG containing) (NP (NP (JJ only) (NN water)) (CC and) (NP (DT no) (NN ice)))))) (. .))\n",
      "No preps: NVNVN\n",
      "(S (NP (DT An) (NN image)) (VP (VBZ contains) (NP (NP (DT a) (ADJP (JJ black) (CC and) (JJ white)) (NN dog)) (VP (VBG climbing) (NP (DT a) (NN ladder))))) (. .))\n",
      "No preps: NVNV\n",
      "(S (S (NP (CD One) (NN dog) (NN team)) (VP (VBZ is) (VP (VBG wearing) (NP (NNS booties))))) (CC and) (S (NP (DT the) (JJ other) (NN dog) (NN team)) (VP (VBZ is) (RB not))) (. .))\n",
      "No preps: NVN\n",
      "(S (NP (QP (RB Only) (CD one)) (NN dog)) (VP (VBZ has) (NP (DT a) (JJ white) (NN chest))) (. .))\n",
      "No preps: NVN\n",
      "(S (NP (EX There)) (VP (VBZ is) (NP (NP (CD one) (JJ yellow) (NN lab) (NN puppy)) (CC and) (NP (QP (CD one) (CC or) (RBR more)) (RBR darker) (VBN colored) (NNP labrador) (NNP retriever) (NNS puppies)))))\n",
      "No preps: NVN\n",
      "(S (NP (CD One) (NN house)) (VP (VBZ has) (NP (DT a) (VBN covered) (NN porch))) (. .))\n",
      "No preps: NVN\n",
      "(S (NP (DT The) (JJ left) (NN image)) (VP (VBZ contains) (NP (QP (RB exactly) (CD two)) (NNS pandas))) (. .))\n",
      "No preps: NVNV\n",
      "(S (S (NP (DT All) (NNS dogs)) (VP (VBP are) (VP (VBN photographed) (ADVP (RB outside)) (SBAR (IN with) (S (NP (PRP$ their) (NNS mouths)) (ADJP (JJ open))))))) (CC and) (S (NP (QP (IN at) (JJS least) (CD one)) (NN dog)) (VP (VBZ is) (VP (ADVP (RB actively)) (VBG moving)))) (. .))\n",
      "No preps: NVNVN\n",
      "(S (S (NP (DT Each) (NN image)) (VP (VBZ contains) (NP (QP (RB only) (CD one)) (NN wolf)))) (, ,) (CC and) (S (NP (DT all) (NNS images)) (VP (VBP include) (NP (JJ snowy) (NNS backdrops)))) (. .))\n",
      "No preps: NVNV\n",
      "(S (NP (EX There)) (VP (VBP are) (S (NP (CD two) (NNS dogs)) (VP (VBG laying) (PRT (RP down))))) (. .))\n",
      "No preps: NV\n",
      "(S (NP (CD Two) (NNS women)) (VP (VBP are) (VP (VBG standing))) (. .))\n",
      "No preps: NVN\n",
      "(S (NP (EX There)) (VP (VBP are) (NP (NP (CD 2) (NNS syringes)) (ADJP (JJ total)))) (. .))\n",
      "No preps: NVNVNVN\n",
      "(S (S (NP (CD One) (NN image)) (VP (VBZ shows) (S (NP (JJ multiple) (NNS dogs)) (VP (VBD posed) (S (VP (VBG sitting) (ADJP (JJ upright)))))))) (, ,) (CC and) (S (NP (DT the) (JJ other) (NN image)) (VP (VBZ shows) (NP (DT a) (JJ single) (JJ large) (HYPH -) (NN breed) (NN dog)))) (. .))\n",
      "No preps: NVNVN\n",
      "(S (NP (QP (RB Only) (CD one)) (NN image)) (VP (VBZ shows) (S (NP (NNS warthogs)) (VP (VBG butting) (NP (NNS heads))))) (. .))\n",
      "No preps: NVN\n",
      "(S (NP (QP (RB At) (RBS least) (CD one)) (NNP cocker) (NN spaniel)) (VP (VBZ is) (VP (VBG facing) (NP (VBN left)))) (. .))\n",
      "No preps: NV\n",
      "(S (NP (QP (CD Three) (CC or) (JJR more)) (NNS fingers)) (VP (VBP are) (ADJP (JJ visible))) (. .))\n",
      "No preps: NVNV\n",
      "(S (NP (DT Each) (NN image)) (VP (VBZ contains) (NP (NP (NP (QP (RB exactly) (CD one)) (NN flute)) (CC and) (NP (NP (NN nothing)) (ADJP (RB else)))) (, ,) (VP (VBD displayed) (ADVP (RB diagonally))))) (. .))\n",
      "No preps: NVN\n",
      "(S (NP (PDT All) (DT the) (NNS chairs)) (VP (VBP have) (NP (NNS backs))) (. .))\n",
      "No preps: NVN\n",
      "(S (NP (DT Both) (NNS railings)) (VP (VBP have) (NP (DT a) (JJ vertical) (NN post) (NN design))) (. .))\n",
      "No preps: NVNVNV\n",
      "(S (NP (EX There)) (VP (VBP are) (NP (NP (QP (ADVP (IN at) (JJS least)) (_SP  ) (CD five)) (_SP  ) (NNS zebras)) (CC and) (NP (CD five) (NNS cows))) (VP (VBG grazing))) (. .))\n",
      "No preps: NVN\n",
      "(S (NP (CD One) (NN pizza)) (VP (VBZ contains) (NP (NN pepperoni))) (. .))\n",
      "No preps: NVNVN\n",
      "(S (NP (DT An) (NN image)) (VP (VBZ shows) (NP (NP (JJ beaded) (NN pin) (NN jewelry)) (VP (VBG featuring) (NP (NP (QP (RB at) (RBS least) (CD one)) (NN heart)) (HYPH -) (NP (VBN shaped) (NN element)))))) (. .))\n",
      "No preps: NVNV\n",
      "(S (NP (EX There)) (VP (VBP are) (NP (NP (QP (DT no) (JJR more) (IN than) (CD 2)) (NNS animals)) (VP (VBN featured)))) (. .))\n",
      "No preps: NVN\n",
      "(S (NP (CD One) (NN dog)) (VP (VBZ has) (NP (PRP$ its) (NN tongue)) (PRT (RP out))) (. .))\n",
      "No preps: NVN\n",
      "(S (NP (DT The) (JJ right) (NN image)) (VP (VBZ contains) (NP (QP (DT no) (JJR more) (IN than) (CD five)) (NNS ducks))) (. .))\n",
      "No preps: NVN\n",
      "(S (NP (EX There)) (VP (VBZ is) (NP (QP (RB exactly) (CD one)) (JJ curved) (NN staircase))) (. .))\n",
      "No preps: NVNVNV\n",
      "(S (NP (EX There)) (VP (VBP are) (S (NP (QP (RB at) (RBS least) (CD eight)) (NNS huskies)) (VP (VBG pulling) (NP (DT the) (NN snow) (VBD sled)) (ADVP (RB right) (CC and) (RB forward))))) (. .))\n",
      "No preps: NVN\n",
      "(S (S (NP (CD One) (NN image)) (VP (VBZ contains) (NP (QP (RB exactly) (CD three)) (NNS balloons)))) (, ,) (S (NP (DT the) (JJ other)) (QP (CD five) (QP (CC or) (JJR more)))) (. .))\n",
      "No preps: NV\n",
      "(S (NP (CD One) (NN bottle)) (VP (VBZ is) (ADJP (ADVP (ADVP (IN at) (JJS least)) (RB partly)) (JJ green))) (. .))\n",
      "No preps: NVN\n",
      "(S (NP (EX There)) (VP (VBP are) (NP (QP (RB exactly) (CD two)) (NNS animals))) (. .))\n",
      "No preps: NVN\n",
      "(S (NP (EX There)) (VP (VBP are) (NP (QP (RB exactly) (CD two)) (NNS marmots))) (. .))\n",
      "No preps: NVN\n",
      "(S (NP (EX There)) (VP (VBP are) (NP (QP (JJR more) (IN than) (CD three)) (NNS syringes))) (. .))\n",
      "No preps: NVNV\n",
      "(S (S (NP (CD One) (NN dog)) (VP (VBZ has) (S (NP (PRP$ its) (NN mouth)) (ADJP (JJ open))))) (CC and) (S (NP (NN tongue)) (VP (VBG hanging) (PRT (RP out)))) (. .))\n",
      "No preps: NVN\n",
      "(S (NP (EX There)) (VP (VBZ is) (NP (QP (RB exactly) (CD one)) (NN lid))) (. .))\n",
      "No preps: NVNV\n",
      "(S (NP (EX There)) (VP (VBZ is) (NP (NP (QP (RB exactly) (CD one)) (NNP doberman)) (SBAR (IN with) (S (NP (PRP$ its) (NNS ears)) (VP (VBN cut)))))) (. .))\n",
      "No preps: NVN\n",
      "(S (NP (EX There)) (VP (VBZ is) (NP (QP (IN at) (RBS least) (CD one)) (JJ blonde) (NN girl))) (. .))\n",
      "No preps: NVNV\n",
      "(S (NP (EX There)) (VP (VBZ is) (NP (NP (QP (IN at) (RBS most) (CD 1)) (NN adult) (NN dog)) (VP (VBG facing) (S (ADJP (NN left)))))) (. .))\n",
      "No preps: NVN\n",
      "(S (NP (QP (RB At) (RBS least) (CD one)) (NN dog)) (VP (MD can) (VP (VB be) (VP (VBN seen) (S (VP (VBG wearing) (NP (DT a) (NN collar) (CC and) (NN leash))))))) (. .))\n",
      "No preps: NVNV\n",
      "(S (NP (DT Every) (NN image)) (VP (VBZ shows) (S (NP (QP (RB exactly) (CD one)) (NN dog)) (VP (VBG running) (ADVP (RB outside))))) (. .))\n",
      "No preps: NVNVN\n",
      "(S (NP (DT These) (NNS dogs)) (VP (VBP are) (DT all) (VP (NNP weaing) (NP (NN pack) (NN equipment) (_SP  )) (S (VP (TO to) (VP (VB carry) (NP (NN gear))))))) (. .))\n",
      "No preps: NVN\n",
      "(S (NP (DT The) (JJ right) (NN image)) (VP (VBZ contains) (NP (CD three) (NNS locks))) (. .))\n",
      "No preps: NVNVNV\n",
      "(S (S (NP (CD One) (NN dog)) (VP (VBZ is) (VP (VBG wearing) (NP (DT a) (JJ red) (NN collar))))) (CC and) (S (NP (DT the) (JJ other) (NN dog)) (VP (VBZ has) (S (NP (NP (PRP it) (POS 's)) (NN tongue)) (VP (VBG hanging) (PRT (RP out)))))) (. .))\n",
      "No preps: NV\n",
      "(S (NP (QP (RB At) (JJS least) (CD one)) (NN animal)) (VP (VBZ is) (ADJP (JJ brown))) (. .))\n",
      "No preps: NVN\n",
      "(S (NP (EX There)) (VP (VBP are) (NP (QP (IN at) (JJS least) (CD four)) (NN jelly) (NN fish))) (. .))\n",
      "No preps: NVNV\n",
      "(S (NP (EX There)) (VP (VBP are) (NP (NP (QP (RB at) (RBS least) (CD three)) (VBN cooked) (NN triangle) (NNS calzones)) (VP (VBD displayed)))) (. .))\n",
      "No preps: NVN\n",
      "(S (NP (CD One) (NN dog)) (VP (VBZ is) (VP (VBG holding) (NP (DT a) (VBN stuffed) (NN dog)))) (. .))\n",
      "No preps: NVN\n",
      "(S (NP (EX There)) (VP (VBP are) (NP (QP (DT no) (JJR more) (IN than) (CD four)) (NNS blinds))) (. .))\n",
      "No preps: NVN\n",
      "(S (NP (EX There)) (VP (VBP are) (NP (CD two) (NN circle) (NN pizza))) (. .))\n",
      "No preps: NVN\n",
      "(S (NP (EX There)) (VP (VBP are) (NP (QP (IN at) (JJS least) (CD four)) (NNS keys))) (. .))\n",
      "No preps: NV\n",
      "(S (NP (NP (DT The) (NN phone) (POS 's)) (NN profile)) (VP (VBZ is) (VP (VBN shown))) (. .))\n",
      "No preps: NVN\n",
      "(S (NP (CD One) (JJ long) (JJ nosed) (NN dog)) (VP (VBZ is) (VP (VP (VBG rolling) (ADVP (RB over))) (CC and) (VP (VBG scratching) (NP (PRP$ its) (NN back))))) (. .))\n",
      "No preps: NVN\n",
      "(S (NP (EX There)) (VP (VBP are) (NP (QP (RB exactly) (CD two)) (NNS beakers))) (. .))\n",
      "No preps: NVN\n",
      "(S (NP (EX There)) (VP (VBP are) (NP (CD two) (PRN (, ,) (CC and) (NP (RB only) (CD two)) (, ,)) (NNS people))) (. .))\n",
      "No preps: NVN\n",
      "(S (NP (DT An) (NN image)) (VP (VBZ contains) (NP (QP (RB only) (CD one)) (NN gorilla))) (. .))\n",
      "No preps: NVN\n",
      "(S (NP (DT The) (VBN combined) (NNS images)) (VP (VBP include) (NP (NP (NP (DT a) (JJ pinkish)) (HYPH -) (NP (NN lavender) (NN scarf))) (CC and) (NP (DT a) (JJ solid) (JJ blue) (NN scarf)))) (. .))\n",
      "No preps: NVN\n",
      "(S (NP (EX There)) (VP (VBP are) (NP (QP (IN at) (RBS least) (CD two)) (NNP Chevy) (NNP Corvette) (JJ convertible) (NNS cars))) (. .))\n",
      "No preps: NVN\n",
      "(S (NP (NNS Images)) (VP (VBP contain) (NP (QP (JJR more) (IN than) (CD one)) (NN animal))))\n",
      "No preps: NV\n",
      "(S (NP (QP (DT No) (JJR more) (IN than) (CD two)) (NNS cheetahs)) (VP (VBP are) (ADJP (JJ present))) (. .))\n",
      "No preps: NV\n",
      "(S (NP (CD One) (VBG sliding) (NN door)) (VP (VBZ is) (ADJP (VBN closed))) (. .))\n",
      "No preps: NVN\n",
      "(S (NP (DT A) (NN dog)) (VP (VBZ has) (VP (VBN retrieved) (NP (DT a) (JJ dead) (NN duck)))) (. .))\n",
      "No preps: NVN\n",
      "(S (NP (EX There)) (VP (VBZ is) (S (NP (CD one) (NN chimney)) (ADJP (JJ visible)))) (. .))\n",
      "No preps: NVNVN\n",
      "(S (NP (JJ Right) (NN image)) (VP (VBZ shows) (NP (NP (CD one) (VBN opened) (JJ black) (NN case)) (VP (VBG containing) (NP (DT a) (NN saxophone))))) (. .))\n",
      "No preps: NVN\n",
      "(S (NP (PRP it)) (VP (VBZ 's) (NP (JJ blue) (CC and) (NNP red) (NNP box))) (. .))\n",
      "No preps: NVN\n",
      "(S (NP (DT The) (JJ left) (NN image)) (VP (VBZ contains) (NP (QP (RB exactly) (CD two)) (NNS dogs))) (. .))\n",
      "No preps: NVNVN\n",
      "(S (NP (CD One) (NN image)) (VP (VBZ contains) (NP (NP (DT a) (NN product)) (SBAR (WHNP (WDT that)) (S (VP (VBZ is) (RB not) (NP (NN body) (NN lotion))))))) (. .))\n",
      "No preps: NVNVNVNV\n",
      "(S (S (NP (DT The) (JJ left) (NN image)) (VP (VBZ features) (NP (NP (DT a) (RB left)) (HYPH -) (VP (VBG facing) (NP (NNP wolf) (NN pup)))))) (, ,) (CC and) (S (NP (DT the) (JJ right) (NN image)) (VP (VBZ includes) (NP (NP (CD one) (NN adult) (NN wolf)) (VP (VBG facing) (ADVP (RB right)))))) (. .))\n",
      "No preps: NVNV\n",
      "(S (NP (EX There)) (VP (VBZ is) (NP (NP (DT a) (NN guinea) (NN pig)) (SBAR (WHNP (WDT that)) (S (VP (VBZ is) (RB not) (VP (VBG swimming))))))) (. .))\n",
      "No preps: NVN\n",
      "(S (NP (EX There)) (VP (VBP are) (NP (QP (RB at) (RBS least) (CD two)) (JJ clear) (NNS dispensers))) (. .))\n",
      "No preps: NVN\n",
      "(S (NP (CD One) (NN net)) (VP (VBZ has) (NP (JJ pale) (JJ blue) (NN trim))) (. .))\n",
      "No preps: NVNV\n",
      "(S (NP (PDT All) (DT the) (NNS syringes)) (VP (VBP have) (NP (NP (NNS needles)) (VP (VBN attached)))) (. .))\n",
      "No preps: NVNVN\n",
      "(S (S (NP (CD One) (NN image)) (VP (VBZ includes) (NP (DT a) (JJ fuzzy) (NN baby) (NN penguin)))) (, ,) (CC and) (S (NP (DT the) (JJ other)) (ADVP (RB only)) (VP (VBZ contains) (NP (NN adult) (NNS penguins)))) (. .))\n",
      "No preps: NVN\n",
      "(S (NP (EX There)) (VP (VBP are) (NP (NP (QP (RB exactly) (CD two)) (JJ fluffy) (NNS dogs)) (CC and) (NP (DT no) (NNS reflections)))) (. .))\n",
      "No preps: NVN\n",
      "(S (NP (DT A) (NN dog)) (VP (VBZ has) (S (NP (PRP$ its) (NN mouth)) (ADJP (JJ open)))) (. .))\n",
      "No preps: NVN\n",
      "(S (NP (DT The) (JJ left) (NN image)) (VP (VBZ contains) (NP (QP (RB exactly) (CD two)) (NNS warthogs))) (. .))\n"
     ]
    }
   ],
   "source": [
    "my_predictions = [has_pp_attachment_ambiguity(parse) for parse in all_parses]"
   ]
  },
  {
   "cell_type": "code",
   "execution_count": 20,
   "metadata": {},
   "outputs": [],
   "source": [
    "their_predictions = [p[1] for p in annotated_parses]"
   ]
  },
  {
   "cell_type": "code",
   "execution_count": 21,
   "metadata": {},
   "outputs": [],
   "source": [
    "import numpy as np\n",
    "import sklearn\n"
   ]
  },
  {
   "cell_type": "code",
   "execution_count": 22,
   "metadata": {},
   "outputs": [],
   "source": [
    "mine = np.array([int(boo) for boo in my_predictions])\n",
    "theirs = np.array([int(boo) for boo in their_predictions])\n",
    "false_positives = [all_parses[i] for i in range(len(all_parses)) if mine[i]>theirs[i]]"
   ]
  },
  {
   "cell_type": "code",
   "execution_count": 23,
   "metadata": {},
   "outputs": [
    {
     "data": {
      "text/plain": [
       "304"
      ]
     },
     "execution_count": 23,
     "metadata": {},
     "output_type": "execute_result"
    }
   ],
   "source": [
    "len(false_positives)"
   ]
  },
  {
   "cell_type": "code",
   "execution_count": 24,
   "metadata": {},
   "outputs": [],
   "source": [
    "fp_stuff = [get_pp_attachment_ambiguity(parse) for parse in false_positives]"
   ]
  },
  {
   "cell_type": "code",
   "execution_count": 25,
   "metadata": {},
   "outputs": [
    {
     "data": {
      "text/plain": [
       "304"
      ]
     },
     "execution_count": 25,
     "metadata": {},
     "output_type": "execute_result"
    }
   ],
   "source": [
    "len(fp_stuff)"
   ]
  },
  {
   "cell_type": "code",
   "execution_count": 26,
   "metadata": {},
   "outputs": [],
   "source": [
    "from collections import Counter"
   ]
  },
  {
   "cell_type": "code",
   "execution_count": 27,
   "metadata": {},
   "outputs": [
    {
     "data": {
      "text/plain": [
       "Counter({'VNPN': 303, 'VPNPN': 1})"
      ]
     },
     "execution_count": 27,
     "metadata": {},
     "output_type": "execute_result"
    }
   ],
   "source": [
    "Counter([fp[1] for fp in fp_stuff])"
   ]
  },
  {
   "cell_type": "code",
   "execution_count": 28,
   "metadata": {},
   "outputs": [],
   "source": [
    "interesting = [false_positives[i] for i in range(len(false_positives)) if fp_stuff[i][1]=='VNPN']"
   ]
  },
  {
   "cell_type": "code",
   "execution_count": 29,
   "metadata": {},
   "outputs": [
    {
     "data": {
      "text/plain": [
       "303"
      ]
     },
     "execution_count": 29,
     "metadata": {},
     "output_type": "execute_result"
    }
   ],
   "source": [
    "len(interesting)"
   ]
  },
  {
   "cell_type": "code",
   "execution_count": 30,
   "metadata": {},
   "outputs": [
    {
     "data": {
      "text/plain": [
       "'(S (NP (NP (CD One)) (PP (IN of) (NP (NP (DT the) (NNS images)) (PP (IN in) (NP (DT the) (NN pair)))))) (VP (VBZ shows) (NP (NP (DT a) (NN dog)) (PP (IN with) (NP (DT a) (NN tennis) (NN ball))))) (. .))'"
      ]
     },
     "execution_count": 30,
     "metadata": {},
     "output_type": "execute_result"
    }
   ],
   "source": [
    "interesting[141]"
   ]
  },
  {
   "cell_type": "code",
   "execution_count": 31,
   "metadata": {},
   "outputs": [],
   "source": [
    "moreinteresting = [false_positives[i] for i in range(len(false_positives)) if not fp_stuff[i][1]=='VNPN']"
   ]
  },
  {
   "cell_type": "code",
   "execution_count": 32,
   "metadata": {},
   "outputs": [
    {
     "data": {
      "text/plain": [
       "'(S (NP (NP (DT The) (NN device)) (PP (IN on) (NP (DT the) (NN right)))) (VP (VBZ is) (VP (VBN viewed) (ADVP (S (ADJP (NN head))) (HYPH -) (RP on)) (, ,) (SBAR (SBAR (IN while) (S (NP (NP (DT the) (CD one)) (PP (IN on) (NP (DT the) (NN left)))) (VP (VBZ is) (VP (VBN angled) (S (VP (VBG facing) (ADVP (RB rightward)))))))) (, ,) (CC and) (S (NP (DT both) (NNS devices)) (VP (VBP have) (S (NP (DT the) (NN screen)) (VP (VBD slid) (ADVP (RP up)) (S (VP (TO to) (VP (VB show) (NP (DT the) (NN keyboard)))))))))))) (. .))'"
      ]
     },
     "execution_count": 32,
     "metadata": {},
     "output_type": "execute_result"
    }
   ],
   "source": [
    "moreinteresting[0]"
   ]
  },
  {
   "cell_type": "code",
   "execution_count": null,
   "metadata": {},
   "outputs": [],
   "source": [
    "def search_parses(regex, parses):\n",
    "    for parse in parses:\n",
    "        if re.search(regex, parse):\n",
    "            yield parse"
   ]
  },
  {
   "cell_type": "code",
   "execution_count": 36,
   "metadata": {},
   "outputs": [
    {
     "name": "stdout",
     "output_type": "stream",
     "text": [
      "NPNVNPNVNVNVN\n"
     ]
    },
    {
     "data": {
      "text/plain": [
       "True"
      ]
     },
     "execution_count": 36,
     "metadata": {},
     "output_type": "execute_result"
    }
   ],
   "source": [
    "has_pp_attachment_ambiguity(moreinteresting[0])"
   ]
  },
  {
   "cell_type": "code",
   "execution_count": 37,
   "metadata": {},
   "outputs": [
    {
     "data": {
      "text/plain": [
       "803"
      ]
     },
     "execution_count": 37,
     "metadata": {},
     "output_type": "execute_result"
    }
   ],
   "source": [
    "len(my_predictions)"
   ]
  },
  {
   "cell_type": "code",
   "execution_count": 39,
   "metadata": {},
   "outputs": [
    {
     "data": {
      "text/plain": [
       "360"
      ]
     },
     "execution_count": 39,
     "metadata": {},
     "output_type": "execute_result"
    }
   ],
   "source": [
    "len([my for my in my_predictions if my])"
   ]
  },
  {
   "cell_type": "code",
   "execution_count": 46,
   "metadata": {},
   "outputs": [
    {
     "data": {
      "text/plain": [
       "94"
      ]
     },
     "execution_count": 46,
     "metadata": {},
     "output_type": "execute_result"
    }
   ],
   "source": [
    "len([their for their in their_predictions if their])"
   ]
  },
  {
   "cell_type": "code",
   "execution_count": 41,
   "metadata": {},
   "outputs": [
    {
     "data": {
      "text/plain": [
       "461"
      ]
     },
     "execution_count": 41,
     "metadata": {},
     "output_type": "execute_result"
    }
   ],
   "source": [
    "len([1 for (x,y) in zip(my_predictions, their_predictions) if x == y])"
   ]
  },
  {
   "cell_type": "code",
   "execution_count": 38,
   "metadata": {},
   "outputs": [
    {
     "data": {
      "text/plain": [
       "803"
      ]
     },
     "execution_count": 38,
     "metadata": {},
     "output_type": "execute_result"
    }
   ],
   "source": [
    "len(their_predictions)"
   ]
  },
  {
   "cell_type": "code",
   "execution_count": 42,
   "metadata": {},
   "outputs": [],
   "source": [
    "# TP = 54/92\n",
    "# FP = 303/800\n",
    "# TN = \n",
    "\n",
    "precision = 54/360\n",
    "recall = 54/92\n",
    "accuracy = 458/800"
   ]
  },
  {
   "cell_type": "code",
   "execution_count": 43,
   "metadata": {},
   "outputs": [
    {
     "data": {
      "text/plain": [
       "0.15"
      ]
     },
     "execution_count": 43,
     "metadata": {},
     "output_type": "execute_result"
    }
   ],
   "source": [
    "precision"
   ]
  },
  {
   "cell_type": "code",
   "execution_count": 44,
   "metadata": {},
   "outputs": [
    {
     "data": {
      "text/plain": [
       "0.5869565217391305"
      ]
     },
     "execution_count": 44,
     "metadata": {},
     "output_type": "execute_result"
    }
   ],
   "source": [
    "recall"
   ]
  },
  {
   "cell_type": "code",
   "execution_count": 45,
   "metadata": {},
   "outputs": [
    {
     "data": {
      "text/plain": [
       "0.5725"
      ]
     },
     "execution_count": 45,
     "metadata": {},
     "output_type": "execute_result"
    }
   ],
   "source": [
    "accuracy"
   ]
  },
  {
   "cell_type": "code",
   "execution_count": null,
   "metadata": {},
   "outputs": [],
   "source": []
  }
 ],
 "metadata": {
  "kernelspec": {
   "display_name": "Python 3",
   "language": "python",
   "name": "python3"
  },
  "language_info": {
   "codemirror_mode": {
    "name": "ipython",
    "version": 3
   },
   "file_extension": ".py",
   "mimetype": "text/x-python",
   "name": "python",
   "nbconvert_exporter": "python",
   "pygments_lexer": "ipython3",
   "version": "3.6.7"
  }
 },
 "nbformat": 4,
 "nbformat_minor": 2
}
